{
  "nbformat": 4,
  "nbformat_minor": 0,
  "metadata": {
    "colab": {
      "provenance": [],
      "gpuType": "T4",
      "authorship_tag": "ABX9TyOsD0uX56IZNVaszRkF84EI",
      "include_colab_link": true
    },
    "kernelspec": {
      "name": "python3",
      "display_name": "Python 3"
    },
    "language_info": {
      "name": "python"
    },
    "accelerator": "GPU",
    "widgets": {
      "application/vnd.jupyter.widget-state+json": {
        "d995eacf9e66495081d119b37e47270c": {
          "model_module": "@jupyter-widgets/controls",
          "model_name": "HBoxModel",
          "model_module_version": "1.5.0",
          "state": {
            "_dom_classes": [],
            "_model_module": "@jupyter-widgets/controls",
            "_model_module_version": "1.5.0",
            "_model_name": "HBoxModel",
            "_view_count": null,
            "_view_module": "@jupyter-widgets/controls",
            "_view_module_version": "1.5.0",
            "_view_name": "HBoxView",
            "box_style": "",
            "children": [
              "IPY_MODEL_cae3cf4068d64f35813b269750c8187e",
              "IPY_MODEL_091eba7a7f3f4dafbb54499705edd34c",
              "IPY_MODEL_c8695f33ef0a4219b388e50940821061"
            ],
            "layout": "IPY_MODEL_df31148644c142f9a93a605cf0972e89"
          }
        },
        "cae3cf4068d64f35813b269750c8187e": {
          "model_module": "@jupyter-widgets/controls",
          "model_name": "HTMLModel",
          "model_module_version": "1.5.0",
          "state": {
            "_dom_classes": [],
            "_model_module": "@jupyter-widgets/controls",
            "_model_module_version": "1.5.0",
            "_model_name": "HTMLModel",
            "_view_count": null,
            "_view_module": "@jupyter-widgets/controls",
            "_view_module_version": "1.5.0",
            "_view_name": "HTMLView",
            "description": "",
            "description_tooltip": null,
            "layout": "IPY_MODEL_d53a751a54ab4b68a4d374197164b037",
            "placeholder": "​",
            "style": "IPY_MODEL_c2dff0b664c2479a9f68f13f1c9900a6",
            "value": "config.json: 100%"
          }
        },
        "091eba7a7f3f4dafbb54499705edd34c": {
          "model_module": "@jupyter-widgets/controls",
          "model_name": "FloatProgressModel",
          "model_module_version": "1.5.0",
          "state": {
            "_dom_classes": [],
            "_model_module": "@jupyter-widgets/controls",
            "_model_module_version": "1.5.0",
            "_model_name": "FloatProgressModel",
            "_view_count": null,
            "_view_module": "@jupyter-widgets/controls",
            "_view_module_version": "1.5.0",
            "_view_name": "ProgressView",
            "bar_style": "success",
            "description": "",
            "description_tooltip": null,
            "layout": "IPY_MODEL_f1f4b83199de41cebb3cc518904db838",
            "max": 1317,
            "min": 0,
            "orientation": "horizontal",
            "style": "IPY_MODEL_39c0f7ef281643bcb56de4fc848cf953",
            "value": 1317
          }
        },
        "c8695f33ef0a4219b388e50940821061": {
          "model_module": "@jupyter-widgets/controls",
          "model_name": "HTMLModel",
          "model_module_version": "1.5.0",
          "state": {
            "_dom_classes": [],
            "_model_module": "@jupyter-widgets/controls",
            "_model_module_version": "1.5.0",
            "_model_name": "HTMLModel",
            "_view_count": null,
            "_view_module": "@jupyter-widgets/controls",
            "_view_module_version": "1.5.0",
            "_view_name": "HTMLView",
            "description": "",
            "description_tooltip": null,
            "layout": "IPY_MODEL_71e12b675979403ebe256c121699fae4",
            "placeholder": "​",
            "style": "IPY_MODEL_757c176973ba41728cb0e9023edb4275",
            "value": " 1.32k/1.32k [00:00&lt;00:00, 113kB/s]"
          }
        },
        "df31148644c142f9a93a605cf0972e89": {
          "model_module": "@jupyter-widgets/base",
          "model_name": "LayoutModel",
          "model_module_version": "1.2.0",
          "state": {
            "_model_module": "@jupyter-widgets/base",
            "_model_module_version": "1.2.0",
            "_model_name": "LayoutModel",
            "_view_count": null,
            "_view_module": "@jupyter-widgets/base",
            "_view_module_version": "1.2.0",
            "_view_name": "LayoutView",
            "align_content": null,
            "align_items": null,
            "align_self": null,
            "border": null,
            "bottom": null,
            "display": null,
            "flex": null,
            "flex_flow": null,
            "grid_area": null,
            "grid_auto_columns": null,
            "grid_auto_flow": null,
            "grid_auto_rows": null,
            "grid_column": null,
            "grid_gap": null,
            "grid_row": null,
            "grid_template_areas": null,
            "grid_template_columns": null,
            "grid_template_rows": null,
            "height": null,
            "justify_content": null,
            "justify_items": null,
            "left": null,
            "margin": null,
            "max_height": null,
            "max_width": null,
            "min_height": null,
            "min_width": null,
            "object_fit": null,
            "object_position": null,
            "order": null,
            "overflow": null,
            "overflow_x": null,
            "overflow_y": null,
            "padding": null,
            "right": null,
            "top": null,
            "visibility": null,
            "width": null
          }
        },
        "d53a751a54ab4b68a4d374197164b037": {
          "model_module": "@jupyter-widgets/base",
          "model_name": "LayoutModel",
          "model_module_version": "1.2.0",
          "state": {
            "_model_module": "@jupyter-widgets/base",
            "_model_module_version": "1.2.0",
            "_model_name": "LayoutModel",
            "_view_count": null,
            "_view_module": "@jupyter-widgets/base",
            "_view_module_version": "1.2.0",
            "_view_name": "LayoutView",
            "align_content": null,
            "align_items": null,
            "align_self": null,
            "border": null,
            "bottom": null,
            "display": null,
            "flex": null,
            "flex_flow": null,
            "grid_area": null,
            "grid_auto_columns": null,
            "grid_auto_flow": null,
            "grid_auto_rows": null,
            "grid_column": null,
            "grid_gap": null,
            "grid_row": null,
            "grid_template_areas": null,
            "grid_template_columns": null,
            "grid_template_rows": null,
            "height": null,
            "justify_content": null,
            "justify_items": null,
            "left": null,
            "margin": null,
            "max_height": null,
            "max_width": null,
            "min_height": null,
            "min_width": null,
            "object_fit": null,
            "object_position": null,
            "order": null,
            "overflow": null,
            "overflow_x": null,
            "overflow_y": null,
            "padding": null,
            "right": null,
            "top": null,
            "visibility": null,
            "width": null
          }
        },
        "c2dff0b664c2479a9f68f13f1c9900a6": {
          "model_module": "@jupyter-widgets/controls",
          "model_name": "DescriptionStyleModel",
          "model_module_version": "1.5.0",
          "state": {
            "_model_module": "@jupyter-widgets/controls",
            "_model_module_version": "1.5.0",
            "_model_name": "DescriptionStyleModel",
            "_view_count": null,
            "_view_module": "@jupyter-widgets/base",
            "_view_module_version": "1.2.0",
            "_view_name": "StyleView",
            "description_width": ""
          }
        },
        "f1f4b83199de41cebb3cc518904db838": {
          "model_module": "@jupyter-widgets/base",
          "model_name": "LayoutModel",
          "model_module_version": "1.2.0",
          "state": {
            "_model_module": "@jupyter-widgets/base",
            "_model_module_version": "1.2.0",
            "_model_name": "LayoutModel",
            "_view_count": null,
            "_view_module": "@jupyter-widgets/base",
            "_view_module_version": "1.2.0",
            "_view_name": "LayoutView",
            "align_content": null,
            "align_items": null,
            "align_self": null,
            "border": null,
            "bottom": null,
            "display": null,
            "flex": null,
            "flex_flow": null,
            "grid_area": null,
            "grid_auto_columns": null,
            "grid_auto_flow": null,
            "grid_auto_rows": null,
            "grid_column": null,
            "grid_gap": null,
            "grid_row": null,
            "grid_template_areas": null,
            "grid_template_columns": null,
            "grid_template_rows": null,
            "height": null,
            "justify_content": null,
            "justify_items": null,
            "left": null,
            "margin": null,
            "max_height": null,
            "max_width": null,
            "min_height": null,
            "min_width": null,
            "object_fit": null,
            "object_position": null,
            "order": null,
            "overflow": null,
            "overflow_x": null,
            "overflow_y": null,
            "padding": null,
            "right": null,
            "top": null,
            "visibility": null,
            "width": null
          }
        },
        "39c0f7ef281643bcb56de4fc848cf953": {
          "model_module": "@jupyter-widgets/controls",
          "model_name": "ProgressStyleModel",
          "model_module_version": "1.5.0",
          "state": {
            "_model_module": "@jupyter-widgets/controls",
            "_model_module_version": "1.5.0",
            "_model_name": "ProgressStyleModel",
            "_view_count": null,
            "_view_module": "@jupyter-widgets/base",
            "_view_module_version": "1.2.0",
            "_view_name": "StyleView",
            "bar_color": null,
            "description_width": ""
          }
        },
        "71e12b675979403ebe256c121699fae4": {
          "model_module": "@jupyter-widgets/base",
          "model_name": "LayoutModel",
          "model_module_version": "1.2.0",
          "state": {
            "_model_module": "@jupyter-widgets/base",
            "_model_module_version": "1.2.0",
            "_model_name": "LayoutModel",
            "_view_count": null,
            "_view_module": "@jupyter-widgets/base",
            "_view_module_version": "1.2.0",
            "_view_name": "LayoutView",
            "align_content": null,
            "align_items": null,
            "align_self": null,
            "border": null,
            "bottom": null,
            "display": null,
            "flex": null,
            "flex_flow": null,
            "grid_area": null,
            "grid_auto_columns": null,
            "grid_auto_flow": null,
            "grid_auto_rows": null,
            "grid_column": null,
            "grid_gap": null,
            "grid_row": null,
            "grid_template_areas": null,
            "grid_template_columns": null,
            "grid_template_rows": null,
            "height": null,
            "justify_content": null,
            "justify_items": null,
            "left": null,
            "margin": null,
            "max_height": null,
            "max_width": null,
            "min_height": null,
            "min_width": null,
            "object_fit": null,
            "object_position": null,
            "order": null,
            "overflow": null,
            "overflow_x": null,
            "overflow_y": null,
            "padding": null,
            "right": null,
            "top": null,
            "visibility": null,
            "width": null
          }
        },
        "757c176973ba41728cb0e9023edb4275": {
          "model_module": "@jupyter-widgets/controls",
          "model_name": "DescriptionStyleModel",
          "model_module_version": "1.5.0",
          "state": {
            "_model_module": "@jupyter-widgets/controls",
            "_model_module_version": "1.5.0",
            "_model_name": "DescriptionStyleModel",
            "_view_count": null,
            "_view_module": "@jupyter-widgets/base",
            "_view_module_version": "1.2.0",
            "_view_name": "StyleView",
            "description_width": ""
          }
        },
        "f20de47a1d9d442da2606812bb2ce1b7": {
          "model_module": "@jupyter-widgets/controls",
          "model_name": "HBoxModel",
          "model_module_version": "1.5.0",
          "state": {
            "_dom_classes": [],
            "_model_module": "@jupyter-widgets/controls",
            "_model_module_version": "1.5.0",
            "_model_name": "HBoxModel",
            "_view_count": null,
            "_view_module": "@jupyter-widgets/controls",
            "_view_module_version": "1.5.0",
            "_view_name": "HBoxView",
            "box_style": "",
            "children": [
              "IPY_MODEL_c55b5611c47149d8ad3956a7d7389905",
              "IPY_MODEL_8e81cf0305f44dbe87d0f573cb86ecfe",
              "IPY_MODEL_6decac635a0640dabd76674770c57913"
            ],
            "layout": "IPY_MODEL_0b77c0a9ef5a44f1bab4e588cc11bf4a"
          }
        },
        "c55b5611c47149d8ad3956a7d7389905": {
          "model_module": "@jupyter-widgets/controls",
          "model_name": "HTMLModel",
          "model_module_version": "1.5.0",
          "state": {
            "_dom_classes": [],
            "_model_module": "@jupyter-widgets/controls",
            "_model_module_version": "1.5.0",
            "_model_name": "HTMLModel",
            "_view_count": null,
            "_view_module": "@jupyter-widgets/controls",
            "_view_module_version": "1.5.0",
            "_view_name": "HTMLView",
            "description": "",
            "description_tooltip": null,
            "layout": "IPY_MODEL_780db0e9d28a416e88f1ce889aacf5de",
            "placeholder": "​",
            "style": "IPY_MODEL_2c04470372414212ab60aebe172c38c4",
            "value": "model.safetensors: 100%"
          }
        },
        "8e81cf0305f44dbe87d0f573cb86ecfe": {
          "model_module": "@jupyter-widgets/controls",
          "model_name": "FloatProgressModel",
          "model_module_version": "1.5.0",
          "state": {
            "_dom_classes": [],
            "_model_module": "@jupyter-widgets/controls",
            "_model_module_version": "1.5.0",
            "_model_name": "FloatProgressModel",
            "_view_count": null,
            "_view_module": "@jupyter-widgets/controls",
            "_view_module_version": "1.5.0",
            "_view_name": "ProgressView",
            "bar_style": "success",
            "description": "",
            "description_tooltip": null,
            "layout": "IPY_MODEL_1496439c0d82409a8f5f1560c5e5675f",
            "max": 2945137152,
            "min": 0,
            "orientation": "horizontal",
            "style": "IPY_MODEL_a1a8b4a1e0654dd2baf955f105e72e5e",
            "value": 2945137152
          }
        },
        "6decac635a0640dabd76674770c57913": {
          "model_module": "@jupyter-widgets/controls",
          "model_name": "HTMLModel",
          "model_module_version": "1.5.0",
          "state": {
            "_dom_classes": [],
            "_model_module": "@jupyter-widgets/controls",
            "_model_module_version": "1.5.0",
            "_model_name": "HTMLModel",
            "_view_count": null,
            "_view_module": "@jupyter-widgets/controls",
            "_view_module_version": "1.5.0",
            "_view_name": "HTMLView",
            "description": "",
            "description_tooltip": null,
            "layout": "IPY_MODEL_23e6dc2b1a6249319abf9486ee46b97d",
            "placeholder": "​",
            "style": "IPY_MODEL_1b5667695b674fda9240cce234460937",
            "value": " 2.95G/2.95G [01:58&lt;00:00, 24.7MB/s]"
          }
        },
        "0b77c0a9ef5a44f1bab4e588cc11bf4a": {
          "model_module": "@jupyter-widgets/base",
          "model_name": "LayoutModel",
          "model_module_version": "1.2.0",
          "state": {
            "_model_module": "@jupyter-widgets/base",
            "_model_module_version": "1.2.0",
            "_model_name": "LayoutModel",
            "_view_count": null,
            "_view_module": "@jupyter-widgets/base",
            "_view_module_version": "1.2.0",
            "_view_name": "LayoutView",
            "align_content": null,
            "align_items": null,
            "align_self": null,
            "border": null,
            "bottom": null,
            "display": null,
            "flex": null,
            "flex_flow": null,
            "grid_area": null,
            "grid_auto_columns": null,
            "grid_auto_flow": null,
            "grid_auto_rows": null,
            "grid_column": null,
            "grid_gap": null,
            "grid_row": null,
            "grid_template_areas": null,
            "grid_template_columns": null,
            "grid_template_rows": null,
            "height": null,
            "justify_content": null,
            "justify_items": null,
            "left": null,
            "margin": null,
            "max_height": null,
            "max_width": null,
            "min_height": null,
            "min_width": null,
            "object_fit": null,
            "object_position": null,
            "order": null,
            "overflow": null,
            "overflow_x": null,
            "overflow_y": null,
            "padding": null,
            "right": null,
            "top": null,
            "visibility": null,
            "width": null
          }
        },
        "780db0e9d28a416e88f1ce889aacf5de": {
          "model_module": "@jupyter-widgets/base",
          "model_name": "LayoutModel",
          "model_module_version": "1.2.0",
          "state": {
            "_model_module": "@jupyter-widgets/base",
            "_model_module_version": "1.2.0",
            "_model_name": "LayoutModel",
            "_view_count": null,
            "_view_module": "@jupyter-widgets/base",
            "_view_module_version": "1.2.0",
            "_view_name": "LayoutView",
            "align_content": null,
            "align_items": null,
            "align_self": null,
            "border": null,
            "bottom": null,
            "display": null,
            "flex": null,
            "flex_flow": null,
            "grid_area": null,
            "grid_auto_columns": null,
            "grid_auto_flow": null,
            "grid_auto_rows": null,
            "grid_column": null,
            "grid_gap": null,
            "grid_row": null,
            "grid_template_areas": null,
            "grid_template_columns": null,
            "grid_template_rows": null,
            "height": null,
            "justify_content": null,
            "justify_items": null,
            "left": null,
            "margin": null,
            "max_height": null,
            "max_width": null,
            "min_height": null,
            "min_width": null,
            "object_fit": null,
            "object_position": null,
            "order": null,
            "overflow": null,
            "overflow_x": null,
            "overflow_y": null,
            "padding": null,
            "right": null,
            "top": null,
            "visibility": null,
            "width": null
          }
        },
        "2c04470372414212ab60aebe172c38c4": {
          "model_module": "@jupyter-widgets/controls",
          "model_name": "DescriptionStyleModel",
          "model_module_version": "1.5.0",
          "state": {
            "_model_module": "@jupyter-widgets/controls",
            "_model_module_version": "1.5.0",
            "_model_name": "DescriptionStyleModel",
            "_view_count": null,
            "_view_module": "@jupyter-widgets/base",
            "_view_module_version": "1.2.0",
            "_view_name": "StyleView",
            "description_width": ""
          }
        },
        "1496439c0d82409a8f5f1560c5e5675f": {
          "model_module": "@jupyter-widgets/base",
          "model_name": "LayoutModel",
          "model_module_version": "1.2.0",
          "state": {
            "_model_module": "@jupyter-widgets/base",
            "_model_module_version": "1.2.0",
            "_model_name": "LayoutModel",
            "_view_count": null,
            "_view_module": "@jupyter-widgets/base",
            "_view_module_version": "1.2.0",
            "_view_name": "LayoutView",
            "align_content": null,
            "align_items": null,
            "align_self": null,
            "border": null,
            "bottom": null,
            "display": null,
            "flex": null,
            "flex_flow": null,
            "grid_area": null,
            "grid_auto_columns": null,
            "grid_auto_flow": null,
            "grid_auto_rows": null,
            "grid_column": null,
            "grid_gap": null,
            "grid_row": null,
            "grid_template_areas": null,
            "grid_template_columns": null,
            "grid_template_rows": null,
            "height": null,
            "justify_content": null,
            "justify_items": null,
            "left": null,
            "margin": null,
            "max_height": null,
            "max_width": null,
            "min_height": null,
            "min_width": null,
            "object_fit": null,
            "object_position": null,
            "order": null,
            "overflow": null,
            "overflow_x": null,
            "overflow_y": null,
            "padding": null,
            "right": null,
            "top": null,
            "visibility": null,
            "width": null
          }
        },
        "a1a8b4a1e0654dd2baf955f105e72e5e": {
          "model_module": "@jupyter-widgets/controls",
          "model_name": "ProgressStyleModel",
          "model_module_version": "1.5.0",
          "state": {
            "_model_module": "@jupyter-widgets/controls",
            "_model_module_version": "1.5.0",
            "_model_name": "ProgressStyleModel",
            "_view_count": null,
            "_view_module": "@jupyter-widgets/base",
            "_view_module_version": "1.2.0",
            "_view_name": "StyleView",
            "bar_color": null,
            "description_width": ""
          }
        },
        "23e6dc2b1a6249319abf9486ee46b97d": {
          "model_module": "@jupyter-widgets/base",
          "model_name": "LayoutModel",
          "model_module_version": "1.2.0",
          "state": {
            "_model_module": "@jupyter-widgets/base",
            "_model_module_version": "1.2.0",
            "_model_name": "LayoutModel",
            "_view_count": null,
            "_view_module": "@jupyter-widgets/base",
            "_view_module_version": "1.2.0",
            "_view_name": "LayoutView",
            "align_content": null,
            "align_items": null,
            "align_self": null,
            "border": null,
            "bottom": null,
            "display": null,
            "flex": null,
            "flex_flow": null,
            "grid_area": null,
            "grid_auto_columns": null,
            "grid_auto_flow": null,
            "grid_auto_rows": null,
            "grid_column": null,
            "grid_gap": null,
            "grid_row": null,
            "grid_template_areas": null,
            "grid_template_columns": null,
            "grid_template_rows": null,
            "height": null,
            "justify_content": null,
            "justify_items": null,
            "left": null,
            "margin": null,
            "max_height": null,
            "max_width": null,
            "min_height": null,
            "min_width": null,
            "object_fit": null,
            "object_position": null,
            "order": null,
            "overflow": null,
            "overflow_x": null,
            "overflow_y": null,
            "padding": null,
            "right": null,
            "top": null,
            "visibility": null,
            "width": null
          }
        },
        "1b5667695b674fda9240cce234460937": {
          "model_module": "@jupyter-widgets/controls",
          "model_name": "DescriptionStyleModel",
          "model_module_version": "1.5.0",
          "state": {
            "_model_module": "@jupyter-widgets/controls",
            "_model_module_version": "1.5.0",
            "_model_name": "DescriptionStyleModel",
            "_view_count": null,
            "_view_module": "@jupyter-widgets/base",
            "_view_module_version": "1.2.0",
            "_view_name": "StyleView",
            "description_width": ""
          }
        },
        "0860eea1de4147e0a9fe30e735499e7b": {
          "model_module": "@jupyter-widgets/controls",
          "model_name": "HBoxModel",
          "model_module_version": "1.5.0",
          "state": {
            "_dom_classes": [],
            "_model_module": "@jupyter-widgets/controls",
            "_model_module_version": "1.5.0",
            "_model_name": "HBoxModel",
            "_view_count": null,
            "_view_module": "@jupyter-widgets/controls",
            "_view_module_version": "1.5.0",
            "_view_name": "HBoxView",
            "box_style": "",
            "children": [
              "IPY_MODEL_f2b72e9489ec4b28b682ef6e838181ee",
              "IPY_MODEL_5e730bdb9b674d43814432d7b971cca2",
              "IPY_MODEL_c661ac61f1cd40c58a4d6484d660cdd8"
            ],
            "layout": "IPY_MODEL_af78abaf821b4e4880ad9501eef032ab"
          }
        },
        "f2b72e9489ec4b28b682ef6e838181ee": {
          "model_module": "@jupyter-widgets/controls",
          "model_name": "HTMLModel",
          "model_module_version": "1.5.0",
          "state": {
            "_dom_classes": [],
            "_model_module": "@jupyter-widgets/controls",
            "_model_module_version": "1.5.0",
            "_model_name": "HTMLModel",
            "_view_count": null,
            "_view_module": "@jupyter-widgets/controls",
            "_view_module_version": "1.5.0",
            "_view_name": "HTMLView",
            "description": "",
            "description_tooltip": null,
            "layout": "IPY_MODEL_5eecbfb339a946af8407f2ce719901dd",
            "placeholder": "​",
            "style": "IPY_MODEL_0ec364c436d945db937e5df6a66d397c",
            "value": "generation_config.json: 100%"
          }
        },
        "5e730bdb9b674d43814432d7b971cca2": {
          "model_module": "@jupyter-widgets/controls",
          "model_name": "FloatProgressModel",
          "model_module_version": "1.5.0",
          "state": {
            "_dom_classes": [],
            "_model_module": "@jupyter-widgets/controls",
            "_model_module_version": "1.5.0",
            "_model_name": "FloatProgressModel",
            "_view_count": null,
            "_view_module": "@jupyter-widgets/controls",
            "_view_module_version": "1.5.0",
            "_view_name": "ProgressView",
            "bar_style": "success",
            "description": "",
            "description_tooltip": null,
            "layout": "IPY_MODEL_9c4aa5c0ec2a4e9794357fad49b45d57",
            "max": 249,
            "min": 0,
            "orientation": "horizontal",
            "style": "IPY_MODEL_37288c5c7be0491aa21873e88f27e403",
            "value": 249
          }
        },
        "c661ac61f1cd40c58a4d6484d660cdd8": {
          "model_module": "@jupyter-widgets/controls",
          "model_name": "HTMLModel",
          "model_module_version": "1.5.0",
          "state": {
            "_dom_classes": [],
            "_model_module": "@jupyter-widgets/controls",
            "_model_module_version": "1.5.0",
            "_model_name": "HTMLModel",
            "_view_count": null,
            "_view_module": "@jupyter-widgets/controls",
            "_view_module_version": "1.5.0",
            "_view_name": "HTMLView",
            "description": "",
            "description_tooltip": null,
            "layout": "IPY_MODEL_2894e314421a456ca6bf2736ec5a7cf5",
            "placeholder": "​",
            "style": "IPY_MODEL_a9a25230793b406fb9f5b2759469ae22",
            "value": " 249/249 [00:00&lt;00:00, 21.7kB/s]"
          }
        },
        "af78abaf821b4e4880ad9501eef032ab": {
          "model_module": "@jupyter-widgets/base",
          "model_name": "LayoutModel",
          "model_module_version": "1.2.0",
          "state": {
            "_model_module": "@jupyter-widgets/base",
            "_model_module_version": "1.2.0",
            "_model_name": "LayoutModel",
            "_view_count": null,
            "_view_module": "@jupyter-widgets/base",
            "_view_module_version": "1.2.0",
            "_view_name": "LayoutView",
            "align_content": null,
            "align_items": null,
            "align_self": null,
            "border": null,
            "bottom": null,
            "display": null,
            "flex": null,
            "flex_flow": null,
            "grid_area": null,
            "grid_auto_columns": null,
            "grid_auto_flow": null,
            "grid_auto_rows": null,
            "grid_column": null,
            "grid_gap": null,
            "grid_row": null,
            "grid_template_areas": null,
            "grid_template_columns": null,
            "grid_template_rows": null,
            "height": null,
            "justify_content": null,
            "justify_items": null,
            "left": null,
            "margin": null,
            "max_height": null,
            "max_width": null,
            "min_height": null,
            "min_width": null,
            "object_fit": null,
            "object_position": null,
            "order": null,
            "overflow": null,
            "overflow_x": null,
            "overflow_y": null,
            "padding": null,
            "right": null,
            "top": null,
            "visibility": null,
            "width": null
          }
        },
        "5eecbfb339a946af8407f2ce719901dd": {
          "model_module": "@jupyter-widgets/base",
          "model_name": "LayoutModel",
          "model_module_version": "1.2.0",
          "state": {
            "_model_module": "@jupyter-widgets/base",
            "_model_module_version": "1.2.0",
            "_model_name": "LayoutModel",
            "_view_count": null,
            "_view_module": "@jupyter-widgets/base",
            "_view_module_version": "1.2.0",
            "_view_name": "LayoutView",
            "align_content": null,
            "align_items": null,
            "align_self": null,
            "border": null,
            "bottom": null,
            "display": null,
            "flex": null,
            "flex_flow": null,
            "grid_area": null,
            "grid_auto_columns": null,
            "grid_auto_flow": null,
            "grid_auto_rows": null,
            "grid_column": null,
            "grid_gap": null,
            "grid_row": null,
            "grid_template_areas": null,
            "grid_template_columns": null,
            "grid_template_rows": null,
            "height": null,
            "justify_content": null,
            "justify_items": null,
            "left": null,
            "margin": null,
            "max_height": null,
            "max_width": null,
            "min_height": null,
            "min_width": null,
            "object_fit": null,
            "object_position": null,
            "order": null,
            "overflow": null,
            "overflow_x": null,
            "overflow_y": null,
            "padding": null,
            "right": null,
            "top": null,
            "visibility": null,
            "width": null
          }
        },
        "0ec364c436d945db937e5df6a66d397c": {
          "model_module": "@jupyter-widgets/controls",
          "model_name": "DescriptionStyleModel",
          "model_module_version": "1.5.0",
          "state": {
            "_model_module": "@jupyter-widgets/controls",
            "_model_module_version": "1.5.0",
            "_model_name": "DescriptionStyleModel",
            "_view_count": null,
            "_view_module": "@jupyter-widgets/base",
            "_view_module_version": "1.2.0",
            "_view_name": "StyleView",
            "description_width": ""
          }
        },
        "9c4aa5c0ec2a4e9794357fad49b45d57": {
          "model_module": "@jupyter-widgets/base",
          "model_name": "LayoutModel",
          "model_module_version": "1.2.0",
          "state": {
            "_model_module": "@jupyter-widgets/base",
            "_model_module_version": "1.2.0",
            "_model_name": "LayoutModel",
            "_view_count": null,
            "_view_module": "@jupyter-widgets/base",
            "_view_module_version": "1.2.0",
            "_view_name": "LayoutView",
            "align_content": null,
            "align_items": null,
            "align_self": null,
            "border": null,
            "bottom": null,
            "display": null,
            "flex": null,
            "flex_flow": null,
            "grid_area": null,
            "grid_auto_columns": null,
            "grid_auto_flow": null,
            "grid_auto_rows": null,
            "grid_column": null,
            "grid_gap": null,
            "grid_row": null,
            "grid_template_areas": null,
            "grid_template_columns": null,
            "grid_template_rows": null,
            "height": null,
            "justify_content": null,
            "justify_items": null,
            "left": null,
            "margin": null,
            "max_height": null,
            "max_width": null,
            "min_height": null,
            "min_width": null,
            "object_fit": null,
            "object_position": null,
            "order": null,
            "overflow": null,
            "overflow_x": null,
            "overflow_y": null,
            "padding": null,
            "right": null,
            "top": null,
            "visibility": null,
            "width": null
          }
        },
        "37288c5c7be0491aa21873e88f27e403": {
          "model_module": "@jupyter-widgets/controls",
          "model_name": "ProgressStyleModel",
          "model_module_version": "1.5.0",
          "state": {
            "_model_module": "@jupyter-widgets/controls",
            "_model_module_version": "1.5.0",
            "_model_name": "ProgressStyleModel",
            "_view_count": null,
            "_view_module": "@jupyter-widgets/base",
            "_view_module_version": "1.2.0",
            "_view_name": "StyleView",
            "bar_color": null,
            "description_width": ""
          }
        },
        "2894e314421a456ca6bf2736ec5a7cf5": {
          "model_module": "@jupyter-widgets/base",
          "model_name": "LayoutModel",
          "model_module_version": "1.2.0",
          "state": {
            "_model_module": "@jupyter-widgets/base",
            "_model_module_version": "1.2.0",
            "_model_name": "LayoutModel",
            "_view_count": null,
            "_view_module": "@jupyter-widgets/base",
            "_view_module_version": "1.2.0",
            "_view_name": "LayoutView",
            "align_content": null,
            "align_items": null,
            "align_self": null,
            "border": null,
            "bottom": null,
            "display": null,
            "flex": null,
            "flex_flow": null,
            "grid_area": null,
            "grid_auto_columns": null,
            "grid_auto_flow": null,
            "grid_auto_rows": null,
            "grid_column": null,
            "grid_gap": null,
            "grid_row": null,
            "grid_template_areas": null,
            "grid_template_columns": null,
            "grid_template_rows": null,
            "height": null,
            "justify_content": null,
            "justify_items": null,
            "left": null,
            "margin": null,
            "max_height": null,
            "max_width": null,
            "min_height": null,
            "min_width": null,
            "object_fit": null,
            "object_position": null,
            "order": null,
            "overflow": null,
            "overflow_x": null,
            "overflow_y": null,
            "padding": null,
            "right": null,
            "top": null,
            "visibility": null,
            "width": null
          }
        },
        "a9a25230793b406fb9f5b2759469ae22": {
          "model_module": "@jupyter-widgets/controls",
          "model_name": "DescriptionStyleModel",
          "model_module_version": "1.5.0",
          "state": {
            "_model_module": "@jupyter-widgets/controls",
            "_model_module_version": "1.5.0",
            "_model_name": "DescriptionStyleModel",
            "_view_count": null,
            "_view_module": "@jupyter-widgets/base",
            "_view_module_version": "1.2.0",
            "_view_name": "StyleView",
            "description_width": ""
          }
        },
        "0444bf353f4342c1962b288e63249fc3": {
          "model_module": "@jupyter-widgets/controls",
          "model_name": "HBoxModel",
          "model_module_version": "1.5.0",
          "state": {
            "_dom_classes": [],
            "_model_module": "@jupyter-widgets/controls",
            "_model_module_version": "1.5.0",
            "_model_name": "HBoxModel",
            "_view_count": null,
            "_view_module": "@jupyter-widgets/controls",
            "_view_module_version": "1.5.0",
            "_view_name": "HBoxView",
            "box_style": "",
            "children": [
              "IPY_MODEL_ac8f9645eaf64979bddb6d35874f1cc1",
              "IPY_MODEL_b8be304079eb4b76861505213d21cf16",
              "IPY_MODEL_7a34782d8f3e47f3bcd37c5ed164252b"
            ],
            "layout": "IPY_MODEL_176171eb73ac483f97fef689ad9a11e1"
          }
        },
        "ac8f9645eaf64979bddb6d35874f1cc1": {
          "model_module": "@jupyter-widgets/controls",
          "model_name": "HTMLModel",
          "model_module_version": "1.5.0",
          "state": {
            "_dom_classes": [],
            "_model_module": "@jupyter-widgets/controls",
            "_model_module_version": "1.5.0",
            "_model_name": "HTMLModel",
            "_view_count": null,
            "_view_module": "@jupyter-widgets/controls",
            "_view_module_version": "1.5.0",
            "_view_name": "HTMLView",
            "description": "",
            "description_tooltip": null,
            "layout": "IPY_MODEL_33044b36643644aa8234791340643bcf",
            "placeholder": "​",
            "style": "IPY_MODEL_f2f11677f1224ed19c8a5de5ea1e93e5",
            "value": "preprocessor_config.json: 100%"
          }
        },
        "b8be304079eb4b76861505213d21cf16": {
          "model_module": "@jupyter-widgets/controls",
          "model_name": "FloatProgressModel",
          "model_module_version": "1.5.0",
          "state": {
            "_dom_classes": [],
            "_model_module": "@jupyter-widgets/controls",
            "_model_module_version": "1.5.0",
            "_model_name": "FloatProgressModel",
            "_view_count": null,
            "_view_module": "@jupyter-widgets/controls",
            "_view_module_version": "1.5.0",
            "_view_name": "ProgressView",
            "bar_style": "success",
            "description": "",
            "description_tooltip": null,
            "layout": "IPY_MODEL_d824c78ae31f42b09482d58ab117b3c6",
            "max": 594,
            "min": 0,
            "orientation": "horizontal",
            "style": "IPY_MODEL_300d55f3b36a46d4adbae0ac7f7ad95d",
            "value": 594
          }
        },
        "7a34782d8f3e47f3bcd37c5ed164252b": {
          "model_module": "@jupyter-widgets/controls",
          "model_name": "HTMLModel",
          "model_module_version": "1.5.0",
          "state": {
            "_dom_classes": [],
            "_model_module": "@jupyter-widgets/controls",
            "_model_module_version": "1.5.0",
            "_model_name": "HTMLModel",
            "_view_count": null,
            "_view_module": "@jupyter-widgets/controls",
            "_view_module_version": "1.5.0",
            "_view_name": "HTMLView",
            "description": "",
            "description_tooltip": null,
            "layout": "IPY_MODEL_72ace1aa4b1a43fdae24572a047e5e4d",
            "placeholder": "​",
            "style": "IPY_MODEL_865c4be9b83e412aa7c4479dad1d0d30",
            "value": " 594/594 [00:00&lt;00:00, 46.2kB/s]"
          }
        },
        "176171eb73ac483f97fef689ad9a11e1": {
          "model_module": "@jupyter-widgets/base",
          "model_name": "LayoutModel",
          "model_module_version": "1.2.0",
          "state": {
            "_model_module": "@jupyter-widgets/base",
            "_model_module_version": "1.2.0",
            "_model_name": "LayoutModel",
            "_view_count": null,
            "_view_module": "@jupyter-widgets/base",
            "_view_module_version": "1.2.0",
            "_view_name": "LayoutView",
            "align_content": null,
            "align_items": null,
            "align_self": null,
            "border": null,
            "bottom": null,
            "display": null,
            "flex": null,
            "flex_flow": null,
            "grid_area": null,
            "grid_auto_columns": null,
            "grid_auto_flow": null,
            "grid_auto_rows": null,
            "grid_column": null,
            "grid_gap": null,
            "grid_row": null,
            "grid_template_areas": null,
            "grid_template_columns": null,
            "grid_template_rows": null,
            "height": null,
            "justify_content": null,
            "justify_items": null,
            "left": null,
            "margin": null,
            "max_height": null,
            "max_width": null,
            "min_height": null,
            "min_width": null,
            "object_fit": null,
            "object_position": null,
            "order": null,
            "overflow": null,
            "overflow_x": null,
            "overflow_y": null,
            "padding": null,
            "right": null,
            "top": null,
            "visibility": null,
            "width": null
          }
        },
        "33044b36643644aa8234791340643bcf": {
          "model_module": "@jupyter-widgets/base",
          "model_name": "LayoutModel",
          "model_module_version": "1.2.0",
          "state": {
            "_model_module": "@jupyter-widgets/base",
            "_model_module_version": "1.2.0",
            "_model_name": "LayoutModel",
            "_view_count": null,
            "_view_module": "@jupyter-widgets/base",
            "_view_module_version": "1.2.0",
            "_view_name": "LayoutView",
            "align_content": null,
            "align_items": null,
            "align_self": null,
            "border": null,
            "bottom": null,
            "display": null,
            "flex": null,
            "flex_flow": null,
            "grid_area": null,
            "grid_auto_columns": null,
            "grid_auto_flow": null,
            "grid_auto_rows": null,
            "grid_column": null,
            "grid_gap": null,
            "grid_row": null,
            "grid_template_areas": null,
            "grid_template_columns": null,
            "grid_template_rows": null,
            "height": null,
            "justify_content": null,
            "justify_items": null,
            "left": null,
            "margin": null,
            "max_height": null,
            "max_width": null,
            "min_height": null,
            "min_width": null,
            "object_fit": null,
            "object_position": null,
            "order": null,
            "overflow": null,
            "overflow_x": null,
            "overflow_y": null,
            "padding": null,
            "right": null,
            "top": null,
            "visibility": null,
            "width": null
          }
        },
        "f2f11677f1224ed19c8a5de5ea1e93e5": {
          "model_module": "@jupyter-widgets/controls",
          "model_name": "DescriptionStyleModel",
          "model_module_version": "1.5.0",
          "state": {
            "_model_module": "@jupyter-widgets/controls",
            "_model_module_version": "1.5.0",
            "_model_name": "DescriptionStyleModel",
            "_view_count": null,
            "_view_module": "@jupyter-widgets/base",
            "_view_module_version": "1.2.0",
            "_view_name": "StyleView",
            "description_width": ""
          }
        },
        "d824c78ae31f42b09482d58ab117b3c6": {
          "model_module": "@jupyter-widgets/base",
          "model_name": "LayoutModel",
          "model_module_version": "1.2.0",
          "state": {
            "_model_module": "@jupyter-widgets/base",
            "_model_module_version": "1.2.0",
            "_model_name": "LayoutModel",
            "_view_count": null,
            "_view_module": "@jupyter-widgets/base",
            "_view_module_version": "1.2.0",
            "_view_name": "LayoutView",
            "align_content": null,
            "align_items": null,
            "align_self": null,
            "border": null,
            "bottom": null,
            "display": null,
            "flex": null,
            "flex_flow": null,
            "grid_area": null,
            "grid_auto_columns": null,
            "grid_auto_flow": null,
            "grid_auto_rows": null,
            "grid_column": null,
            "grid_gap": null,
            "grid_row": null,
            "grid_template_areas": null,
            "grid_template_columns": null,
            "grid_template_rows": null,
            "height": null,
            "justify_content": null,
            "justify_items": null,
            "left": null,
            "margin": null,
            "max_height": null,
            "max_width": null,
            "min_height": null,
            "min_width": null,
            "object_fit": null,
            "object_position": null,
            "order": null,
            "overflow": null,
            "overflow_x": null,
            "overflow_y": null,
            "padding": null,
            "right": null,
            "top": null,
            "visibility": null,
            "width": null
          }
        },
        "300d55f3b36a46d4adbae0ac7f7ad95d": {
          "model_module": "@jupyter-widgets/controls",
          "model_name": "ProgressStyleModel",
          "model_module_version": "1.5.0",
          "state": {
            "_model_module": "@jupyter-widgets/controls",
            "_model_module_version": "1.5.0",
            "_model_name": "ProgressStyleModel",
            "_view_count": null,
            "_view_module": "@jupyter-widgets/base",
            "_view_module_version": "1.2.0",
            "_view_name": "StyleView",
            "bar_color": null,
            "description_width": ""
          }
        },
        "72ace1aa4b1a43fdae24572a047e5e4d": {
          "model_module": "@jupyter-widgets/base",
          "model_name": "LayoutModel",
          "model_module_version": "1.2.0",
          "state": {
            "_model_module": "@jupyter-widgets/base",
            "_model_module_version": "1.2.0",
            "_model_name": "LayoutModel",
            "_view_count": null,
            "_view_module": "@jupyter-widgets/base",
            "_view_module_version": "1.2.0",
            "_view_name": "LayoutView",
            "align_content": null,
            "align_items": null,
            "align_self": null,
            "border": null,
            "bottom": null,
            "display": null,
            "flex": null,
            "flex_flow": null,
            "grid_area": null,
            "grid_auto_columns": null,
            "grid_auto_flow": null,
            "grid_auto_rows": null,
            "grid_column": null,
            "grid_gap": null,
            "grid_row": null,
            "grid_template_areas": null,
            "grid_template_columns": null,
            "grid_template_rows": null,
            "height": null,
            "justify_content": null,
            "justify_items": null,
            "left": null,
            "margin": null,
            "max_height": null,
            "max_width": null,
            "min_height": null,
            "min_width": null,
            "object_fit": null,
            "object_position": null,
            "order": null,
            "overflow": null,
            "overflow_x": null,
            "overflow_y": null,
            "padding": null,
            "right": null,
            "top": null,
            "visibility": null,
            "width": null
          }
        },
        "865c4be9b83e412aa7c4479dad1d0d30": {
          "model_module": "@jupyter-widgets/controls",
          "model_name": "DescriptionStyleModel",
          "model_module_version": "1.5.0",
          "state": {
            "_model_module": "@jupyter-widgets/controls",
            "_model_module_version": "1.5.0",
            "_model_name": "DescriptionStyleModel",
            "_view_count": null,
            "_view_module": "@jupyter-widgets/base",
            "_view_module_version": "1.2.0",
            "_view_name": "StyleView",
            "description_width": ""
          }
        },
        "82a0fe75892641c58f5537c264b536eb": {
          "model_module": "@jupyter-widgets/controls",
          "model_name": "HBoxModel",
          "model_module_version": "1.5.0",
          "state": {
            "_dom_classes": [],
            "_model_module": "@jupyter-widgets/controls",
            "_model_module_version": "1.5.0",
            "_model_name": "HBoxModel",
            "_view_count": null,
            "_view_module": "@jupyter-widgets/controls",
            "_view_module_version": "1.5.0",
            "_view_name": "HBoxView",
            "box_style": "",
            "children": [
              "IPY_MODEL_a49cb94916f743819d8b4032f5fc181e",
              "IPY_MODEL_d0a0179b56bc4b5091addcdedf058471",
              "IPY_MODEL_8f4af7b6f5e744a29a339c6b4fdb40b0"
            ],
            "layout": "IPY_MODEL_c26b2cb988b245718e0f4130cbe06a91"
          }
        },
        "a49cb94916f743819d8b4032f5fc181e": {
          "model_module": "@jupyter-widgets/controls",
          "model_name": "HTMLModel",
          "model_module_version": "1.5.0",
          "state": {
            "_dom_classes": [],
            "_model_module": "@jupyter-widgets/controls",
            "_model_module_version": "1.5.0",
            "_model_name": "HTMLModel",
            "_view_count": null,
            "_view_module": "@jupyter-widgets/controls",
            "_view_module_version": "1.5.0",
            "_view_name": "HTMLView",
            "description": "",
            "description_tooltip": null,
            "layout": "IPY_MODEL_b773f489cdd94f4c89655292614d5701",
            "placeholder": "​",
            "style": "IPY_MODEL_0f7837facba14dd68c25cbf26e846318",
            "value": "tokenizer_config.json: 100%"
          }
        },
        "d0a0179b56bc4b5091addcdedf058471": {
          "model_module": "@jupyter-widgets/controls",
          "model_name": "FloatProgressModel",
          "model_module_version": "1.5.0",
          "state": {
            "_dom_classes": [],
            "_model_module": "@jupyter-widgets/controls",
            "_model_module_version": "1.5.0",
            "_model_name": "FloatProgressModel",
            "_view_count": null,
            "_view_module": "@jupyter-widgets/controls",
            "_view_module_version": "1.5.0",
            "_view_name": "ProgressView",
            "bar_style": "success",
            "description": "",
            "description_tooltip": null,
            "layout": "IPY_MODEL_b2ba9bc1ecba4052b78de865bc778d72",
            "max": 4297,
            "min": 0,
            "orientation": "horizontal",
            "style": "IPY_MODEL_b8f6e393882b4a7fafbc21ffe31bde7b",
            "value": 4297
          }
        },
        "8f4af7b6f5e744a29a339c6b4fdb40b0": {
          "model_module": "@jupyter-widgets/controls",
          "model_name": "HTMLModel",
          "model_module_version": "1.5.0",
          "state": {
            "_dom_classes": [],
            "_model_module": "@jupyter-widgets/controls",
            "_model_module_version": "1.5.0",
            "_model_name": "HTMLModel",
            "_view_count": null,
            "_view_module": "@jupyter-widgets/controls",
            "_view_module_version": "1.5.0",
            "_view_name": "HTMLView",
            "description": "",
            "description_tooltip": null,
            "layout": "IPY_MODEL_ce5aeca64ee14f649d2914ad82650fc5",
            "placeholder": "​",
            "style": "IPY_MODEL_ac262bc3c57b4ceeba0f9bd925b35cf4",
            "value": " 4.30k/4.30k [00:00&lt;00:00, 329kB/s]"
          }
        },
        "c26b2cb988b245718e0f4130cbe06a91": {
          "model_module": "@jupyter-widgets/base",
          "model_name": "LayoutModel",
          "model_module_version": "1.2.0",
          "state": {
            "_model_module": "@jupyter-widgets/base",
            "_model_module_version": "1.2.0",
            "_model_name": "LayoutModel",
            "_view_count": null,
            "_view_module": "@jupyter-widgets/base",
            "_view_module_version": "1.2.0",
            "_view_name": "LayoutView",
            "align_content": null,
            "align_items": null,
            "align_self": null,
            "border": null,
            "bottom": null,
            "display": null,
            "flex": null,
            "flex_flow": null,
            "grid_area": null,
            "grid_auto_columns": null,
            "grid_auto_flow": null,
            "grid_auto_rows": null,
            "grid_column": null,
            "grid_gap": null,
            "grid_row": null,
            "grid_template_areas": null,
            "grid_template_columns": null,
            "grid_template_rows": null,
            "height": null,
            "justify_content": null,
            "justify_items": null,
            "left": null,
            "margin": null,
            "max_height": null,
            "max_width": null,
            "min_height": null,
            "min_width": null,
            "object_fit": null,
            "object_position": null,
            "order": null,
            "overflow": null,
            "overflow_x": null,
            "overflow_y": null,
            "padding": null,
            "right": null,
            "top": null,
            "visibility": null,
            "width": null
          }
        },
        "b773f489cdd94f4c89655292614d5701": {
          "model_module": "@jupyter-widgets/base",
          "model_name": "LayoutModel",
          "model_module_version": "1.2.0",
          "state": {
            "_model_module": "@jupyter-widgets/base",
            "_model_module_version": "1.2.0",
            "_model_name": "LayoutModel",
            "_view_count": null,
            "_view_module": "@jupyter-widgets/base",
            "_view_module_version": "1.2.0",
            "_view_name": "LayoutView",
            "align_content": null,
            "align_items": null,
            "align_self": null,
            "border": null,
            "bottom": null,
            "display": null,
            "flex": null,
            "flex_flow": null,
            "grid_area": null,
            "grid_auto_columns": null,
            "grid_auto_flow": null,
            "grid_auto_rows": null,
            "grid_column": null,
            "grid_gap": null,
            "grid_row": null,
            "grid_template_areas": null,
            "grid_template_columns": null,
            "grid_template_rows": null,
            "height": null,
            "justify_content": null,
            "justify_items": null,
            "left": null,
            "margin": null,
            "max_height": null,
            "max_width": null,
            "min_height": null,
            "min_width": null,
            "object_fit": null,
            "object_position": null,
            "order": null,
            "overflow": null,
            "overflow_x": null,
            "overflow_y": null,
            "padding": null,
            "right": null,
            "top": null,
            "visibility": null,
            "width": null
          }
        },
        "0f7837facba14dd68c25cbf26e846318": {
          "model_module": "@jupyter-widgets/controls",
          "model_name": "DescriptionStyleModel",
          "model_module_version": "1.5.0",
          "state": {
            "_model_module": "@jupyter-widgets/controls",
            "_model_module_version": "1.5.0",
            "_model_name": "DescriptionStyleModel",
            "_view_count": null,
            "_view_module": "@jupyter-widgets/base",
            "_view_module_version": "1.2.0",
            "_view_name": "StyleView",
            "description_width": ""
          }
        },
        "b2ba9bc1ecba4052b78de865bc778d72": {
          "model_module": "@jupyter-widgets/base",
          "model_name": "LayoutModel",
          "model_module_version": "1.2.0",
          "state": {
            "_model_module": "@jupyter-widgets/base",
            "_model_module_version": "1.2.0",
            "_model_name": "LayoutModel",
            "_view_count": null,
            "_view_module": "@jupyter-widgets/base",
            "_view_module_version": "1.2.0",
            "_view_name": "LayoutView",
            "align_content": null,
            "align_items": null,
            "align_self": null,
            "border": null,
            "bottom": null,
            "display": null,
            "flex": null,
            "flex_flow": null,
            "grid_area": null,
            "grid_auto_columns": null,
            "grid_auto_flow": null,
            "grid_auto_rows": null,
            "grid_column": null,
            "grid_gap": null,
            "grid_row": null,
            "grid_template_areas": null,
            "grid_template_columns": null,
            "grid_template_rows": null,
            "height": null,
            "justify_content": null,
            "justify_items": null,
            "left": null,
            "margin": null,
            "max_height": null,
            "max_width": null,
            "min_height": null,
            "min_width": null,
            "object_fit": null,
            "object_position": null,
            "order": null,
            "overflow": null,
            "overflow_x": null,
            "overflow_y": null,
            "padding": null,
            "right": null,
            "top": null,
            "visibility": null,
            "width": null
          }
        },
        "b8f6e393882b4a7fafbc21ffe31bde7b": {
          "model_module": "@jupyter-widgets/controls",
          "model_name": "ProgressStyleModel",
          "model_module_version": "1.5.0",
          "state": {
            "_model_module": "@jupyter-widgets/controls",
            "_model_module_version": "1.5.0",
            "_model_name": "ProgressStyleModel",
            "_view_count": null,
            "_view_module": "@jupyter-widgets/base",
            "_view_module_version": "1.2.0",
            "_view_name": "StyleView",
            "bar_color": null,
            "description_width": ""
          }
        },
        "ce5aeca64ee14f649d2914ad82650fc5": {
          "model_module": "@jupyter-widgets/base",
          "model_name": "LayoutModel",
          "model_module_version": "1.2.0",
          "state": {
            "_model_module": "@jupyter-widgets/base",
            "_model_module_version": "1.2.0",
            "_model_name": "LayoutModel",
            "_view_count": null,
            "_view_module": "@jupyter-widgets/base",
            "_view_module_version": "1.2.0",
            "_view_name": "LayoutView",
            "align_content": null,
            "align_items": null,
            "align_self": null,
            "border": null,
            "bottom": null,
            "display": null,
            "flex": null,
            "flex_flow": null,
            "grid_area": null,
            "grid_auto_columns": null,
            "grid_auto_flow": null,
            "grid_auto_rows": null,
            "grid_column": null,
            "grid_gap": null,
            "grid_row": null,
            "grid_template_areas": null,
            "grid_template_columns": null,
            "grid_template_rows": null,
            "height": null,
            "justify_content": null,
            "justify_items": null,
            "left": null,
            "margin": null,
            "max_height": null,
            "max_width": null,
            "min_height": null,
            "min_width": null,
            "object_fit": null,
            "object_position": null,
            "order": null,
            "overflow": null,
            "overflow_x": null,
            "overflow_y": null,
            "padding": null,
            "right": null,
            "top": null,
            "visibility": null,
            "width": null
          }
        },
        "ac262bc3c57b4ceeba0f9bd925b35cf4": {
          "model_module": "@jupyter-widgets/controls",
          "model_name": "DescriptionStyleModel",
          "model_module_version": "1.5.0",
          "state": {
            "_model_module": "@jupyter-widgets/controls",
            "_model_module_version": "1.5.0",
            "_model_name": "DescriptionStyleModel",
            "_view_count": null,
            "_view_module": "@jupyter-widgets/base",
            "_view_module_version": "1.2.0",
            "_view_name": "StyleView",
            "description_width": ""
          }
        },
        "b01c6265ce1448258b620b01794836fe": {
          "model_module": "@jupyter-widgets/controls",
          "model_name": "HBoxModel",
          "model_module_version": "1.5.0",
          "state": {
            "_dom_classes": [],
            "_model_module": "@jupyter-widgets/controls",
            "_model_module_version": "1.5.0",
            "_model_name": "HBoxModel",
            "_view_count": null,
            "_view_module": "@jupyter-widgets/controls",
            "_view_module_version": "1.5.0",
            "_view_name": "HBoxView",
            "box_style": "",
            "children": [
              "IPY_MODEL_c240e34400b64675899aedf8bd9d123a",
              "IPY_MODEL_cf78b689566447209bc8c53b7a9ddcc5",
              "IPY_MODEL_de96ff25cbd5435b8a9cbfbdee37a044"
            ],
            "layout": "IPY_MODEL_4f214f3626624d8e8ab87616492b3f3c"
          }
        },
        "c240e34400b64675899aedf8bd9d123a": {
          "model_module": "@jupyter-widgets/controls",
          "model_name": "HTMLModel",
          "model_module_version": "1.5.0",
          "state": {
            "_dom_classes": [],
            "_model_module": "@jupyter-widgets/controls",
            "_model_module_version": "1.5.0",
            "_model_name": "HTMLModel",
            "_view_count": null,
            "_view_module": "@jupyter-widgets/controls",
            "_view_module_version": "1.5.0",
            "_view_name": "HTMLView",
            "description": "",
            "description_tooltip": null,
            "layout": "IPY_MODEL_b2580b4ffb834460a717c1aaca823023",
            "placeholder": "​",
            "style": "IPY_MODEL_6465e80fc8ea44a4a89e1e648ceb650f",
            "value": "vocab.json: 100%"
          }
        },
        "cf78b689566447209bc8c53b7a9ddcc5": {
          "model_module": "@jupyter-widgets/controls",
          "model_name": "FloatProgressModel",
          "model_module_version": "1.5.0",
          "state": {
            "_dom_classes": [],
            "_model_module": "@jupyter-widgets/controls",
            "_model_module_version": "1.5.0",
            "_model_name": "FloatProgressModel",
            "_view_count": null,
            "_view_module": "@jupyter-widgets/controls",
            "_view_module_version": "1.5.0",
            "_view_name": "ProgressView",
            "bar_style": "success",
            "description": "",
            "description_tooltip": null,
            "layout": "IPY_MODEL_b758237e9e974dbc96e15aff55e71047",
            "max": 2776833,
            "min": 0,
            "orientation": "horizontal",
            "style": "IPY_MODEL_55136ccf7a484507b1f0d01d2899d793",
            "value": 2776833
          }
        },
        "de96ff25cbd5435b8a9cbfbdee37a044": {
          "model_module": "@jupyter-widgets/controls",
          "model_name": "HTMLModel",
          "model_module_version": "1.5.0",
          "state": {
            "_dom_classes": [],
            "_model_module": "@jupyter-widgets/controls",
            "_model_module_version": "1.5.0",
            "_model_name": "HTMLModel",
            "_view_count": null,
            "_view_module": "@jupyter-widgets/controls",
            "_view_module_version": "1.5.0",
            "_view_name": "HTMLView",
            "description": "",
            "description_tooltip": null,
            "layout": "IPY_MODEL_d1ef888cf03949a396148e721200dc06",
            "placeholder": "​",
            "style": "IPY_MODEL_27789d6e6f86431fb2b856b91914ee23",
            "value": " 2.78M/2.78M [00:03&lt;00:00, 764kB/s]"
          }
        },
        "4f214f3626624d8e8ab87616492b3f3c": {
          "model_module": "@jupyter-widgets/base",
          "model_name": "LayoutModel",
          "model_module_version": "1.2.0",
          "state": {
            "_model_module": "@jupyter-widgets/base",
            "_model_module_version": "1.2.0",
            "_model_name": "LayoutModel",
            "_view_count": null,
            "_view_module": "@jupyter-widgets/base",
            "_view_module_version": "1.2.0",
            "_view_name": "LayoutView",
            "align_content": null,
            "align_items": null,
            "align_self": null,
            "border": null,
            "bottom": null,
            "display": null,
            "flex": null,
            "flex_flow": null,
            "grid_area": null,
            "grid_auto_columns": null,
            "grid_auto_flow": null,
            "grid_auto_rows": null,
            "grid_column": null,
            "grid_gap": null,
            "grid_row": null,
            "grid_template_areas": null,
            "grid_template_columns": null,
            "grid_template_rows": null,
            "height": null,
            "justify_content": null,
            "justify_items": null,
            "left": null,
            "margin": null,
            "max_height": null,
            "max_width": null,
            "min_height": null,
            "min_width": null,
            "object_fit": null,
            "object_position": null,
            "order": null,
            "overflow": null,
            "overflow_x": null,
            "overflow_y": null,
            "padding": null,
            "right": null,
            "top": null,
            "visibility": null,
            "width": null
          }
        },
        "b2580b4ffb834460a717c1aaca823023": {
          "model_module": "@jupyter-widgets/base",
          "model_name": "LayoutModel",
          "model_module_version": "1.2.0",
          "state": {
            "_model_module": "@jupyter-widgets/base",
            "_model_module_version": "1.2.0",
            "_model_name": "LayoutModel",
            "_view_count": null,
            "_view_module": "@jupyter-widgets/base",
            "_view_module_version": "1.2.0",
            "_view_name": "LayoutView",
            "align_content": null,
            "align_items": null,
            "align_self": null,
            "border": null,
            "bottom": null,
            "display": null,
            "flex": null,
            "flex_flow": null,
            "grid_area": null,
            "grid_auto_columns": null,
            "grid_auto_flow": null,
            "grid_auto_rows": null,
            "grid_column": null,
            "grid_gap": null,
            "grid_row": null,
            "grid_template_areas": null,
            "grid_template_columns": null,
            "grid_template_rows": null,
            "height": null,
            "justify_content": null,
            "justify_items": null,
            "left": null,
            "margin": null,
            "max_height": null,
            "max_width": null,
            "min_height": null,
            "min_width": null,
            "object_fit": null,
            "object_position": null,
            "order": null,
            "overflow": null,
            "overflow_x": null,
            "overflow_y": null,
            "padding": null,
            "right": null,
            "top": null,
            "visibility": null,
            "width": null
          }
        },
        "6465e80fc8ea44a4a89e1e648ceb650f": {
          "model_module": "@jupyter-widgets/controls",
          "model_name": "DescriptionStyleModel",
          "model_module_version": "1.5.0",
          "state": {
            "_model_module": "@jupyter-widgets/controls",
            "_model_module_version": "1.5.0",
            "_model_name": "DescriptionStyleModel",
            "_view_count": null,
            "_view_module": "@jupyter-widgets/base",
            "_view_module_version": "1.2.0",
            "_view_name": "StyleView",
            "description_width": ""
          }
        },
        "b758237e9e974dbc96e15aff55e71047": {
          "model_module": "@jupyter-widgets/base",
          "model_name": "LayoutModel",
          "model_module_version": "1.2.0",
          "state": {
            "_model_module": "@jupyter-widgets/base",
            "_model_module_version": "1.2.0",
            "_model_name": "LayoutModel",
            "_view_count": null,
            "_view_module": "@jupyter-widgets/base",
            "_view_module_version": "1.2.0",
            "_view_name": "LayoutView",
            "align_content": null,
            "align_items": null,
            "align_self": null,
            "border": null,
            "bottom": null,
            "display": null,
            "flex": null,
            "flex_flow": null,
            "grid_area": null,
            "grid_auto_columns": null,
            "grid_auto_flow": null,
            "grid_auto_rows": null,
            "grid_column": null,
            "grid_gap": null,
            "grid_row": null,
            "grid_template_areas": null,
            "grid_template_columns": null,
            "grid_template_rows": null,
            "height": null,
            "justify_content": null,
            "justify_items": null,
            "left": null,
            "margin": null,
            "max_height": null,
            "max_width": null,
            "min_height": null,
            "min_width": null,
            "object_fit": null,
            "object_position": null,
            "order": null,
            "overflow": null,
            "overflow_x": null,
            "overflow_y": null,
            "padding": null,
            "right": null,
            "top": null,
            "visibility": null,
            "width": null
          }
        },
        "55136ccf7a484507b1f0d01d2899d793": {
          "model_module": "@jupyter-widgets/controls",
          "model_name": "ProgressStyleModel",
          "model_module_version": "1.5.0",
          "state": {
            "_model_module": "@jupyter-widgets/controls",
            "_model_module_version": "1.5.0",
            "_model_name": "ProgressStyleModel",
            "_view_count": null,
            "_view_module": "@jupyter-widgets/base",
            "_view_module_version": "1.2.0",
            "_view_name": "StyleView",
            "bar_color": null,
            "description_width": ""
          }
        },
        "d1ef888cf03949a396148e721200dc06": {
          "model_module": "@jupyter-widgets/base",
          "model_name": "LayoutModel",
          "model_module_version": "1.2.0",
          "state": {
            "_model_module": "@jupyter-widgets/base",
            "_model_module_version": "1.2.0",
            "_model_name": "LayoutModel",
            "_view_count": null,
            "_view_module": "@jupyter-widgets/base",
            "_view_module_version": "1.2.0",
            "_view_name": "LayoutView",
            "align_content": null,
            "align_items": null,
            "align_self": null,
            "border": null,
            "bottom": null,
            "display": null,
            "flex": null,
            "flex_flow": null,
            "grid_area": null,
            "grid_auto_columns": null,
            "grid_auto_flow": null,
            "grid_auto_rows": null,
            "grid_column": null,
            "grid_gap": null,
            "grid_row": null,
            "grid_template_areas": null,
            "grid_template_columns": null,
            "grid_template_rows": null,
            "height": null,
            "justify_content": null,
            "justify_items": null,
            "left": null,
            "margin": null,
            "max_height": null,
            "max_width": null,
            "min_height": null,
            "min_width": null,
            "object_fit": null,
            "object_position": null,
            "order": null,
            "overflow": null,
            "overflow_x": null,
            "overflow_y": null,
            "padding": null,
            "right": null,
            "top": null,
            "visibility": null,
            "width": null
          }
        },
        "27789d6e6f86431fb2b856b91914ee23": {
          "model_module": "@jupyter-widgets/controls",
          "model_name": "DescriptionStyleModel",
          "model_module_version": "1.5.0",
          "state": {
            "_model_module": "@jupyter-widgets/controls",
            "_model_module_version": "1.5.0",
            "_model_name": "DescriptionStyleModel",
            "_view_count": null,
            "_view_module": "@jupyter-widgets/base",
            "_view_module_version": "1.2.0",
            "_view_name": "StyleView",
            "description_width": ""
          }
        },
        "6cc95c436a024a9097c0281b9d92e2c2": {
          "model_module": "@jupyter-widgets/controls",
          "model_name": "HBoxModel",
          "model_module_version": "1.5.0",
          "state": {
            "_dom_classes": [],
            "_model_module": "@jupyter-widgets/controls",
            "_model_module_version": "1.5.0",
            "_model_name": "HBoxModel",
            "_view_count": null,
            "_view_module": "@jupyter-widgets/controls",
            "_view_module_version": "1.5.0",
            "_view_name": "HBoxView",
            "box_style": "",
            "children": [
              "IPY_MODEL_f1e1db77298b4656aa1577a49bad7e16",
              "IPY_MODEL_bc8cc6256f7046cfaf27bcd4df14da98",
              "IPY_MODEL_7c2077a93c824defa14243378c79fd02"
            ],
            "layout": "IPY_MODEL_41f35ce57cba4d8687bd711fe8abd920"
          }
        },
        "f1e1db77298b4656aa1577a49bad7e16": {
          "model_module": "@jupyter-widgets/controls",
          "model_name": "HTMLModel",
          "model_module_version": "1.5.0",
          "state": {
            "_dom_classes": [],
            "_model_module": "@jupyter-widgets/controls",
            "_model_module_version": "1.5.0",
            "_model_name": "HTMLModel",
            "_view_count": null,
            "_view_module": "@jupyter-widgets/controls",
            "_view_module_version": "1.5.0",
            "_view_name": "HTMLView",
            "description": "",
            "description_tooltip": null,
            "layout": "IPY_MODEL_d86e89c1f12d4bc2aafe8f7abbfc3ad1",
            "placeholder": "​",
            "style": "IPY_MODEL_d574e8980b5b4d929f4cd06567cba344",
            "value": "merges.txt: 100%"
          }
        },
        "bc8cc6256f7046cfaf27bcd4df14da98": {
          "model_module": "@jupyter-widgets/controls",
          "model_name": "FloatProgressModel",
          "model_module_version": "1.5.0",
          "state": {
            "_dom_classes": [],
            "_model_module": "@jupyter-widgets/controls",
            "_model_module_version": "1.5.0",
            "_model_name": "FloatProgressModel",
            "_view_count": null,
            "_view_module": "@jupyter-widgets/controls",
            "_view_module_version": "1.5.0",
            "_view_name": "ProgressView",
            "bar_style": "success",
            "description": "",
            "description_tooltip": null,
            "layout": "IPY_MODEL_9d4a5e9a9e584d5b9550143995edcc55",
            "max": 1671853,
            "min": 0,
            "orientation": "horizontal",
            "style": "IPY_MODEL_dc0cd380e7454268b9a14be2a5e08ea1",
            "value": 1671853
          }
        },
        "7c2077a93c824defa14243378c79fd02": {
          "model_module": "@jupyter-widgets/controls",
          "model_name": "HTMLModel",
          "model_module_version": "1.5.0",
          "state": {
            "_dom_classes": [],
            "_model_module": "@jupyter-widgets/controls",
            "_model_module_version": "1.5.0",
            "_model_name": "HTMLModel",
            "_view_count": null,
            "_view_module": "@jupyter-widgets/controls",
            "_view_module_version": "1.5.0",
            "_view_name": "HTMLView",
            "description": "",
            "description_tooltip": null,
            "layout": "IPY_MODEL_33ac191c282340af83b9bcc5b5afeae4",
            "placeholder": "​",
            "style": "IPY_MODEL_3a18c583298443d39506233b5730b24a",
            "value": " 1.67M/1.67M [00:01&lt;00:00, 1.13MB/s]"
          }
        },
        "41f35ce57cba4d8687bd711fe8abd920": {
          "model_module": "@jupyter-widgets/base",
          "model_name": "LayoutModel",
          "model_module_version": "1.2.0",
          "state": {
            "_model_module": "@jupyter-widgets/base",
            "_model_module_version": "1.2.0",
            "_model_name": "LayoutModel",
            "_view_count": null,
            "_view_module": "@jupyter-widgets/base",
            "_view_module_version": "1.2.0",
            "_view_name": "LayoutView",
            "align_content": null,
            "align_items": null,
            "align_self": null,
            "border": null,
            "bottom": null,
            "display": null,
            "flex": null,
            "flex_flow": null,
            "grid_area": null,
            "grid_auto_columns": null,
            "grid_auto_flow": null,
            "grid_auto_rows": null,
            "grid_column": null,
            "grid_gap": null,
            "grid_row": null,
            "grid_template_areas": null,
            "grid_template_columns": null,
            "grid_template_rows": null,
            "height": null,
            "justify_content": null,
            "justify_items": null,
            "left": null,
            "margin": null,
            "max_height": null,
            "max_width": null,
            "min_height": null,
            "min_width": null,
            "object_fit": null,
            "object_position": null,
            "order": null,
            "overflow": null,
            "overflow_x": null,
            "overflow_y": null,
            "padding": null,
            "right": null,
            "top": null,
            "visibility": null,
            "width": null
          }
        },
        "d86e89c1f12d4bc2aafe8f7abbfc3ad1": {
          "model_module": "@jupyter-widgets/base",
          "model_name": "LayoutModel",
          "model_module_version": "1.2.0",
          "state": {
            "_model_module": "@jupyter-widgets/base",
            "_model_module_version": "1.2.0",
            "_model_name": "LayoutModel",
            "_view_count": null,
            "_view_module": "@jupyter-widgets/base",
            "_view_module_version": "1.2.0",
            "_view_name": "LayoutView",
            "align_content": null,
            "align_items": null,
            "align_self": null,
            "border": null,
            "bottom": null,
            "display": null,
            "flex": null,
            "flex_flow": null,
            "grid_area": null,
            "grid_auto_columns": null,
            "grid_auto_flow": null,
            "grid_auto_rows": null,
            "grid_column": null,
            "grid_gap": null,
            "grid_row": null,
            "grid_template_areas": null,
            "grid_template_columns": null,
            "grid_template_rows": null,
            "height": null,
            "justify_content": null,
            "justify_items": null,
            "left": null,
            "margin": null,
            "max_height": null,
            "max_width": null,
            "min_height": null,
            "min_width": null,
            "object_fit": null,
            "object_position": null,
            "order": null,
            "overflow": null,
            "overflow_x": null,
            "overflow_y": null,
            "padding": null,
            "right": null,
            "top": null,
            "visibility": null,
            "width": null
          }
        },
        "d574e8980b5b4d929f4cd06567cba344": {
          "model_module": "@jupyter-widgets/controls",
          "model_name": "DescriptionStyleModel",
          "model_module_version": "1.5.0",
          "state": {
            "_model_module": "@jupyter-widgets/controls",
            "_model_module_version": "1.5.0",
            "_model_name": "DescriptionStyleModel",
            "_view_count": null,
            "_view_module": "@jupyter-widgets/base",
            "_view_module_version": "1.2.0",
            "_view_name": "StyleView",
            "description_width": ""
          }
        },
        "9d4a5e9a9e584d5b9550143995edcc55": {
          "model_module": "@jupyter-widgets/base",
          "model_name": "LayoutModel",
          "model_module_version": "1.2.0",
          "state": {
            "_model_module": "@jupyter-widgets/base",
            "_model_module_version": "1.2.0",
            "_model_name": "LayoutModel",
            "_view_count": null,
            "_view_module": "@jupyter-widgets/base",
            "_view_module_version": "1.2.0",
            "_view_name": "LayoutView",
            "align_content": null,
            "align_items": null,
            "align_self": null,
            "border": null,
            "bottom": null,
            "display": null,
            "flex": null,
            "flex_flow": null,
            "grid_area": null,
            "grid_auto_columns": null,
            "grid_auto_flow": null,
            "grid_auto_rows": null,
            "grid_column": null,
            "grid_gap": null,
            "grid_row": null,
            "grid_template_areas": null,
            "grid_template_columns": null,
            "grid_template_rows": null,
            "height": null,
            "justify_content": null,
            "justify_items": null,
            "left": null,
            "margin": null,
            "max_height": null,
            "max_width": null,
            "min_height": null,
            "min_width": null,
            "object_fit": null,
            "object_position": null,
            "order": null,
            "overflow": null,
            "overflow_x": null,
            "overflow_y": null,
            "padding": null,
            "right": null,
            "top": null,
            "visibility": null,
            "width": null
          }
        },
        "dc0cd380e7454268b9a14be2a5e08ea1": {
          "model_module": "@jupyter-widgets/controls",
          "model_name": "ProgressStyleModel",
          "model_module_version": "1.5.0",
          "state": {
            "_model_module": "@jupyter-widgets/controls",
            "_model_module_version": "1.5.0",
            "_model_name": "ProgressStyleModel",
            "_view_count": null,
            "_view_module": "@jupyter-widgets/base",
            "_view_module_version": "1.2.0",
            "_view_name": "StyleView",
            "bar_color": null,
            "description_width": ""
          }
        },
        "33ac191c282340af83b9bcc5b5afeae4": {
          "model_module": "@jupyter-widgets/base",
          "model_name": "LayoutModel",
          "model_module_version": "1.2.0",
          "state": {
            "_model_module": "@jupyter-widgets/base",
            "_model_module_version": "1.2.0",
            "_model_name": "LayoutModel",
            "_view_count": null,
            "_view_module": "@jupyter-widgets/base",
            "_view_module_version": "1.2.0",
            "_view_name": "LayoutView",
            "align_content": null,
            "align_items": null,
            "align_self": null,
            "border": null,
            "bottom": null,
            "display": null,
            "flex": null,
            "flex_flow": null,
            "grid_area": null,
            "grid_auto_columns": null,
            "grid_auto_flow": null,
            "grid_auto_rows": null,
            "grid_column": null,
            "grid_gap": null,
            "grid_row": null,
            "grid_template_areas": null,
            "grid_template_columns": null,
            "grid_template_rows": null,
            "height": null,
            "justify_content": null,
            "justify_items": null,
            "left": null,
            "margin": null,
            "max_height": null,
            "max_width": null,
            "min_height": null,
            "min_width": null,
            "object_fit": null,
            "object_position": null,
            "order": null,
            "overflow": null,
            "overflow_x": null,
            "overflow_y": null,
            "padding": null,
            "right": null,
            "top": null,
            "visibility": null,
            "width": null
          }
        },
        "3a18c583298443d39506233b5730b24a": {
          "model_module": "@jupyter-widgets/controls",
          "model_name": "DescriptionStyleModel",
          "model_module_version": "1.5.0",
          "state": {
            "_model_module": "@jupyter-widgets/controls",
            "_model_module_version": "1.5.0",
            "_model_name": "DescriptionStyleModel",
            "_view_count": null,
            "_view_module": "@jupyter-widgets/base",
            "_view_module_version": "1.2.0",
            "_view_name": "StyleView",
            "description_width": ""
          }
        },
        "f7aa0d272b3b444ea7fd3a574b7209f2": {
          "model_module": "@jupyter-widgets/controls",
          "model_name": "HBoxModel",
          "model_module_version": "1.5.0",
          "state": {
            "_dom_classes": [],
            "_model_module": "@jupyter-widgets/controls",
            "_model_module_version": "1.5.0",
            "_model_name": "HBoxModel",
            "_view_count": null,
            "_view_module": "@jupyter-widgets/controls",
            "_view_module_version": "1.5.0",
            "_view_name": "HBoxView",
            "box_style": "",
            "children": [
              "IPY_MODEL_7fdc52e3fb3c402a9423815a8ca80eb1",
              "IPY_MODEL_15fdc7018e2b4af99a67bf69b59108c8",
              "IPY_MODEL_90e22213577b4d7a8ab3b835702b9046"
            ],
            "layout": "IPY_MODEL_f74ab34a377b47f6b6ecb5021f04efa2"
          }
        },
        "7fdc52e3fb3c402a9423815a8ca80eb1": {
          "model_module": "@jupyter-widgets/controls",
          "model_name": "HTMLModel",
          "model_module_version": "1.5.0",
          "state": {
            "_dom_classes": [],
            "_model_module": "@jupyter-widgets/controls",
            "_model_module_version": "1.5.0",
            "_model_name": "HTMLModel",
            "_view_count": null,
            "_view_module": "@jupyter-widgets/controls",
            "_view_module_version": "1.5.0",
            "_view_name": "HTMLView",
            "description": "",
            "description_tooltip": null,
            "layout": "IPY_MODEL_006cb7035be446aabb29ef31c60b8ff1",
            "placeholder": "​",
            "style": "IPY_MODEL_c25800102f084bffa2d2996011fe0622",
            "value": "tokenizer.json: 100%"
          }
        },
        "15fdc7018e2b4af99a67bf69b59108c8": {
          "model_module": "@jupyter-widgets/controls",
          "model_name": "FloatProgressModel",
          "model_module_version": "1.5.0",
          "state": {
            "_dom_classes": [],
            "_model_module": "@jupyter-widgets/controls",
            "_model_module_version": "1.5.0",
            "_model_name": "FloatProgressModel",
            "_view_count": null,
            "_view_module": "@jupyter-widgets/controls",
            "_view_module_version": "1.5.0",
            "_view_name": "ProgressView",
            "bar_style": "success",
            "description": "",
            "description_tooltip": null,
            "layout": "IPY_MODEL_6425d12f23a041018e6330a177f3fe20",
            "max": 7030315,
            "min": 0,
            "orientation": "horizontal",
            "style": "IPY_MODEL_8fbba6f591814906b50995668e417f63",
            "value": 7030315
          }
        },
        "90e22213577b4d7a8ab3b835702b9046": {
          "model_module": "@jupyter-widgets/controls",
          "model_name": "HTMLModel",
          "model_module_version": "1.5.0",
          "state": {
            "_dom_classes": [],
            "_model_module": "@jupyter-widgets/controls",
            "_model_module_version": "1.5.0",
            "_model_name": "HTMLModel",
            "_view_count": null,
            "_view_module": "@jupyter-widgets/controls",
            "_view_module_version": "1.5.0",
            "_view_name": "HTMLView",
            "description": "",
            "description_tooltip": null,
            "layout": "IPY_MODEL_8d2562cc4ece4c16bfa8424c4119cec9",
            "placeholder": "​",
            "style": "IPY_MODEL_56a168e6b0f147f28732377dacab9201",
            "value": " 7.03M/7.03M [00:00&lt;00:00, 7.11MB/s]"
          }
        },
        "f74ab34a377b47f6b6ecb5021f04efa2": {
          "model_module": "@jupyter-widgets/base",
          "model_name": "LayoutModel",
          "model_module_version": "1.2.0",
          "state": {
            "_model_module": "@jupyter-widgets/base",
            "_model_module_version": "1.2.0",
            "_model_name": "LayoutModel",
            "_view_count": null,
            "_view_module": "@jupyter-widgets/base",
            "_view_module_version": "1.2.0",
            "_view_name": "LayoutView",
            "align_content": null,
            "align_items": null,
            "align_self": null,
            "border": null,
            "bottom": null,
            "display": null,
            "flex": null,
            "flex_flow": null,
            "grid_area": null,
            "grid_auto_columns": null,
            "grid_auto_flow": null,
            "grid_auto_rows": null,
            "grid_column": null,
            "grid_gap": null,
            "grid_row": null,
            "grid_template_areas": null,
            "grid_template_columns": null,
            "grid_template_rows": null,
            "height": null,
            "justify_content": null,
            "justify_items": null,
            "left": null,
            "margin": null,
            "max_height": null,
            "max_width": null,
            "min_height": null,
            "min_width": null,
            "object_fit": null,
            "object_position": null,
            "order": null,
            "overflow": null,
            "overflow_x": null,
            "overflow_y": null,
            "padding": null,
            "right": null,
            "top": null,
            "visibility": null,
            "width": null
          }
        },
        "006cb7035be446aabb29ef31c60b8ff1": {
          "model_module": "@jupyter-widgets/base",
          "model_name": "LayoutModel",
          "model_module_version": "1.2.0",
          "state": {
            "_model_module": "@jupyter-widgets/base",
            "_model_module_version": "1.2.0",
            "_model_name": "LayoutModel",
            "_view_count": null,
            "_view_module": "@jupyter-widgets/base",
            "_view_module_version": "1.2.0",
            "_view_name": "LayoutView",
            "align_content": null,
            "align_items": null,
            "align_self": null,
            "border": null,
            "bottom": null,
            "display": null,
            "flex": null,
            "flex_flow": null,
            "grid_area": null,
            "grid_auto_columns": null,
            "grid_auto_flow": null,
            "grid_auto_rows": null,
            "grid_column": null,
            "grid_gap": null,
            "grid_row": null,
            "grid_template_areas": null,
            "grid_template_columns": null,
            "grid_template_rows": null,
            "height": null,
            "justify_content": null,
            "justify_items": null,
            "left": null,
            "margin": null,
            "max_height": null,
            "max_width": null,
            "min_height": null,
            "min_width": null,
            "object_fit": null,
            "object_position": null,
            "order": null,
            "overflow": null,
            "overflow_x": null,
            "overflow_y": null,
            "padding": null,
            "right": null,
            "top": null,
            "visibility": null,
            "width": null
          }
        },
        "c25800102f084bffa2d2996011fe0622": {
          "model_module": "@jupyter-widgets/controls",
          "model_name": "DescriptionStyleModel",
          "model_module_version": "1.5.0",
          "state": {
            "_model_module": "@jupyter-widgets/controls",
            "_model_module_version": "1.5.0",
            "_model_name": "DescriptionStyleModel",
            "_view_count": null,
            "_view_module": "@jupyter-widgets/base",
            "_view_module_version": "1.2.0",
            "_view_name": "StyleView",
            "description_width": ""
          }
        },
        "6425d12f23a041018e6330a177f3fe20": {
          "model_module": "@jupyter-widgets/base",
          "model_name": "LayoutModel",
          "model_module_version": "1.2.0",
          "state": {
            "_model_module": "@jupyter-widgets/base",
            "_model_module_version": "1.2.0",
            "_model_name": "LayoutModel",
            "_view_count": null,
            "_view_module": "@jupyter-widgets/base",
            "_view_module_version": "1.2.0",
            "_view_name": "LayoutView",
            "align_content": null,
            "align_items": null,
            "align_self": null,
            "border": null,
            "bottom": null,
            "display": null,
            "flex": null,
            "flex_flow": null,
            "grid_area": null,
            "grid_auto_columns": null,
            "grid_auto_flow": null,
            "grid_auto_rows": null,
            "grid_column": null,
            "grid_gap": null,
            "grid_row": null,
            "grid_template_areas": null,
            "grid_template_columns": null,
            "grid_template_rows": null,
            "height": null,
            "justify_content": null,
            "justify_items": null,
            "left": null,
            "margin": null,
            "max_height": null,
            "max_width": null,
            "min_height": null,
            "min_width": null,
            "object_fit": null,
            "object_position": null,
            "order": null,
            "overflow": null,
            "overflow_x": null,
            "overflow_y": null,
            "padding": null,
            "right": null,
            "top": null,
            "visibility": null,
            "width": null
          }
        },
        "8fbba6f591814906b50995668e417f63": {
          "model_module": "@jupyter-widgets/controls",
          "model_name": "ProgressStyleModel",
          "model_module_version": "1.5.0",
          "state": {
            "_model_module": "@jupyter-widgets/controls",
            "_model_module_version": "1.5.0",
            "_model_name": "ProgressStyleModel",
            "_view_count": null,
            "_view_module": "@jupyter-widgets/base",
            "_view_module_version": "1.2.0",
            "_view_name": "StyleView",
            "bar_color": null,
            "description_width": ""
          }
        },
        "8d2562cc4ece4c16bfa8424c4119cec9": {
          "model_module": "@jupyter-widgets/base",
          "model_name": "LayoutModel",
          "model_module_version": "1.2.0",
          "state": {
            "_model_module": "@jupyter-widgets/base",
            "_model_module_version": "1.2.0",
            "_model_name": "LayoutModel",
            "_view_count": null,
            "_view_module": "@jupyter-widgets/base",
            "_view_module_version": "1.2.0",
            "_view_name": "LayoutView",
            "align_content": null,
            "align_items": null,
            "align_self": null,
            "border": null,
            "bottom": null,
            "display": null,
            "flex": null,
            "flex_flow": null,
            "grid_area": null,
            "grid_auto_columns": null,
            "grid_auto_flow": null,
            "grid_auto_rows": null,
            "grid_column": null,
            "grid_gap": null,
            "grid_row": null,
            "grid_template_areas": null,
            "grid_template_columns": null,
            "grid_template_rows": null,
            "height": null,
            "justify_content": null,
            "justify_items": null,
            "left": null,
            "margin": null,
            "max_height": null,
            "max_width": null,
            "min_height": null,
            "min_width": null,
            "object_fit": null,
            "object_position": null,
            "order": null,
            "overflow": null,
            "overflow_x": null,
            "overflow_y": null,
            "padding": null,
            "right": null,
            "top": null,
            "visibility": null,
            "width": null
          }
        },
        "56a168e6b0f147f28732377dacab9201": {
          "model_module": "@jupyter-widgets/controls",
          "model_name": "DescriptionStyleModel",
          "model_module_version": "1.5.0",
          "state": {
            "_model_module": "@jupyter-widgets/controls",
            "_model_module_version": "1.5.0",
            "_model_name": "DescriptionStyleModel",
            "_view_count": null,
            "_view_module": "@jupyter-widgets/base",
            "_view_module_version": "1.2.0",
            "_view_name": "StyleView",
            "description_width": ""
          }
        },
        "68137d76e4a64d3db5b17b5a23ca38f0": {
          "model_module": "@jupyter-widgets/controls",
          "model_name": "HBoxModel",
          "model_module_version": "1.5.0",
          "state": {
            "_dom_classes": [],
            "_model_module": "@jupyter-widgets/controls",
            "_model_module_version": "1.5.0",
            "_model_name": "HBoxModel",
            "_view_count": null,
            "_view_module": "@jupyter-widgets/controls",
            "_view_module_version": "1.5.0",
            "_view_name": "HBoxView",
            "box_style": "",
            "children": [
              "IPY_MODEL_d9228959d01f4518a89a0168249c7401",
              "IPY_MODEL_2821a4e7237b46ec93eda57ced436526",
              "IPY_MODEL_d84441fa0816400f9be6c0f2c3eca4bf"
            ],
            "layout": "IPY_MODEL_9b152f008a574af8be46d6061fa8cdc8"
          }
        },
        "d9228959d01f4518a89a0168249c7401": {
          "model_module": "@jupyter-widgets/controls",
          "model_name": "HTMLModel",
          "model_module_version": "1.5.0",
          "state": {
            "_dom_classes": [],
            "_model_module": "@jupyter-widgets/controls",
            "_model_module_version": "1.5.0",
            "_model_name": "HTMLModel",
            "_view_count": null,
            "_view_module": "@jupyter-widgets/controls",
            "_view_module_version": "1.5.0",
            "_view_name": "HTMLView",
            "description": "",
            "description_tooltip": null,
            "layout": "IPY_MODEL_149868c4fc21480ca7e793ef9639fc13",
            "placeholder": "​",
            "style": "IPY_MODEL_7235315e7c944a63aeaa02e9ed3e4be8",
            "value": "added_tokens.json: 100%"
          }
        },
        "2821a4e7237b46ec93eda57ced436526": {
          "model_module": "@jupyter-widgets/controls",
          "model_name": "FloatProgressModel",
          "model_module_version": "1.5.0",
          "state": {
            "_dom_classes": [],
            "_model_module": "@jupyter-widgets/controls",
            "_model_module_version": "1.5.0",
            "_model_name": "FloatProgressModel",
            "_view_count": null,
            "_view_module": "@jupyter-widgets/controls",
            "_view_module_version": "1.5.0",
            "_view_name": "ProgressView",
            "bar_style": "success",
            "description": "",
            "description_tooltip": null,
            "layout": "IPY_MODEL_8959119a7c604264a37086cbcad91596",
            "max": 392,
            "min": 0,
            "orientation": "horizontal",
            "style": "IPY_MODEL_10a78021b95f49dc9ed2de56fb546c7c",
            "value": 392
          }
        },
        "d84441fa0816400f9be6c0f2c3eca4bf": {
          "model_module": "@jupyter-widgets/controls",
          "model_name": "HTMLModel",
          "model_module_version": "1.5.0",
          "state": {
            "_dom_classes": [],
            "_model_module": "@jupyter-widgets/controls",
            "_model_module_version": "1.5.0",
            "_model_name": "HTMLModel",
            "_view_count": null,
            "_view_module": "@jupyter-widgets/controls",
            "_view_module_version": "1.5.0",
            "_view_name": "HTMLView",
            "description": "",
            "description_tooltip": null,
            "layout": "IPY_MODEL_02ac9fcbbcae488b9a6db0a30965f3ee",
            "placeholder": "​",
            "style": "IPY_MODEL_f22982ea0a8f49e0a8bc7a350069fb3d",
            "value": " 392/392 [00:00&lt;00:00, 35.4kB/s]"
          }
        },
        "9b152f008a574af8be46d6061fa8cdc8": {
          "model_module": "@jupyter-widgets/base",
          "model_name": "LayoutModel",
          "model_module_version": "1.2.0",
          "state": {
            "_model_module": "@jupyter-widgets/base",
            "_model_module_version": "1.2.0",
            "_model_name": "LayoutModel",
            "_view_count": null,
            "_view_module": "@jupyter-widgets/base",
            "_view_module_version": "1.2.0",
            "_view_name": "LayoutView",
            "align_content": null,
            "align_items": null,
            "align_self": null,
            "border": null,
            "bottom": null,
            "display": null,
            "flex": null,
            "flex_flow": null,
            "grid_area": null,
            "grid_auto_columns": null,
            "grid_auto_flow": null,
            "grid_auto_rows": null,
            "grid_column": null,
            "grid_gap": null,
            "grid_row": null,
            "grid_template_areas": null,
            "grid_template_columns": null,
            "grid_template_rows": null,
            "height": null,
            "justify_content": null,
            "justify_items": null,
            "left": null,
            "margin": null,
            "max_height": null,
            "max_width": null,
            "min_height": null,
            "min_width": null,
            "object_fit": null,
            "object_position": null,
            "order": null,
            "overflow": null,
            "overflow_x": null,
            "overflow_y": null,
            "padding": null,
            "right": null,
            "top": null,
            "visibility": null,
            "width": null
          }
        },
        "149868c4fc21480ca7e793ef9639fc13": {
          "model_module": "@jupyter-widgets/base",
          "model_name": "LayoutModel",
          "model_module_version": "1.2.0",
          "state": {
            "_model_module": "@jupyter-widgets/base",
            "_model_module_version": "1.2.0",
            "_model_name": "LayoutModel",
            "_view_count": null,
            "_view_module": "@jupyter-widgets/base",
            "_view_module_version": "1.2.0",
            "_view_name": "LayoutView",
            "align_content": null,
            "align_items": null,
            "align_self": null,
            "border": null,
            "bottom": null,
            "display": null,
            "flex": null,
            "flex_flow": null,
            "grid_area": null,
            "grid_auto_columns": null,
            "grid_auto_flow": null,
            "grid_auto_rows": null,
            "grid_column": null,
            "grid_gap": null,
            "grid_row": null,
            "grid_template_areas": null,
            "grid_template_columns": null,
            "grid_template_rows": null,
            "height": null,
            "justify_content": null,
            "justify_items": null,
            "left": null,
            "margin": null,
            "max_height": null,
            "max_width": null,
            "min_height": null,
            "min_width": null,
            "object_fit": null,
            "object_position": null,
            "order": null,
            "overflow": null,
            "overflow_x": null,
            "overflow_y": null,
            "padding": null,
            "right": null,
            "top": null,
            "visibility": null,
            "width": null
          }
        },
        "7235315e7c944a63aeaa02e9ed3e4be8": {
          "model_module": "@jupyter-widgets/controls",
          "model_name": "DescriptionStyleModel",
          "model_module_version": "1.5.0",
          "state": {
            "_model_module": "@jupyter-widgets/controls",
            "_model_module_version": "1.5.0",
            "_model_name": "DescriptionStyleModel",
            "_view_count": null,
            "_view_module": "@jupyter-widgets/base",
            "_view_module_version": "1.2.0",
            "_view_name": "StyleView",
            "description_width": ""
          }
        },
        "8959119a7c604264a37086cbcad91596": {
          "model_module": "@jupyter-widgets/base",
          "model_name": "LayoutModel",
          "model_module_version": "1.2.0",
          "state": {
            "_model_module": "@jupyter-widgets/base",
            "_model_module_version": "1.2.0",
            "_model_name": "LayoutModel",
            "_view_count": null,
            "_view_module": "@jupyter-widgets/base",
            "_view_module_version": "1.2.0",
            "_view_name": "LayoutView",
            "align_content": null,
            "align_items": null,
            "align_self": null,
            "border": null,
            "bottom": null,
            "display": null,
            "flex": null,
            "flex_flow": null,
            "grid_area": null,
            "grid_auto_columns": null,
            "grid_auto_flow": null,
            "grid_auto_rows": null,
            "grid_column": null,
            "grid_gap": null,
            "grid_row": null,
            "grid_template_areas": null,
            "grid_template_columns": null,
            "grid_template_rows": null,
            "height": null,
            "justify_content": null,
            "justify_items": null,
            "left": null,
            "margin": null,
            "max_height": null,
            "max_width": null,
            "min_height": null,
            "min_width": null,
            "object_fit": null,
            "object_position": null,
            "order": null,
            "overflow": null,
            "overflow_x": null,
            "overflow_y": null,
            "padding": null,
            "right": null,
            "top": null,
            "visibility": null,
            "width": null
          }
        },
        "10a78021b95f49dc9ed2de56fb546c7c": {
          "model_module": "@jupyter-widgets/controls",
          "model_name": "ProgressStyleModel",
          "model_module_version": "1.5.0",
          "state": {
            "_model_module": "@jupyter-widgets/controls",
            "_model_module_version": "1.5.0",
            "_model_name": "ProgressStyleModel",
            "_view_count": null,
            "_view_module": "@jupyter-widgets/base",
            "_view_module_version": "1.2.0",
            "_view_name": "StyleView",
            "bar_color": null,
            "description_width": ""
          }
        },
        "02ac9fcbbcae488b9a6db0a30965f3ee": {
          "model_module": "@jupyter-widgets/base",
          "model_name": "LayoutModel",
          "model_module_version": "1.2.0",
          "state": {
            "_model_module": "@jupyter-widgets/base",
            "_model_module_version": "1.2.0",
            "_model_name": "LayoutModel",
            "_view_count": null,
            "_view_module": "@jupyter-widgets/base",
            "_view_module_version": "1.2.0",
            "_view_name": "LayoutView",
            "align_content": null,
            "align_items": null,
            "align_self": null,
            "border": null,
            "bottom": null,
            "display": null,
            "flex": null,
            "flex_flow": null,
            "grid_area": null,
            "grid_auto_columns": null,
            "grid_auto_flow": null,
            "grid_auto_rows": null,
            "grid_column": null,
            "grid_gap": null,
            "grid_row": null,
            "grid_template_areas": null,
            "grid_template_columns": null,
            "grid_template_rows": null,
            "height": null,
            "justify_content": null,
            "justify_items": null,
            "left": null,
            "margin": null,
            "max_height": null,
            "max_width": null,
            "min_height": null,
            "min_width": null,
            "object_fit": null,
            "object_position": null,
            "order": null,
            "overflow": null,
            "overflow_x": null,
            "overflow_y": null,
            "padding": null,
            "right": null,
            "top": null,
            "visibility": null,
            "width": null
          }
        },
        "f22982ea0a8f49e0a8bc7a350069fb3d": {
          "model_module": "@jupyter-widgets/controls",
          "model_name": "DescriptionStyleModel",
          "model_module_version": "1.5.0",
          "state": {
            "_model_module": "@jupyter-widgets/controls",
            "_model_module_version": "1.5.0",
            "_model_name": "DescriptionStyleModel",
            "_view_count": null,
            "_view_module": "@jupyter-widgets/base",
            "_view_module_version": "1.2.0",
            "_view_name": "StyleView",
            "description_width": ""
          }
        },
        "a6902b5145ac4866a02ccdbe656b835e": {
          "model_module": "@jupyter-widgets/controls",
          "model_name": "HBoxModel",
          "model_module_version": "1.5.0",
          "state": {
            "_dom_classes": [],
            "_model_module": "@jupyter-widgets/controls",
            "_model_module_version": "1.5.0",
            "_model_name": "HBoxModel",
            "_view_count": null,
            "_view_module": "@jupyter-widgets/controls",
            "_view_module_version": "1.5.0",
            "_view_name": "HBoxView",
            "box_style": "",
            "children": [
              "IPY_MODEL_310a07e027f0445aaaaa1c4f6bba63e5",
              "IPY_MODEL_4d74e2c9f7a84085b61b087ba09d772a",
              "IPY_MODEL_8d543254ddf74919b737529fee74426d"
            ],
            "layout": "IPY_MODEL_411af5e456074ac886b05fee0e90be43"
          }
        },
        "310a07e027f0445aaaaa1c4f6bba63e5": {
          "model_module": "@jupyter-widgets/controls",
          "model_name": "HTMLModel",
          "model_module_version": "1.5.0",
          "state": {
            "_dom_classes": [],
            "_model_module": "@jupyter-widgets/controls",
            "_model_module_version": "1.5.0",
            "_model_name": "HTMLModel",
            "_view_count": null,
            "_view_module": "@jupyter-widgets/controls",
            "_view_module_version": "1.5.0",
            "_view_name": "HTMLView",
            "description": "",
            "description_tooltip": null,
            "layout": "IPY_MODEL_84f754b6517f455da59ea40e16ff9b29",
            "placeholder": "​",
            "style": "IPY_MODEL_229c1ba12e77449e8770fe6f5b806680",
            "value": "special_tokens_map.json: 100%"
          }
        },
        "4d74e2c9f7a84085b61b087ba09d772a": {
          "model_module": "@jupyter-widgets/controls",
          "model_name": "FloatProgressModel",
          "model_module_version": "1.5.0",
          "state": {
            "_dom_classes": [],
            "_model_module": "@jupyter-widgets/controls",
            "_model_module_version": "1.5.0",
            "_model_name": "FloatProgressModel",
            "_view_count": null,
            "_view_module": "@jupyter-widgets/controls",
            "_view_module_version": "1.5.0",
            "_view_name": "ProgressView",
            "bar_style": "success",
            "description": "",
            "description_tooltip": null,
            "layout": "IPY_MODEL_58458ee2c4b74066a5ad90cd9074f562",
            "max": 613,
            "min": 0,
            "orientation": "horizontal",
            "style": "IPY_MODEL_0111fbdfaa39403fa242b3cfdb14ef38",
            "value": 613
          }
        },
        "8d543254ddf74919b737529fee74426d": {
          "model_module": "@jupyter-widgets/controls",
          "model_name": "HTMLModel",
          "model_module_version": "1.5.0",
          "state": {
            "_dom_classes": [],
            "_model_module": "@jupyter-widgets/controls",
            "_model_module_version": "1.5.0",
            "_model_name": "HTMLModel",
            "_view_count": null,
            "_view_module": "@jupyter-widgets/controls",
            "_view_module_version": "1.5.0",
            "_view_name": "HTMLView",
            "description": "",
            "description_tooltip": null,
            "layout": "IPY_MODEL_63dac0622ac74afe9539740dc29da061",
            "placeholder": "​",
            "style": "IPY_MODEL_950cb86b1da042b1848c1bfe2f2ab613",
            "value": " 613/613 [00:00&lt;00:00, 53.1kB/s]"
          }
        },
        "411af5e456074ac886b05fee0e90be43": {
          "model_module": "@jupyter-widgets/base",
          "model_name": "LayoutModel",
          "model_module_version": "1.2.0",
          "state": {
            "_model_module": "@jupyter-widgets/base",
            "_model_module_version": "1.2.0",
            "_model_name": "LayoutModel",
            "_view_count": null,
            "_view_module": "@jupyter-widgets/base",
            "_view_module_version": "1.2.0",
            "_view_name": "LayoutView",
            "align_content": null,
            "align_items": null,
            "align_self": null,
            "border": null,
            "bottom": null,
            "display": null,
            "flex": null,
            "flex_flow": null,
            "grid_area": null,
            "grid_auto_columns": null,
            "grid_auto_flow": null,
            "grid_auto_rows": null,
            "grid_column": null,
            "grid_gap": null,
            "grid_row": null,
            "grid_template_areas": null,
            "grid_template_columns": null,
            "grid_template_rows": null,
            "height": null,
            "justify_content": null,
            "justify_items": null,
            "left": null,
            "margin": null,
            "max_height": null,
            "max_width": null,
            "min_height": null,
            "min_width": null,
            "object_fit": null,
            "object_position": null,
            "order": null,
            "overflow": null,
            "overflow_x": null,
            "overflow_y": null,
            "padding": null,
            "right": null,
            "top": null,
            "visibility": null,
            "width": null
          }
        },
        "84f754b6517f455da59ea40e16ff9b29": {
          "model_module": "@jupyter-widgets/base",
          "model_name": "LayoutModel",
          "model_module_version": "1.2.0",
          "state": {
            "_model_module": "@jupyter-widgets/base",
            "_model_module_version": "1.2.0",
            "_model_name": "LayoutModel",
            "_view_count": null,
            "_view_module": "@jupyter-widgets/base",
            "_view_module_version": "1.2.0",
            "_view_name": "LayoutView",
            "align_content": null,
            "align_items": null,
            "align_self": null,
            "border": null,
            "bottom": null,
            "display": null,
            "flex": null,
            "flex_flow": null,
            "grid_area": null,
            "grid_auto_columns": null,
            "grid_auto_flow": null,
            "grid_auto_rows": null,
            "grid_column": null,
            "grid_gap": null,
            "grid_row": null,
            "grid_template_areas": null,
            "grid_template_columns": null,
            "grid_template_rows": null,
            "height": null,
            "justify_content": null,
            "justify_items": null,
            "left": null,
            "margin": null,
            "max_height": null,
            "max_width": null,
            "min_height": null,
            "min_width": null,
            "object_fit": null,
            "object_position": null,
            "order": null,
            "overflow": null,
            "overflow_x": null,
            "overflow_y": null,
            "padding": null,
            "right": null,
            "top": null,
            "visibility": null,
            "width": null
          }
        },
        "229c1ba12e77449e8770fe6f5b806680": {
          "model_module": "@jupyter-widgets/controls",
          "model_name": "DescriptionStyleModel",
          "model_module_version": "1.5.0",
          "state": {
            "_model_module": "@jupyter-widgets/controls",
            "_model_module_version": "1.5.0",
            "_model_name": "DescriptionStyleModel",
            "_view_count": null,
            "_view_module": "@jupyter-widgets/base",
            "_view_module_version": "1.2.0",
            "_view_name": "StyleView",
            "description_width": ""
          }
        },
        "58458ee2c4b74066a5ad90cd9074f562": {
          "model_module": "@jupyter-widgets/base",
          "model_name": "LayoutModel",
          "model_module_version": "1.2.0",
          "state": {
            "_model_module": "@jupyter-widgets/base",
            "_model_module_version": "1.2.0",
            "_model_name": "LayoutModel",
            "_view_count": null,
            "_view_module": "@jupyter-widgets/base",
            "_view_module_version": "1.2.0",
            "_view_name": "LayoutView",
            "align_content": null,
            "align_items": null,
            "align_self": null,
            "border": null,
            "bottom": null,
            "display": null,
            "flex": null,
            "flex_flow": null,
            "grid_area": null,
            "grid_auto_columns": null,
            "grid_auto_flow": null,
            "grid_auto_rows": null,
            "grid_column": null,
            "grid_gap": null,
            "grid_row": null,
            "grid_template_areas": null,
            "grid_template_columns": null,
            "grid_template_rows": null,
            "height": null,
            "justify_content": null,
            "justify_items": null,
            "left": null,
            "margin": null,
            "max_height": null,
            "max_width": null,
            "min_height": null,
            "min_width": null,
            "object_fit": null,
            "object_position": null,
            "order": null,
            "overflow": null,
            "overflow_x": null,
            "overflow_y": null,
            "padding": null,
            "right": null,
            "top": null,
            "visibility": null,
            "width": null
          }
        },
        "0111fbdfaa39403fa242b3cfdb14ef38": {
          "model_module": "@jupyter-widgets/controls",
          "model_name": "ProgressStyleModel",
          "model_module_version": "1.5.0",
          "state": {
            "_model_module": "@jupyter-widgets/controls",
            "_model_module_version": "1.5.0",
            "_model_name": "ProgressStyleModel",
            "_view_count": null,
            "_view_module": "@jupyter-widgets/base",
            "_view_module_version": "1.2.0",
            "_view_name": "StyleView",
            "bar_color": null,
            "description_width": ""
          }
        },
        "63dac0622ac74afe9539740dc29da061": {
          "model_module": "@jupyter-widgets/base",
          "model_name": "LayoutModel",
          "model_module_version": "1.2.0",
          "state": {
            "_model_module": "@jupyter-widgets/base",
            "_model_module_version": "1.2.0",
            "_model_name": "LayoutModel",
            "_view_count": null,
            "_view_module": "@jupyter-widgets/base",
            "_view_module_version": "1.2.0",
            "_view_name": "LayoutView",
            "align_content": null,
            "align_items": null,
            "align_self": null,
            "border": null,
            "bottom": null,
            "display": null,
            "flex": null,
            "flex_flow": null,
            "grid_area": null,
            "grid_auto_columns": null,
            "grid_auto_flow": null,
            "grid_auto_rows": null,
            "grid_column": null,
            "grid_gap": null,
            "grid_row": null,
            "grid_template_areas": null,
            "grid_template_columns": null,
            "grid_template_rows": null,
            "height": null,
            "justify_content": null,
            "justify_items": null,
            "left": null,
            "margin": null,
            "max_height": null,
            "max_width": null,
            "min_height": null,
            "min_width": null,
            "object_fit": null,
            "object_position": null,
            "order": null,
            "overflow": null,
            "overflow_x": null,
            "overflow_y": null,
            "padding": null,
            "right": null,
            "top": null,
            "visibility": null,
            "width": null
          }
        },
        "950cb86b1da042b1848c1bfe2f2ab613": {
          "model_module": "@jupyter-widgets/controls",
          "model_name": "DescriptionStyleModel",
          "model_module_version": "1.5.0",
          "state": {
            "_model_module": "@jupyter-widgets/controls",
            "_model_module_version": "1.5.0",
            "_model_name": "DescriptionStyleModel",
            "_view_count": null,
            "_view_module": "@jupyter-widgets/base",
            "_view_module_version": "1.2.0",
            "_view_name": "StyleView",
            "description_width": ""
          }
        },
        "a926520dc33346ad90d9528e663c5132": {
          "model_module": "@jupyter-widgets/controls",
          "model_name": "HBoxModel",
          "model_module_version": "1.5.0",
          "state": {
            "_dom_classes": [],
            "_model_module": "@jupyter-widgets/controls",
            "_model_module_version": "1.5.0",
            "_model_name": "HBoxModel",
            "_view_count": null,
            "_view_module": "@jupyter-widgets/controls",
            "_view_module_version": "1.5.0",
            "_view_name": "HBoxView",
            "box_style": "",
            "children": [
              "IPY_MODEL_f297b161bd114706988597ce8701fc5a",
              "IPY_MODEL_0c5bc1592ac54fa9aac451aee33ae1e0",
              "IPY_MODEL_488675bac7cd4732ab37266cc705dce0"
            ],
            "layout": "IPY_MODEL_046eb4da6f6743a8aecab293d4e9eb13"
          }
        },
        "f297b161bd114706988597ce8701fc5a": {
          "model_module": "@jupyter-widgets/controls",
          "model_name": "HTMLModel",
          "model_module_version": "1.5.0",
          "state": {
            "_dom_classes": [],
            "_model_module": "@jupyter-widgets/controls",
            "_model_module_version": "1.5.0",
            "_model_name": "HTMLModel",
            "_view_count": null,
            "_view_module": "@jupyter-widgets/controls",
            "_view_module_version": "1.5.0",
            "_view_name": "HTMLView",
            "description": "",
            "description_tooltip": null,
            "layout": "IPY_MODEL_5616a195a7b54398a6dc0fe6cb7d44c4",
            "placeholder": "​",
            "style": "IPY_MODEL_f62b85fee5334c54b805550fc13dfc77",
            "value": "chat_template.json: 100%"
          }
        },
        "0c5bc1592ac54fa9aac451aee33ae1e0": {
          "model_module": "@jupyter-widgets/controls",
          "model_name": "FloatProgressModel",
          "model_module_version": "1.5.0",
          "state": {
            "_dom_classes": [],
            "_model_module": "@jupyter-widgets/controls",
            "_model_module_version": "1.5.0",
            "_model_name": "FloatProgressModel",
            "_view_count": null,
            "_view_module": "@jupyter-widgets/controls",
            "_view_module_version": "1.5.0",
            "_view_name": "ProgressView",
            "bar_style": "success",
            "description": "",
            "description_tooltip": null,
            "layout": "IPY_MODEL_64c74bf6cdde42719b1277b8e5221d1f",
            "max": 1049,
            "min": 0,
            "orientation": "horizontal",
            "style": "IPY_MODEL_fd34841d8bca474089f46cdab78d6bd6",
            "value": 1049
          }
        },
        "488675bac7cd4732ab37266cc705dce0": {
          "model_module": "@jupyter-widgets/controls",
          "model_name": "HTMLModel",
          "model_module_version": "1.5.0",
          "state": {
            "_dom_classes": [],
            "_model_module": "@jupyter-widgets/controls",
            "_model_module_version": "1.5.0",
            "_model_name": "HTMLModel",
            "_view_count": null,
            "_view_module": "@jupyter-widgets/controls",
            "_view_module_version": "1.5.0",
            "_view_name": "HTMLView",
            "description": "",
            "description_tooltip": null,
            "layout": "IPY_MODEL_b599b2ed4be94977a344293e2b09f68a",
            "placeholder": "​",
            "style": "IPY_MODEL_101dbcbc4e6c419db84f5acea9105607",
            "value": " 1.05k/1.05k [00:00&lt;00:00, 86.3kB/s]"
          }
        },
        "046eb4da6f6743a8aecab293d4e9eb13": {
          "model_module": "@jupyter-widgets/base",
          "model_name": "LayoutModel",
          "model_module_version": "1.2.0",
          "state": {
            "_model_module": "@jupyter-widgets/base",
            "_model_module_version": "1.2.0",
            "_model_name": "LayoutModel",
            "_view_count": null,
            "_view_module": "@jupyter-widgets/base",
            "_view_module_version": "1.2.0",
            "_view_name": "LayoutView",
            "align_content": null,
            "align_items": null,
            "align_self": null,
            "border": null,
            "bottom": null,
            "display": null,
            "flex": null,
            "flex_flow": null,
            "grid_area": null,
            "grid_auto_columns": null,
            "grid_auto_flow": null,
            "grid_auto_rows": null,
            "grid_column": null,
            "grid_gap": null,
            "grid_row": null,
            "grid_template_areas": null,
            "grid_template_columns": null,
            "grid_template_rows": null,
            "height": null,
            "justify_content": null,
            "justify_items": null,
            "left": null,
            "margin": null,
            "max_height": null,
            "max_width": null,
            "min_height": null,
            "min_width": null,
            "object_fit": null,
            "object_position": null,
            "order": null,
            "overflow": null,
            "overflow_x": null,
            "overflow_y": null,
            "padding": null,
            "right": null,
            "top": null,
            "visibility": null,
            "width": null
          }
        },
        "5616a195a7b54398a6dc0fe6cb7d44c4": {
          "model_module": "@jupyter-widgets/base",
          "model_name": "LayoutModel",
          "model_module_version": "1.2.0",
          "state": {
            "_model_module": "@jupyter-widgets/base",
            "_model_module_version": "1.2.0",
            "_model_name": "LayoutModel",
            "_view_count": null,
            "_view_module": "@jupyter-widgets/base",
            "_view_module_version": "1.2.0",
            "_view_name": "LayoutView",
            "align_content": null,
            "align_items": null,
            "align_self": null,
            "border": null,
            "bottom": null,
            "display": null,
            "flex": null,
            "flex_flow": null,
            "grid_area": null,
            "grid_auto_columns": null,
            "grid_auto_flow": null,
            "grid_auto_rows": null,
            "grid_column": null,
            "grid_gap": null,
            "grid_row": null,
            "grid_template_areas": null,
            "grid_template_columns": null,
            "grid_template_rows": null,
            "height": null,
            "justify_content": null,
            "justify_items": null,
            "left": null,
            "margin": null,
            "max_height": null,
            "max_width": null,
            "min_height": null,
            "min_width": null,
            "object_fit": null,
            "object_position": null,
            "order": null,
            "overflow": null,
            "overflow_x": null,
            "overflow_y": null,
            "padding": null,
            "right": null,
            "top": null,
            "visibility": null,
            "width": null
          }
        },
        "f62b85fee5334c54b805550fc13dfc77": {
          "model_module": "@jupyter-widgets/controls",
          "model_name": "DescriptionStyleModel",
          "model_module_version": "1.5.0",
          "state": {
            "_model_module": "@jupyter-widgets/controls",
            "_model_module_version": "1.5.0",
            "_model_name": "DescriptionStyleModel",
            "_view_count": null,
            "_view_module": "@jupyter-widgets/base",
            "_view_module_version": "1.2.0",
            "_view_name": "StyleView",
            "description_width": ""
          }
        },
        "64c74bf6cdde42719b1277b8e5221d1f": {
          "model_module": "@jupyter-widgets/base",
          "model_name": "LayoutModel",
          "model_module_version": "1.2.0",
          "state": {
            "_model_module": "@jupyter-widgets/base",
            "_model_module_version": "1.2.0",
            "_model_name": "LayoutModel",
            "_view_count": null,
            "_view_module": "@jupyter-widgets/base",
            "_view_module_version": "1.2.0",
            "_view_name": "LayoutView",
            "align_content": null,
            "align_items": null,
            "align_self": null,
            "border": null,
            "bottom": null,
            "display": null,
            "flex": null,
            "flex_flow": null,
            "grid_area": null,
            "grid_auto_columns": null,
            "grid_auto_flow": null,
            "grid_auto_rows": null,
            "grid_column": null,
            "grid_gap": null,
            "grid_row": null,
            "grid_template_areas": null,
            "grid_template_columns": null,
            "grid_template_rows": null,
            "height": null,
            "justify_content": null,
            "justify_items": null,
            "left": null,
            "margin": null,
            "max_height": null,
            "max_width": null,
            "min_height": null,
            "min_width": null,
            "object_fit": null,
            "object_position": null,
            "order": null,
            "overflow": null,
            "overflow_x": null,
            "overflow_y": null,
            "padding": null,
            "right": null,
            "top": null,
            "visibility": null,
            "width": null
          }
        },
        "fd34841d8bca474089f46cdab78d6bd6": {
          "model_module": "@jupyter-widgets/controls",
          "model_name": "ProgressStyleModel",
          "model_module_version": "1.5.0",
          "state": {
            "_model_module": "@jupyter-widgets/controls",
            "_model_module_version": "1.5.0",
            "_model_name": "ProgressStyleModel",
            "_view_count": null,
            "_view_module": "@jupyter-widgets/base",
            "_view_module_version": "1.2.0",
            "_view_name": "StyleView",
            "bar_color": null,
            "description_width": ""
          }
        },
        "b599b2ed4be94977a344293e2b09f68a": {
          "model_module": "@jupyter-widgets/base",
          "model_name": "LayoutModel",
          "model_module_version": "1.2.0",
          "state": {
            "_model_module": "@jupyter-widgets/base",
            "_model_module_version": "1.2.0",
            "_model_name": "LayoutModel",
            "_view_count": null,
            "_view_module": "@jupyter-widgets/base",
            "_view_module_version": "1.2.0",
            "_view_name": "LayoutView",
            "align_content": null,
            "align_items": null,
            "align_self": null,
            "border": null,
            "bottom": null,
            "display": null,
            "flex": null,
            "flex_flow": null,
            "grid_area": null,
            "grid_auto_columns": null,
            "grid_auto_flow": null,
            "grid_auto_rows": null,
            "grid_column": null,
            "grid_gap": null,
            "grid_row": null,
            "grid_template_areas": null,
            "grid_template_columns": null,
            "grid_template_rows": null,
            "height": null,
            "justify_content": null,
            "justify_items": null,
            "left": null,
            "margin": null,
            "max_height": null,
            "max_width": null,
            "min_height": null,
            "min_width": null,
            "object_fit": null,
            "object_position": null,
            "order": null,
            "overflow": null,
            "overflow_x": null,
            "overflow_y": null,
            "padding": null,
            "right": null,
            "top": null,
            "visibility": null,
            "width": null
          }
        },
        "101dbcbc4e6c419db84f5acea9105607": {
          "model_module": "@jupyter-widgets/controls",
          "model_name": "DescriptionStyleModel",
          "model_module_version": "1.5.0",
          "state": {
            "_model_module": "@jupyter-widgets/controls",
            "_model_module_version": "1.5.0",
            "_model_name": "DescriptionStyleModel",
            "_view_count": null,
            "_view_module": "@jupyter-widgets/base",
            "_view_module_version": "1.2.0",
            "_view_name": "StyleView",
            "description_width": ""
          }
        }
      }
    }
  },
  "cells": [
    {
      "cell_type": "markdown",
      "metadata": {
        "id": "view-in-github",
        "colab_type": "text"
      },
      "source": [
        "<a href=\"https://colab.research.google.com/github/sqbitegh/Colabs/blob/main/ColabQwenServer.ipynb\" target=\"_parent\"><img src=\"https://colab.research.google.com/assets/colab-badge.svg\" alt=\"Open In Colab\"/></a>"
      ]
    },
    {
      "cell_type": "code",
      "execution_count": null,
      "metadata": {
        "id": "qMoHXqZUioXL"
      },
      "outputs": [],
      "source": [
        "#script works on T4 only\n",
        "\n",
        "#apparently not needed\n",
        "!pip install flask-ngrok\n",
        "!pip install flask\n",
        "!pip install git+https://github.com/huggingface/transformers@21fac7abba2a37fae86106f87fcf9974fd1e3830 accelerate\n",
        "#apparently not needed"
      ]
    },
    {
      "cell_type": "code",
      "source": [
        "#those required\n",
        "#!pip install pyngrok==4.1.1\n",
        "!pip install pyngrok\n",
        "!pip install qwen-vl-utils[decord]\n",
        "!pip install autoawq"
      ],
      "metadata": {
        "id": "TZpTCZ1Biz7i",
        "colab": {
          "base_uri": "https://localhost:8080/"
        },
        "outputId": "17c637d5-dd52-4247-8d7d-0d53092ae46c"
      },
      "execution_count": 1,
      "outputs": [
        {
          "output_type": "stream",
          "name": "stdout",
          "text": [
            "Collecting pyngrok\n",
            "  Downloading pyngrok-7.2.3-py3-none-any.whl.metadata (8.7 kB)\n",
            "Requirement already satisfied: PyYAML>=5.1 in /usr/local/lib/python3.11/dist-packages (from pyngrok) (6.0.2)\n",
            "Downloading pyngrok-7.2.3-py3-none-any.whl (23 kB)\n",
            "Installing collected packages: pyngrok\n",
            "Successfully installed pyngrok-7.2.3\n",
            "Collecting qwen-vl-utils[decord]\n",
            "  Downloading qwen_vl_utils-0.0.8-py3-none-any.whl.metadata (3.6 kB)\n",
            "Collecting av (from qwen-vl-utils[decord])\n",
            "  Downloading av-14.0.1-cp311-cp311-manylinux_2_17_x86_64.manylinux2014_x86_64.whl.metadata (4.5 kB)\n",
            "Requirement already satisfied: packaging in /usr/local/lib/python3.11/dist-packages (from qwen-vl-utils[decord]) (24.2)\n",
            "Requirement already satisfied: pillow in /usr/local/lib/python3.11/dist-packages (from qwen-vl-utils[decord]) (11.1.0)\n",
            "Requirement already satisfied: requests in /usr/local/lib/python3.11/dist-packages (from qwen-vl-utils[decord]) (2.32.3)\n",
            "Collecting decord (from qwen-vl-utils[decord])\n",
            "  Downloading decord-0.6.0-py3-none-manylinux2010_x86_64.whl.metadata (422 bytes)\n",
            "Requirement already satisfied: numpy>=1.14.0 in /usr/local/lib/python3.11/dist-packages (from decord->qwen-vl-utils[decord]) (1.26.4)\n",
            "Requirement already satisfied: charset-normalizer<4,>=2 in /usr/local/lib/python3.11/dist-packages (from requests->qwen-vl-utils[decord]) (3.4.1)\n",
            "Requirement already satisfied: idna<4,>=2.5 in /usr/local/lib/python3.11/dist-packages (from requests->qwen-vl-utils[decord]) (3.10)\n",
            "Requirement already satisfied: urllib3<3,>=1.21.1 in /usr/local/lib/python3.11/dist-packages (from requests->qwen-vl-utils[decord]) (2.3.0)\n",
            "Requirement already satisfied: certifi>=2017.4.17 in /usr/local/lib/python3.11/dist-packages (from requests->qwen-vl-utils[decord]) (2024.12.14)\n",
            "Downloading av-14.0.1-cp311-cp311-manylinux_2_17_x86_64.manylinux2014_x86_64.whl (33.8 MB)\n",
            "\u001b[2K   \u001b[90m━━━━━━━━━━━━━━━━━━━━━━━━━━━━━━━━━━━━━━━━\u001b[0m \u001b[32m33.8/33.8 MB\u001b[0m \u001b[31m14.1 MB/s\u001b[0m eta \u001b[36m0:00:00\u001b[0m\n",
            "\u001b[?25hDownloading decord-0.6.0-py3-none-manylinux2010_x86_64.whl (13.6 MB)\n",
            "\u001b[2K   \u001b[90m━━━━━━━━━━━━━━━━━━━━━━━━━━━━━━━━━━━━━━━━\u001b[0m \u001b[32m13.6/13.6 MB\u001b[0m \u001b[31m35.0 MB/s\u001b[0m eta \u001b[36m0:00:00\u001b[0m\n",
            "\u001b[?25hDownloading qwen_vl_utils-0.0.8-py3-none-any.whl (5.9 kB)\n",
            "Installing collected packages: decord, av, qwen-vl-utils\n",
            "Successfully installed av-14.0.1 decord-0.6.0 qwen-vl-utils-0.0.8\n",
            "Collecting autoawq\n",
            "  Downloading autoawq-0.2.8.tar.gz (71 kB)\n",
            "\u001b[2K     \u001b[90m━━━━━━━━━━━━━━━━━━━━━━━━━━━━━━━━━━━━━━━━\u001b[0m \u001b[32m71.6/71.6 kB\u001b[0m \u001b[31m5.7 MB/s\u001b[0m eta \u001b[36m0:00:00\u001b[0m\n",
            "\u001b[?25h  Preparing metadata (setup.py) ... \u001b[?25l\u001b[?25hdone\n",
            "Requirement already satisfied: torch>=2.5.1 in /usr/local/lib/python3.11/dist-packages (from autoawq) (2.5.1+cu121)\n",
            "Requirement already satisfied: triton in /usr/local/lib/python3.11/dist-packages (from autoawq) (3.1.0)\n",
            "Requirement already satisfied: transformers<=4.47.1,>=4.45.0 in /usr/local/lib/python3.11/dist-packages (from autoawq) (4.47.1)\n",
            "Requirement already satisfied: tokenizers>=0.12.1 in /usr/local/lib/python3.11/dist-packages (from autoawq) (0.21.0)\n",
            "Requirement already satisfied: typing_extensions>=4.8.0 in /usr/local/lib/python3.11/dist-packages (from autoawq) (4.12.2)\n",
            "Requirement already satisfied: accelerate in /usr/local/lib/python3.11/dist-packages (from autoawq) (1.2.1)\n",
            "Collecting datasets>=2.20 (from autoawq)\n",
            "  Downloading datasets-3.2.0-py3-none-any.whl.metadata (20 kB)\n",
            "Requirement already satisfied: zstandard in /usr/local/lib/python3.11/dist-packages (from autoawq) (0.23.0)\n",
            "Requirement already satisfied: huggingface_hub>=0.26.5 in /usr/local/lib/python3.11/dist-packages (from autoawq) (0.27.1)\n",
            "Requirement already satisfied: filelock in /usr/local/lib/python3.11/dist-packages (from datasets>=2.20->autoawq) (3.17.0)\n",
            "Requirement already satisfied: numpy>=1.17 in /usr/local/lib/python3.11/dist-packages (from datasets>=2.20->autoawq) (1.26.4)\n",
            "Requirement already satisfied: pyarrow>=15.0.0 in /usr/local/lib/python3.11/dist-packages (from datasets>=2.20->autoawq) (17.0.0)\n",
            "Collecting dill<0.3.9,>=0.3.0 (from datasets>=2.20->autoawq)\n",
            "  Downloading dill-0.3.8-py3-none-any.whl.metadata (10 kB)\n",
            "Requirement already satisfied: pandas in /usr/local/lib/python3.11/dist-packages (from datasets>=2.20->autoawq) (2.2.2)\n",
            "Requirement already satisfied: requests>=2.32.2 in /usr/local/lib/python3.11/dist-packages (from datasets>=2.20->autoawq) (2.32.3)\n",
            "Requirement already satisfied: tqdm>=4.66.3 in /usr/local/lib/python3.11/dist-packages (from datasets>=2.20->autoawq) (4.67.1)\n",
            "Collecting xxhash (from datasets>=2.20->autoawq)\n",
            "  Downloading xxhash-3.5.0-cp311-cp311-manylinux_2_17_x86_64.manylinux2014_x86_64.whl.metadata (12 kB)\n",
            "Collecting multiprocess<0.70.17 (from datasets>=2.20->autoawq)\n",
            "  Downloading multiprocess-0.70.16-py311-none-any.whl.metadata (7.2 kB)\n",
            "Collecting fsspec<=2024.9.0,>=2023.1.0 (from fsspec[http]<=2024.9.0,>=2023.1.0->datasets>=2.20->autoawq)\n",
            "  Downloading fsspec-2024.9.0-py3-none-any.whl.metadata (11 kB)\n",
            "Requirement already satisfied: aiohttp in /usr/local/lib/python3.11/dist-packages (from datasets>=2.20->autoawq) (3.11.11)\n",
            "Requirement already satisfied: packaging in /usr/local/lib/python3.11/dist-packages (from datasets>=2.20->autoawq) (24.2)\n",
            "Requirement already satisfied: pyyaml>=5.1 in /usr/local/lib/python3.11/dist-packages (from datasets>=2.20->autoawq) (6.0.2)\n",
            "Requirement already satisfied: networkx in /usr/local/lib/python3.11/dist-packages (from torch>=2.5.1->autoawq) (3.4.2)\n",
            "Requirement already satisfied: jinja2 in /usr/local/lib/python3.11/dist-packages (from torch>=2.5.1->autoawq) (3.1.5)\n",
            "Requirement already satisfied: nvidia-cuda-nvrtc-cu12==12.1.105 in /usr/local/lib/python3.11/dist-packages (from torch>=2.5.1->autoawq) (12.1.105)\n",
            "Requirement already satisfied: nvidia-cuda-runtime-cu12==12.1.105 in /usr/local/lib/python3.11/dist-packages (from torch>=2.5.1->autoawq) (12.1.105)\n",
            "Requirement already satisfied: nvidia-cuda-cupti-cu12==12.1.105 in /usr/local/lib/python3.11/dist-packages (from torch>=2.5.1->autoawq) (12.1.105)\n",
            "Requirement already satisfied: nvidia-cudnn-cu12==9.1.0.70 in /usr/local/lib/python3.11/dist-packages (from torch>=2.5.1->autoawq) (9.1.0.70)\n",
            "Requirement already satisfied: nvidia-cublas-cu12==12.1.3.1 in /usr/local/lib/python3.11/dist-packages (from torch>=2.5.1->autoawq) (12.1.3.1)\n",
            "Requirement already satisfied: nvidia-cufft-cu12==11.0.2.54 in /usr/local/lib/python3.11/dist-packages (from torch>=2.5.1->autoawq) (11.0.2.54)\n",
            "Requirement already satisfied: nvidia-curand-cu12==10.3.2.106 in /usr/local/lib/python3.11/dist-packages (from torch>=2.5.1->autoawq) (10.3.2.106)\n",
            "Requirement already satisfied: nvidia-cusolver-cu12==11.4.5.107 in /usr/local/lib/python3.11/dist-packages (from torch>=2.5.1->autoawq) (11.4.5.107)\n",
            "Requirement already satisfied: nvidia-cusparse-cu12==12.1.0.106 in /usr/local/lib/python3.11/dist-packages (from torch>=2.5.1->autoawq) (12.1.0.106)\n",
            "Requirement already satisfied: nvidia-nccl-cu12==2.21.5 in /usr/local/lib/python3.11/dist-packages (from torch>=2.5.1->autoawq) (2.21.5)\n",
            "Requirement already satisfied: nvidia-nvtx-cu12==12.1.105 in /usr/local/lib/python3.11/dist-packages (from torch>=2.5.1->autoawq) (12.1.105)\n",
            "Requirement already satisfied: sympy==1.13.1 in /usr/local/lib/python3.11/dist-packages (from torch>=2.5.1->autoawq) (1.13.1)\n",
            "Requirement already satisfied: nvidia-nvjitlink-cu12 in /usr/local/lib/python3.11/dist-packages (from nvidia-cusolver-cu12==11.4.5.107->torch>=2.5.1->autoawq) (12.6.85)\n",
            "Requirement already satisfied: mpmath<1.4,>=1.1.0 in /usr/local/lib/python3.11/dist-packages (from sympy==1.13.1->torch>=2.5.1->autoawq) (1.3.0)\n",
            "Requirement already satisfied: regex!=2019.12.17 in /usr/local/lib/python3.11/dist-packages (from transformers<=4.47.1,>=4.45.0->autoawq) (2024.11.6)\n",
            "Requirement already satisfied: safetensors>=0.4.1 in /usr/local/lib/python3.11/dist-packages (from transformers<=4.47.1,>=4.45.0->autoawq) (0.5.2)\n",
            "Requirement already satisfied: psutil in /usr/local/lib/python3.11/dist-packages (from accelerate->autoawq) (5.9.5)\n",
            "Requirement already satisfied: aiohappyeyeballs>=2.3.0 in /usr/local/lib/python3.11/dist-packages (from aiohttp->datasets>=2.20->autoawq) (2.4.4)\n",
            "Requirement already satisfied: aiosignal>=1.1.2 in /usr/local/lib/python3.11/dist-packages (from aiohttp->datasets>=2.20->autoawq) (1.3.2)\n",
            "Requirement already satisfied: attrs>=17.3.0 in /usr/local/lib/python3.11/dist-packages (from aiohttp->datasets>=2.20->autoawq) (24.3.0)\n",
            "Requirement already satisfied: frozenlist>=1.1.1 in /usr/local/lib/python3.11/dist-packages (from aiohttp->datasets>=2.20->autoawq) (1.5.0)\n",
            "Requirement already satisfied: multidict<7.0,>=4.5 in /usr/local/lib/python3.11/dist-packages (from aiohttp->datasets>=2.20->autoawq) (6.1.0)\n",
            "Requirement already satisfied: propcache>=0.2.0 in /usr/local/lib/python3.11/dist-packages (from aiohttp->datasets>=2.20->autoawq) (0.2.1)\n",
            "Requirement already satisfied: yarl<2.0,>=1.17.0 in /usr/local/lib/python3.11/dist-packages (from aiohttp->datasets>=2.20->autoawq) (1.18.3)\n",
            "Requirement already satisfied: charset-normalizer<4,>=2 in /usr/local/lib/python3.11/dist-packages (from requests>=2.32.2->datasets>=2.20->autoawq) (3.4.1)\n",
            "Requirement already satisfied: idna<4,>=2.5 in /usr/local/lib/python3.11/dist-packages (from requests>=2.32.2->datasets>=2.20->autoawq) (3.10)\n",
            "Requirement already satisfied: urllib3<3,>=1.21.1 in /usr/local/lib/python3.11/dist-packages (from requests>=2.32.2->datasets>=2.20->autoawq) (2.3.0)\n",
            "Requirement already satisfied: certifi>=2017.4.17 in /usr/local/lib/python3.11/dist-packages (from requests>=2.32.2->datasets>=2.20->autoawq) (2024.12.14)\n",
            "Requirement already satisfied: MarkupSafe>=2.0 in /usr/local/lib/python3.11/dist-packages (from jinja2->torch>=2.5.1->autoawq) (3.0.2)\n",
            "Requirement already satisfied: python-dateutil>=2.8.2 in /usr/local/lib/python3.11/dist-packages (from pandas->datasets>=2.20->autoawq) (2.8.2)\n",
            "Requirement already satisfied: pytz>=2020.1 in /usr/local/lib/python3.11/dist-packages (from pandas->datasets>=2.20->autoawq) (2024.2)\n",
            "Requirement already satisfied: tzdata>=2022.7 in /usr/local/lib/python3.11/dist-packages (from pandas->datasets>=2.20->autoawq) (2025.1)\n",
            "Requirement already satisfied: six>=1.5 in /usr/local/lib/python3.11/dist-packages (from python-dateutil>=2.8.2->pandas->datasets>=2.20->autoawq) (1.17.0)\n",
            "Downloading datasets-3.2.0-py3-none-any.whl (480 kB)\n",
            "\u001b[2K   \u001b[90m━━━━━━━━━━━━━━━━━━━━━━━━━━━━━━━━━━━━━━━━\u001b[0m \u001b[32m480.6/480.6 kB\u001b[0m \u001b[31m22.6 MB/s\u001b[0m eta \u001b[36m0:00:00\u001b[0m\n",
            "\u001b[?25hDownloading dill-0.3.8-py3-none-any.whl (116 kB)\n",
            "\u001b[2K   \u001b[90m━━━━━━━━━━━━━━━━━━━━━━━━━━━━━━━━━━━━━━━━\u001b[0m \u001b[32m116.3/116.3 kB\u001b[0m \u001b[31m5.2 MB/s\u001b[0m eta \u001b[36m0:00:00\u001b[0m\n",
            "\u001b[?25hDownloading fsspec-2024.9.0-py3-none-any.whl (179 kB)\n",
            "\u001b[2K   \u001b[90m━━━━━━━━━━━━━━━━━━━━━━━━━━━━━━━━━━━━━━━━\u001b[0m \u001b[32m179.3/179.3 kB\u001b[0m \u001b[31m8.3 MB/s\u001b[0m eta \u001b[36m0:00:00\u001b[0m\n",
            "\u001b[?25hDownloading multiprocess-0.70.16-py311-none-any.whl (143 kB)\n",
            "\u001b[2K   \u001b[90m━━━━━━━━━━━━━━━━━━━━━━━━━━━━━━━━━━━━━━━━\u001b[0m \u001b[32m143.5/143.5 kB\u001b[0m \u001b[31m3.1 MB/s\u001b[0m eta \u001b[36m0:00:00\u001b[0m\n",
            "\u001b[?25hDownloading xxhash-3.5.0-cp311-cp311-manylinux_2_17_x86_64.manylinux2014_x86_64.whl (194 kB)\n",
            "\u001b[2K   \u001b[90m━━━━━━━━━━━━━━━━━━━━━━━━━━━━━━━━━━━━━━━━\u001b[0m \u001b[32m194.8/194.8 kB\u001b[0m \u001b[31m7.6 MB/s\u001b[0m eta \u001b[36m0:00:00\u001b[0m\n",
            "\u001b[?25hBuilding wheels for collected packages: autoawq\n",
            "  Building wheel for autoawq (setup.py) ... \u001b[?25l\u001b[?25hdone\n",
            "  Created wheel for autoawq: filename=autoawq-0.2.8-py3-none-any.whl size=108744 sha256=c05346c024fd7e5e9b104ca33322cb87ca89b6a742e7320db5ad902b1dd48a6c\n",
            "  Stored in directory: /root/.cache/pip/wheels/fd/03/fe/99c1c678bfe8aca712186466969ed866f52feda95ae1dcd1b1\n",
            "Successfully built autoawq\n",
            "Installing collected packages: xxhash, fsspec, dill, multiprocess, datasets, autoawq\n",
            "  Attempting uninstall: fsspec\n",
            "    Found existing installation: fsspec 2024.10.0\n",
            "    Uninstalling fsspec-2024.10.0:\n",
            "      Successfully uninstalled fsspec-2024.10.0\n",
            "\u001b[31mERROR: pip's dependency resolver does not currently take into account all the packages that are installed. This behaviour is the source of the following dependency conflicts.\n",
            "gcsfs 2024.10.0 requires fsspec==2024.10.0, but you have fsspec 2024.9.0 which is incompatible.\u001b[0m\u001b[31m\n",
            "\u001b[0mSuccessfully installed autoawq-0.2.8 datasets-3.2.0 dill-0.3.8 fsspec-2024.9.0 multiprocess-0.70.16 xxhash-3.5.0\n"
          ]
        }
      ]
    },
    {
      "cell_type": "code",
      "source": [
        "import requests\n",
        "from io import BytesIO\n",
        "from PIL import Image\n",
        "from transformers import Qwen2VLForConditionalGeneration, AutoTokenizer, AutoProcessor\n",
        "from qwen_vl_utils import process_vision_info\n",
        "\n",
        "# default: Load the model on the available device(s)\n",
        "model = Qwen2VLForConditionalGeneration.from_pretrained(\n",
        "    \"Qwen/Qwen2-VL-2B-Instruct-AWQ\", torch_dtype=\"auto\", device_map=\"auto\"\n",
        ")\n",
        "\n",
        "# We recommend enabling flash_attention_2 for better acceleration and memory saving, especially in multi-image and video scenarios.\n",
        "# model = Qwen2VLForConditionalGeneration.from_pretrained(\n",
        "#     \"Qwen/Qwen2-VL-7B-Instruct\",\n",
        "#     torch_dtype=torch.bfloat16,\n",
        "#     attn_implementation=\"flash_attention_2\",\n",
        "#     device_map=\"auto\",\n",
        "# )\n",
        "\n",
        "# default processer\n",
        "processor = AutoProcessor.from_pretrained(\"Qwen/Qwen2-VL-2B-Instruct-AWQ\")\n",
        "\n",
        "\n"
      ],
      "metadata": {
        "colab": {
          "base_uri": "https://localhost:8080/",
          "height": 424,
          "referenced_widgets": [
            "d995eacf9e66495081d119b37e47270c",
            "cae3cf4068d64f35813b269750c8187e",
            "091eba7a7f3f4dafbb54499705edd34c",
            "c8695f33ef0a4219b388e50940821061",
            "df31148644c142f9a93a605cf0972e89",
            "d53a751a54ab4b68a4d374197164b037",
            "c2dff0b664c2479a9f68f13f1c9900a6",
            "f1f4b83199de41cebb3cc518904db838",
            "39c0f7ef281643bcb56de4fc848cf953",
            "71e12b675979403ebe256c121699fae4",
            "757c176973ba41728cb0e9023edb4275",
            "f20de47a1d9d442da2606812bb2ce1b7",
            "c55b5611c47149d8ad3956a7d7389905",
            "8e81cf0305f44dbe87d0f573cb86ecfe",
            "6decac635a0640dabd76674770c57913",
            "0b77c0a9ef5a44f1bab4e588cc11bf4a",
            "780db0e9d28a416e88f1ce889aacf5de",
            "2c04470372414212ab60aebe172c38c4",
            "1496439c0d82409a8f5f1560c5e5675f",
            "a1a8b4a1e0654dd2baf955f105e72e5e",
            "23e6dc2b1a6249319abf9486ee46b97d",
            "1b5667695b674fda9240cce234460937",
            "0860eea1de4147e0a9fe30e735499e7b",
            "f2b72e9489ec4b28b682ef6e838181ee",
            "5e730bdb9b674d43814432d7b971cca2",
            "c661ac61f1cd40c58a4d6484d660cdd8",
            "af78abaf821b4e4880ad9501eef032ab",
            "5eecbfb339a946af8407f2ce719901dd",
            "0ec364c436d945db937e5df6a66d397c",
            "9c4aa5c0ec2a4e9794357fad49b45d57",
            "37288c5c7be0491aa21873e88f27e403",
            "2894e314421a456ca6bf2736ec5a7cf5",
            "a9a25230793b406fb9f5b2759469ae22",
            "0444bf353f4342c1962b288e63249fc3",
            "ac8f9645eaf64979bddb6d35874f1cc1",
            "b8be304079eb4b76861505213d21cf16",
            "7a34782d8f3e47f3bcd37c5ed164252b",
            "176171eb73ac483f97fef689ad9a11e1",
            "33044b36643644aa8234791340643bcf",
            "f2f11677f1224ed19c8a5de5ea1e93e5",
            "d824c78ae31f42b09482d58ab117b3c6",
            "300d55f3b36a46d4adbae0ac7f7ad95d",
            "72ace1aa4b1a43fdae24572a047e5e4d",
            "865c4be9b83e412aa7c4479dad1d0d30",
            "82a0fe75892641c58f5537c264b536eb",
            "a49cb94916f743819d8b4032f5fc181e",
            "d0a0179b56bc4b5091addcdedf058471",
            "8f4af7b6f5e744a29a339c6b4fdb40b0",
            "c26b2cb988b245718e0f4130cbe06a91",
            "b773f489cdd94f4c89655292614d5701",
            "0f7837facba14dd68c25cbf26e846318",
            "b2ba9bc1ecba4052b78de865bc778d72",
            "b8f6e393882b4a7fafbc21ffe31bde7b",
            "ce5aeca64ee14f649d2914ad82650fc5",
            "ac262bc3c57b4ceeba0f9bd925b35cf4",
            "b01c6265ce1448258b620b01794836fe",
            "c240e34400b64675899aedf8bd9d123a",
            "cf78b689566447209bc8c53b7a9ddcc5",
            "de96ff25cbd5435b8a9cbfbdee37a044",
            "4f214f3626624d8e8ab87616492b3f3c",
            "b2580b4ffb834460a717c1aaca823023",
            "6465e80fc8ea44a4a89e1e648ceb650f",
            "b758237e9e974dbc96e15aff55e71047",
            "55136ccf7a484507b1f0d01d2899d793",
            "d1ef888cf03949a396148e721200dc06",
            "27789d6e6f86431fb2b856b91914ee23",
            "6cc95c436a024a9097c0281b9d92e2c2",
            "f1e1db77298b4656aa1577a49bad7e16",
            "bc8cc6256f7046cfaf27bcd4df14da98",
            "7c2077a93c824defa14243378c79fd02",
            "41f35ce57cba4d8687bd711fe8abd920",
            "d86e89c1f12d4bc2aafe8f7abbfc3ad1",
            "d574e8980b5b4d929f4cd06567cba344",
            "9d4a5e9a9e584d5b9550143995edcc55",
            "dc0cd380e7454268b9a14be2a5e08ea1",
            "33ac191c282340af83b9bcc5b5afeae4",
            "3a18c583298443d39506233b5730b24a",
            "f7aa0d272b3b444ea7fd3a574b7209f2",
            "7fdc52e3fb3c402a9423815a8ca80eb1",
            "15fdc7018e2b4af99a67bf69b59108c8",
            "90e22213577b4d7a8ab3b835702b9046",
            "f74ab34a377b47f6b6ecb5021f04efa2",
            "006cb7035be446aabb29ef31c60b8ff1",
            "c25800102f084bffa2d2996011fe0622",
            "6425d12f23a041018e6330a177f3fe20",
            "8fbba6f591814906b50995668e417f63",
            "8d2562cc4ece4c16bfa8424c4119cec9",
            "56a168e6b0f147f28732377dacab9201",
            "68137d76e4a64d3db5b17b5a23ca38f0",
            "d9228959d01f4518a89a0168249c7401",
            "2821a4e7237b46ec93eda57ced436526",
            "d84441fa0816400f9be6c0f2c3eca4bf",
            "9b152f008a574af8be46d6061fa8cdc8",
            "149868c4fc21480ca7e793ef9639fc13",
            "7235315e7c944a63aeaa02e9ed3e4be8",
            "8959119a7c604264a37086cbcad91596",
            "10a78021b95f49dc9ed2de56fb546c7c",
            "02ac9fcbbcae488b9a6db0a30965f3ee",
            "f22982ea0a8f49e0a8bc7a350069fb3d",
            "a6902b5145ac4866a02ccdbe656b835e",
            "310a07e027f0445aaaaa1c4f6bba63e5",
            "4d74e2c9f7a84085b61b087ba09d772a",
            "8d543254ddf74919b737529fee74426d",
            "411af5e456074ac886b05fee0e90be43",
            "84f754b6517f455da59ea40e16ff9b29",
            "229c1ba12e77449e8770fe6f5b806680",
            "58458ee2c4b74066a5ad90cd9074f562",
            "0111fbdfaa39403fa242b3cfdb14ef38",
            "63dac0622ac74afe9539740dc29da061",
            "950cb86b1da042b1848c1bfe2f2ab613",
            "a926520dc33346ad90d9528e663c5132",
            "f297b161bd114706988597ce8701fc5a",
            "0c5bc1592ac54fa9aac451aee33ae1e0",
            "488675bac7cd4732ab37266cc705dce0",
            "046eb4da6f6743a8aecab293d4e9eb13",
            "5616a195a7b54398a6dc0fe6cb7d44c4",
            "f62b85fee5334c54b805550fc13dfc77",
            "64c74bf6cdde42719b1277b8e5221d1f",
            "fd34841d8bca474089f46cdab78d6bd6",
            "b599b2ed4be94977a344293e2b09f68a",
            "101dbcbc4e6c419db84f5acea9105607"
          ]
        },
        "id": "GG7yFdJ-jczC",
        "outputId": "4029fb08-92ce-4a99-ae12-e1fe982c5219"
      },
      "execution_count": 2,
      "outputs": [
        {
          "output_type": "display_data",
          "data": {
            "text/plain": [
              "config.json:   0%|          | 0.00/1.32k [00:00<?, ?B/s]"
            ],
            "application/vnd.jupyter.widget-view+json": {
              "version_major": 2,
              "version_minor": 0,
              "model_id": "d995eacf9e66495081d119b37e47270c"
            }
          },
          "metadata": {}
        },
        {
          "output_type": "stream",
          "name": "stderr",
          "text": [
            "We suggest you to set `torch_dtype=torch.float16` for better efficiency with AWQ.\n"
          ]
        },
        {
          "output_type": "display_data",
          "data": {
            "text/plain": [
              "model.safetensors:   0%|          | 0.00/2.95G [00:00<?, ?B/s]"
            ],
            "application/vnd.jupyter.widget-view+json": {
              "version_major": 2,
              "version_minor": 0,
              "model_id": "f20de47a1d9d442da2606812bb2ce1b7"
            }
          },
          "metadata": {}
        },
        {
          "output_type": "stream",
          "name": "stderr",
          "text": [
            "`Qwen2VLRotaryEmbedding` can now be fully parameterized by passing the model config through the `config` argument. All other arguments will be removed in v4.46\n"
          ]
        },
        {
          "output_type": "display_data",
          "data": {
            "text/plain": [
              "generation_config.json:   0%|          | 0.00/249 [00:00<?, ?B/s]"
            ],
            "application/vnd.jupyter.widget-view+json": {
              "version_major": 2,
              "version_minor": 0,
              "model_id": "0860eea1de4147e0a9fe30e735499e7b"
            }
          },
          "metadata": {}
        },
        {
          "output_type": "display_data",
          "data": {
            "text/plain": [
              "preprocessor_config.json:   0%|          | 0.00/594 [00:00<?, ?B/s]"
            ],
            "application/vnd.jupyter.widget-view+json": {
              "version_major": 2,
              "version_minor": 0,
              "model_id": "0444bf353f4342c1962b288e63249fc3"
            }
          },
          "metadata": {}
        },
        {
          "output_type": "display_data",
          "data": {
            "text/plain": [
              "tokenizer_config.json:   0%|          | 0.00/4.30k [00:00<?, ?B/s]"
            ],
            "application/vnd.jupyter.widget-view+json": {
              "version_major": 2,
              "version_minor": 0,
              "model_id": "82a0fe75892641c58f5537c264b536eb"
            }
          },
          "metadata": {}
        },
        {
          "output_type": "display_data",
          "data": {
            "text/plain": [
              "vocab.json:   0%|          | 0.00/2.78M [00:00<?, ?B/s]"
            ],
            "application/vnd.jupyter.widget-view+json": {
              "version_major": 2,
              "version_minor": 0,
              "model_id": "b01c6265ce1448258b620b01794836fe"
            }
          },
          "metadata": {}
        },
        {
          "output_type": "display_data",
          "data": {
            "text/plain": [
              "merges.txt:   0%|          | 0.00/1.67M [00:00<?, ?B/s]"
            ],
            "application/vnd.jupyter.widget-view+json": {
              "version_major": 2,
              "version_minor": 0,
              "model_id": "6cc95c436a024a9097c0281b9d92e2c2"
            }
          },
          "metadata": {}
        },
        {
          "output_type": "display_data",
          "data": {
            "text/plain": [
              "tokenizer.json:   0%|          | 0.00/7.03M [00:00<?, ?B/s]"
            ],
            "application/vnd.jupyter.widget-view+json": {
              "version_major": 2,
              "version_minor": 0,
              "model_id": "f7aa0d272b3b444ea7fd3a574b7209f2"
            }
          },
          "metadata": {}
        },
        {
          "output_type": "display_data",
          "data": {
            "text/plain": [
              "added_tokens.json:   0%|          | 0.00/392 [00:00<?, ?B/s]"
            ],
            "application/vnd.jupyter.widget-view+json": {
              "version_major": 2,
              "version_minor": 0,
              "model_id": "68137d76e4a64d3db5b17b5a23ca38f0"
            }
          },
          "metadata": {}
        },
        {
          "output_type": "display_data",
          "data": {
            "text/plain": [
              "special_tokens_map.json:   0%|          | 0.00/613 [00:00<?, ?B/s]"
            ],
            "application/vnd.jupyter.widget-view+json": {
              "version_major": 2,
              "version_minor": 0,
              "model_id": "a6902b5145ac4866a02ccdbe656b835e"
            }
          },
          "metadata": {}
        },
        {
          "output_type": "display_data",
          "data": {
            "text/plain": [
              "chat_template.json:   0%|          | 0.00/1.05k [00:00<?, ?B/s]"
            ],
            "application/vnd.jupyter.widget-view+json": {
              "version_major": 2,
              "version_minor": 0,
              "model_id": "a926520dc33346ad90d9528e663c5132"
            }
          },
          "metadata": {}
        }
      ]
    },
    {
      "cell_type": "code",
      "source": [
        "def process_message_single(prompt, question, path_to_video):\n",
        "  messages = [\n",
        "    {\n",
        "        \"role\": \"user\",\n",
        "        \"content\": [\n",
        "            {\n",
        "                \"type\": \"video\",\n",
        "                \"video\": \"file:///content/\" + path_to_video, #sample_data/5fps_10s_quarter_video_example.mp4\",\n",
        "                \"max_pixels\": 360 * 420,\n",
        "                \"fps\": 1.0,\n",
        "            },\n",
        "            {\"type\": \"text\", \"text\": question }, #\"Is there person visible. Answer with 1 word: yes or no.\"},\n",
        "        ],\n",
        "    }\n",
        "  ]\n",
        "  print(messages)\n",
        "  # Preparation for inference\n",
        "  text = processor.apply_chat_template(\n",
        "    messages, tokenize=False, add_generation_prompt=True\n",
        "  )\n",
        "  image_inputs, video_inputs = process_vision_info(messages)\n",
        "  inputs = processor(\n",
        "    text=[text],\n",
        "    images=image_inputs,\n",
        "    videos=video_inputs,\n",
        "    padding=True,\n",
        "    return_tensors=\"pt\",\n",
        "  )\n",
        "  inputs = inputs.to(\"cuda\")\n",
        "\n",
        "  # Inference\n",
        "  generated_ids = model.generate(**inputs, max_new_tokens=128)\n",
        "  generated_ids_trimmed = [\n",
        "      out_ids[len(in_ids) :] for in_ids, out_ids in zip(inputs.input_ids, generated_ids)\n",
        "  ]\n",
        "  output_text = processor.batch_decode(\n",
        "    generated_ids_trimmed, skip_special_tokens=True, clean_up_tokenization_spaces=False\n",
        "  )\n",
        "  #print(output_text)\n",
        "  return output_text\n",
        "\n"
      ],
      "metadata": {
        "id": "m49-YNujjdmd"
      },
      "execution_count": 3,
      "outputs": []
    },
    {
      "cell_type": "code",
      "source": [
        "\n",
        "\n",
        "from pyngrok import ngrok\n",
        "from flask import Flask, request, Response\n",
        "import os\n",
        "\n",
        "# token got to https://dashboard.ngrok.com/get-started/your-authtoken\n",
        "ngrok_token = \"yyyyy\"\n",
        "\n",
        "port = 5000\n",
        "ngrok.set_auth_token(ngrok_token)\n",
        "\n",
        "app = Flask(__name__)\n",
        "\n",
        "is_busy = False\n",
        "\n",
        "@app.route(\"/\")\n",
        "def root():\n",
        "  return \"Hello world colab pyngrok!\"\n",
        "\n",
        "@app.route(\"/req1\", methods=['POST'])\n",
        "def req1():\n",
        "  global is_busy\n",
        "  try:\n",
        "    if 'video' not in request.files or 'text' not in request.form:\n",
        "        return \"Missing video or text data\", 400\n",
        "\n",
        "    video_file = request.files['video']\n",
        "    text_data = request.form['text']\n",
        "    if is_busy:\n",
        "      print(\"Server is busy, skipping 10s chunk processing\")\n",
        "      return \"Server is busy\", 503\n",
        "    is_busy = True\n",
        "\n",
        "    # Print the received data\n",
        "    #print(f\"Received text data: {text_data}\")\n",
        "    #print(f\"Received video file: {video_file.filename}\")\n",
        "\n",
        "    # You can process the video file here, e.g., save it to disk\n",
        "    videoPath = \"sample_data/\"+video_file.filename\n",
        "    video_file.save(videoPath)\n",
        "    response = process_message_single(\"\", text_data, videoPath)\n",
        "    # Display the video in the notebook (not possible with ngrok)\n",
        "    # display(HTML(f'<video controls><source src=\"data:video/mp4;base64,{base64.b64encode(video_file.read()).decode()}\" type=\"video/mp4\"></video>'))\n",
        "\n",
        "    os.remove(videoPath)\n",
        "    # Send the text data back as response\n",
        "    print( str(response))\n",
        "    is_busy = False\n",
        "    return response\n",
        "  except Exception as e:\n",
        "        print(f\"An error occurred: {e}\")  # Log or handle the exception as needed\n",
        "        is_busy = False\n",
        "        return \"Internal Server Error\", 500  # Return a generic error response\n",
        "\n",
        "\n",
        "\n",
        "if __name__ == \"__main__\":\n",
        "  try:\n",
        "    app.logger.info('Hello from Flask logger!')\n",
        "    public_url = ngrok.connect(port).public_url\n",
        "    print(public_url)\n",
        "    app.logger.info(public_url)\n",
        "    app.run(port=port)\n",
        "  finally:\n",
        "    ngrok.disconnect(public_url=public_url)\n",
        "\n"
      ],
      "metadata": {
        "id": "F_0qD0i7TRj3",
        "outputId": "c2916c0f-a6d8-4041-ea4b-cb9a43970d52",
        "colab": {
          "base_uri": "https://localhost:8080/",
          "height": 1000
        }
      },
      "execution_count": 4,
      "outputs": [
        {
          "output_type": "stream",
          "name": "stdout",
          "text": [
            "[{'role': 'user', 'content': [{'type': 'video', 'video': 'file:///content/sample_data/IntermediateOutput_638734190521568211.mp4', 'max_pixels': 151200, 'fps': 1.0}, {'type': 'text', 'text': 'Is there small group of people walking together? Response with one word only yes or no.'}]}]\n"
          ]
        },
        {
          "output_type": "stream",
          "name": "stderr",
          "text": [
            "INFO:werkzeug:127.0.0.1 - - [25/Jan/2025 15:24:27] \"POST /req1 HTTP/1.1\" 200 -\n"
          ]
        },
        {
          "output_type": "stream",
          "name": "stdout",
          "text": [
            "['no']\n",
            "[{'role': 'user', 'content': [{'type': 'video', 'video': 'file:///content/sample_data/IntermediateOutput_638734190643072207.mp4', 'max_pixels': 151200, 'fps': 1.0}, {'type': 'text', 'text': 'Is there small group of people walking together? Response with one word only yes or no.'}]}]\n"
          ]
        },
        {
          "output_type": "stream",
          "name": "stderr",
          "text": [
            "INFO:werkzeug:127.0.0.1 - - [25/Jan/2025 15:24:39] \"POST /req1 HTTP/1.1\" 200 -\n"
          ]
        },
        {
          "output_type": "stream",
          "name": "stdout",
          "text": [
            "['no']\n",
            "[{'role': 'user', 'content': [{'type': 'video', 'video': 'file:///content/sample_data/IntermediateOutput_638734190761546390.mp4', 'max_pixels': 151200, 'fps': 1.0}, {'type': 'text', 'text': 'Is there small group of people walking together? Response with one word only yes or no.'}]}]\n"
          ]
        },
        {
          "output_type": "stream",
          "name": "stderr",
          "text": [
            "INFO:werkzeug:127.0.0.1 - - [25/Jan/2025 15:24:51] \"POST /req1 HTTP/1.1\" 200 -\n"
          ]
        },
        {
          "output_type": "stream",
          "name": "stdout",
          "text": [
            "['no']\n",
            "[{'role': 'user', 'content': [{'type': 'video', 'video': 'file:///content/sample_data/IntermediateOutput_638734190881673116.mp4', 'max_pixels': 151200, 'fps': 1.0}, {'type': 'text', 'text': 'Is there small group of people walking together? Response with one word only yes or no.'}]}]\n"
          ]
        },
        {
          "output_type": "stream",
          "name": "stderr",
          "text": [
            "INFO:werkzeug:127.0.0.1 - - [25/Jan/2025 15:25:03] \"POST /req1 HTTP/1.1\" 200 -\n"
          ]
        },
        {
          "output_type": "stream",
          "name": "stdout",
          "text": [
            "['Yes']\n",
            "[{'role': 'user', 'content': [{'type': 'video', 'video': 'file:///content/sample_data/IntermediateOutput_638734191001622903.mp4', 'max_pixels': 151200, 'fps': 1.0}, {'type': 'text', 'text': 'Is there small group of people walking together? Response with one word only yes or no.'}]}]\n"
          ]
        },
        {
          "output_type": "stream",
          "name": "stderr",
          "text": [
            "INFO:werkzeug:127.0.0.1 - - [25/Jan/2025 15:25:15] \"POST /req1 HTTP/1.1\" 200 -\n"
          ]
        },
        {
          "output_type": "stream",
          "name": "stdout",
          "text": [
            "['Yes']\n",
            "[{'role': 'user', 'content': [{'type': 'video', 'video': 'file:///content/sample_data/IntermediateOutput_638734191121566096.mp4', 'max_pixels': 151200, 'fps': 1.0}, {'type': 'text', 'text': 'Is there small group of people walking together? Response with one word only yes or no.'}]}]\n"
          ]
        },
        {
          "output_type": "stream",
          "name": "stderr",
          "text": [
            "INFO:werkzeug:127.0.0.1 - - [25/Jan/2025 15:25:27] \"POST /req1 HTTP/1.1\" 200 -\n"
          ]
        },
        {
          "output_type": "stream",
          "name": "stdout",
          "text": [
            "['Yes']\n",
            "[{'role': 'user', 'content': [{'type': 'video', 'video': 'file:///content/sample_data/IntermediateOutput_638734191241559880.mp4', 'max_pixels': 151200, 'fps': 1.0}, {'type': 'text', 'text': 'Is there small group of people walking together? Response with one word only yes or no.'}]}]\n"
          ]
        },
        {
          "output_type": "stream",
          "name": "stderr",
          "text": [
            "INFO:werkzeug:127.0.0.1 - - [25/Jan/2025 15:25:39] \"POST /req1 HTTP/1.1\" 200 -\n"
          ]
        },
        {
          "output_type": "stream",
          "name": "stdout",
          "text": [
            "['Yes']\n",
            "[{'role': 'user', 'content': [{'type': 'video', 'video': 'file:///content/sample_data/IntermediateOutput_638734191361644451.mp4', 'max_pixels': 151200, 'fps': 1.0}, {'type': 'text', 'text': 'Is there small group of people walking together? Response with one word only yes or no.'}]}]\n"
          ]
        },
        {
          "output_type": "stream",
          "name": "stderr",
          "text": [
            "INFO:werkzeug:127.0.0.1 - - [25/Jan/2025 15:25:51] \"POST /req1 HTTP/1.1\" 200 -\n"
          ]
        },
        {
          "output_type": "stream",
          "name": "stdout",
          "text": [
            "['no']\n",
            "[{'role': 'user', 'content': [{'type': 'video', 'video': 'file:///content/sample_data/IntermediateOutput_638734191483274945.mp4', 'max_pixels': 151200, 'fps': 1.0}, {'type': 'text', 'text': 'Is there small group of people walking together? Response with one word only yes or no.'}]}]\n"
          ]
        },
        {
          "output_type": "stream",
          "name": "stderr",
          "text": [
            "INFO:werkzeug:127.0.0.1 - - [25/Jan/2025 15:26:03] \"POST /req1 HTTP/1.1\" 200 -\n"
          ]
        },
        {
          "output_type": "stream",
          "name": "stdout",
          "text": [
            "['no']\n",
            "[{'role': 'user', 'content': [{'type': 'video', 'video': 'file:///content/sample_data/IntermediateOutput_638734191601712143.mp4', 'max_pixels': 151200, 'fps': 1.0}, {'type': 'text', 'text': 'Is there small group of people walking together? Response with one word only yes or no.'}]}]\n"
          ]
        },
        {
          "output_type": "stream",
          "name": "stderr",
          "text": [
            "INFO:werkzeug:127.0.0.1 - - [25/Jan/2025 15:26:15] \"POST /req1 HTTP/1.1\" 200 -\n"
          ]
        },
        {
          "output_type": "stream",
          "name": "stdout",
          "text": [
            "['no']\n",
            "[{'role': 'user', 'content': [{'type': 'video', 'video': 'file:///content/sample_data/IntermediateOutput_638734191722109523.mp4', 'max_pixels': 151200, 'fps': 1.0}, {'type': 'text', 'text': 'Is there small group of people walking together? Response with one word only yes or no.'}]}]\n"
          ]
        },
        {
          "output_type": "stream",
          "name": "stderr",
          "text": [
            "INFO:werkzeug:127.0.0.1 - - [25/Jan/2025 15:26:27] \"POST /req1 HTTP/1.1\" 200 -\n"
          ]
        },
        {
          "output_type": "stream",
          "name": "stdout",
          "text": [
            "['no']\n",
            "[{'role': 'user', 'content': [{'type': 'video', 'video': 'file:///content/sample_data/IntermediateOutput_638734191841622370.mp4', 'max_pixels': 151200, 'fps': 1.0}, {'type': 'text', 'text': 'Is there small group of people walking together? Response with one word only yes or no.'}]}]\n"
          ]
        },
        {
          "output_type": "stream",
          "name": "stderr",
          "text": [
            "INFO:werkzeug:127.0.0.1 - - [25/Jan/2025 15:26:39] \"POST /req1 HTTP/1.1\" 200 -\n"
          ]
        },
        {
          "output_type": "stream",
          "name": "stdout",
          "text": [
            "['no']\n",
            "[{'role': 'user', 'content': [{'type': 'video', 'video': 'file:///content/sample_data/IntermediateOutput_638734191961585243.mp4', 'max_pixels': 151200, 'fps': 1.0}, {'type': 'text', 'text': 'Is there small group of people walking together? Response with one word only yes or no.'}]}]\n"
          ]
        },
        {
          "output_type": "stream",
          "name": "stderr",
          "text": [
            "INFO:werkzeug:127.0.0.1 - - [25/Jan/2025 15:26:51] \"POST /req1 HTTP/1.1\" 200 -\n"
          ]
        },
        {
          "output_type": "stream",
          "name": "stdout",
          "text": [
            "['no']\n",
            "[{'role': 'user', 'content': [{'type': 'video', 'video': 'file:///content/sample_data/IntermediateOutput_638734192081594509.mp4', 'max_pixels': 151200, 'fps': 1.0}, {'type': 'text', 'text': 'Is there small group of people walking together? Response with one word only yes or no.'}]}]\n"
          ]
        },
        {
          "output_type": "stream",
          "name": "stderr",
          "text": [
            "INFO:werkzeug:127.0.0.1 - - [25/Jan/2025 15:27:02] \"POST /req1 HTTP/1.1\" 200 -\n"
          ]
        },
        {
          "output_type": "stream",
          "name": "stdout",
          "text": [
            "['no']\n",
            "[{'role': 'user', 'content': [{'type': 'video', 'video': 'file:///content/sample_data/IntermediateOutput_638734192201666155.mp4', 'max_pixels': 151200, 'fps': 1.0}, {'type': 'text', 'text': 'Is there small group of people walking together? Response with one word only yes or no.'}]}]\n"
          ]
        },
        {
          "output_type": "stream",
          "name": "stderr",
          "text": [
            "INFO:werkzeug:127.0.0.1 - - [25/Jan/2025 15:27:15] \"POST /req1 HTTP/1.1\" 200 -\n"
          ]
        },
        {
          "output_type": "stream",
          "name": "stdout",
          "text": [
            "['no']\n",
            "[{'role': 'user', 'content': [{'type': 'video', 'video': 'file:///content/sample_data/IntermediateOutput_638734192321687942.mp4', 'max_pixels': 151200, 'fps': 1.0}, {'type': 'text', 'text': 'Is there small group of people walking together? Response with one word only yes or no.'}]}]\n"
          ]
        },
        {
          "output_type": "stream",
          "name": "stderr",
          "text": [
            "INFO:werkzeug:127.0.0.1 - - [25/Jan/2025 15:27:27] \"POST /req1 HTTP/1.1\" 200 -\n"
          ]
        },
        {
          "output_type": "stream",
          "name": "stdout",
          "text": [
            "['no']\n",
            "[{'role': 'user', 'content': [{'type': 'video', 'video': 'file:///content/sample_data/IntermediateOutput_638734192441682533.mp4', 'max_pixels': 151200, 'fps': 1.0}, {'type': 'text', 'text': 'Is there small group of people walking together? Response with one word only yes or no.'}]}]\n"
          ]
        },
        {
          "output_type": "stream",
          "name": "stderr",
          "text": [
            "INFO:werkzeug:127.0.0.1 - - [25/Jan/2025 15:27:39] \"POST /req1 HTTP/1.1\" 200 -\n"
          ]
        },
        {
          "output_type": "stream",
          "name": "stdout",
          "text": [
            "['Yes']\n",
            "[{'role': 'user', 'content': [{'type': 'video', 'video': 'file:///content/sample_data/IntermediateOutput_638734192561624376.mp4', 'max_pixels': 151200, 'fps': 1.0}, {'type': 'text', 'text': 'Is there small group of people walking together? Response with one word only yes or no.'}]}]\n"
          ]
        },
        {
          "output_type": "stream",
          "name": "stderr",
          "text": [
            "INFO:werkzeug:127.0.0.1 - - [25/Jan/2025 15:27:51] \"POST /req1 HTTP/1.1\" 200 -\n"
          ]
        },
        {
          "output_type": "stream",
          "name": "stdout",
          "text": [
            "['no']\n",
            "[{'role': 'user', 'content': [{'type': 'video', 'video': 'file:///content/sample_data/IntermediateOutput_638734192681564090.mp4', 'max_pixels': 151200, 'fps': 1.0}, {'type': 'text', 'text': 'Is there small group of people walking together? Response with one word only yes or no.'}]}]\n"
          ]
        },
        {
          "output_type": "stream",
          "name": "stderr",
          "text": [
            "INFO:werkzeug:127.0.0.1 - - [25/Jan/2025 15:28:02] \"POST /req1 HTTP/1.1\" 200 -\n"
          ]
        },
        {
          "output_type": "stream",
          "name": "stdout",
          "text": [
            "['Yes']\n",
            "[{'role': 'user', 'content': [{'type': 'video', 'video': 'file:///content/sample_data/IntermediateOutput_638734192801527228.mp4', 'max_pixels': 151200, 'fps': 1.0}, {'type': 'text', 'text': 'Is there small group of people walking together? Response with one word only yes or no.'}]}]\n"
          ]
        },
        {
          "output_type": "stream",
          "name": "stderr",
          "text": [
            "INFO:werkzeug:127.0.0.1 - - [25/Jan/2025 15:28:14] \"POST /req1 HTTP/1.1\" 200 -\n"
          ]
        },
        {
          "output_type": "stream",
          "name": "stdout",
          "text": [
            "['no']\n",
            "[{'role': 'user', 'content': [{'type': 'video', 'video': 'file:///content/sample_data/IntermediateOutput_638734192921601421.mp4', 'max_pixels': 151200, 'fps': 1.0}, {'type': 'text', 'text': 'Is there small group of people walking together? Response with one word only yes or no.'}]}]\n"
          ]
        },
        {
          "output_type": "stream",
          "name": "stderr",
          "text": [
            "INFO:werkzeug:127.0.0.1 - - [25/Jan/2025 15:28:27] \"POST /req1 HTTP/1.1\" 200 -\n"
          ]
        },
        {
          "output_type": "stream",
          "name": "stdout",
          "text": [
            "['no']\n",
            "[{'role': 'user', 'content': [{'type': 'video', 'video': 'file:///content/sample_data/IntermediateOutput_638734193041651289.mp4', 'max_pixels': 151200, 'fps': 1.0}, {'type': 'text', 'text': 'Is there small group of people walking together? Response with one word only yes or no.'}]}]\n"
          ]
        },
        {
          "output_type": "stream",
          "name": "stderr",
          "text": [
            "INFO:werkzeug:127.0.0.1 - - [25/Jan/2025 15:28:39] \"POST /req1 HTTP/1.1\" 200 -\n"
          ]
        },
        {
          "output_type": "stream",
          "name": "stdout",
          "text": [
            "['no']\n",
            "[{'role': 'user', 'content': [{'type': 'video', 'video': 'file:///content/sample_data/IntermediateOutput_638734193163088444.mp4', 'max_pixels': 151200, 'fps': 1.0}, {'type': 'text', 'text': 'Is there small group of people walking together? Response with one word only yes or no.'}]}]\n"
          ]
        },
        {
          "output_type": "stream",
          "name": "stderr",
          "text": [
            "INFO:werkzeug:127.0.0.1 - - [25/Jan/2025 15:28:51] \"POST /req1 HTTP/1.1\" 200 -\n"
          ]
        },
        {
          "output_type": "stream",
          "name": "stdout",
          "text": [
            "['no']\n",
            "[{'role': 'user', 'content': [{'type': 'video', 'video': 'file:///content/sample_data/IntermediateOutput_638734193281557127.mp4', 'max_pixels': 151200, 'fps': 1.0}, {'type': 'text', 'text': 'Is there small group of people walking together? Response with one word only yes or no.'}]}]\n"
          ]
        },
        {
          "output_type": "stream",
          "name": "stderr",
          "text": [
            "INFO:werkzeug:127.0.0.1 - - [25/Jan/2025 15:29:03] \"POST /req1 HTTP/1.1\" 200 -\n"
          ]
        },
        {
          "output_type": "stream",
          "name": "stdout",
          "text": [
            "['no']\n",
            "[{'role': 'user', 'content': [{'type': 'video', 'video': 'file:///content/sample_data/IntermediateOutput_638734193401677934.mp4', 'max_pixels': 151200, 'fps': 1.0}, {'type': 'text', 'text': 'Is there small group of people walking together? Response with one word only yes or no.'}]}]\n"
          ]
        },
        {
          "output_type": "stream",
          "name": "stderr",
          "text": [
            "INFO:werkzeug:127.0.0.1 - - [25/Jan/2025 15:29:15] \"POST /req1 HTTP/1.1\" 200 -\n"
          ]
        },
        {
          "output_type": "stream",
          "name": "stdout",
          "text": [
            "['no']\n",
            "[{'role': 'user', 'content': [{'type': 'video', 'video': 'file:///content/sample_data/IntermediateOutput_638734193521651580.mp4', 'max_pixels': 151200, 'fps': 1.0}, {'type': 'text', 'text': 'Is there small group of people walking together? Response with one word only yes or no.'}]}]\n"
          ]
        },
        {
          "output_type": "stream",
          "name": "stderr",
          "text": [
            "INFO:werkzeug:127.0.0.1 - - [25/Jan/2025 15:29:27] \"POST /req1 HTTP/1.1\" 200 -\n"
          ]
        },
        {
          "output_type": "stream",
          "name": "stdout",
          "text": [
            "['no']\n",
            "[{'role': 'user', 'content': [{'type': 'video', 'video': 'file:///content/sample_data/IntermediateOutput_638734193641759450.mp4', 'max_pixels': 151200, 'fps': 1.0}, {'type': 'text', 'text': 'Is there small group of people walking together? Response with one word only yes or no.'}]}]\n"
          ]
        },
        {
          "output_type": "stream",
          "name": "stderr",
          "text": [
            "INFO:werkzeug:127.0.0.1 - - [25/Jan/2025 15:29:39] \"POST /req1 HTTP/1.1\" 200 -\n"
          ]
        },
        {
          "output_type": "stream",
          "name": "stdout",
          "text": [
            "['no']\n",
            "[{'role': 'user', 'content': [{'type': 'video', 'video': 'file:///content/sample_data/IntermediateOutput_638734193761600790.mp4', 'max_pixels': 151200, 'fps': 1.0}, {'type': 'text', 'text': 'Is there small group of people walking together? Response with one word only yes or no.'}]}]\n"
          ]
        },
        {
          "output_type": "stream",
          "name": "stderr",
          "text": [
            "INFO:werkzeug:127.0.0.1 - - [25/Jan/2025 15:29:50] \"POST /req1 HTTP/1.1\" 200 -\n"
          ]
        },
        {
          "output_type": "stream",
          "name": "stdout",
          "text": [
            "['no']\n",
            "[{'role': 'user', 'content': [{'type': 'video', 'video': 'file:///content/sample_data/IntermediateOutput_638734193881695155.mp4', 'max_pixels': 151200, 'fps': 1.0}, {'type': 'text', 'text': 'Is there small group of people walking together? Response with one word only yes or no.'}]}]\n"
          ]
        },
        {
          "output_type": "stream",
          "name": "stderr",
          "text": [
            "INFO:werkzeug:127.0.0.1 - - [25/Jan/2025 15:30:02] \"POST /req1 HTTP/1.1\" 200 -\n"
          ]
        },
        {
          "output_type": "stream",
          "name": "stdout",
          "text": [
            "['no']\n",
            "[{'role': 'user', 'content': [{'type': 'video', 'video': 'file:///content/sample_data/IntermediateOutput_638734194001643129.mp4', 'max_pixels': 151200, 'fps': 1.0}, {'type': 'text', 'text': 'Is there small group of people walking together? Response with one word only yes or no.'}]}]\n"
          ]
        },
        {
          "output_type": "stream",
          "name": "stderr",
          "text": [
            "INFO:werkzeug:127.0.0.1 - - [25/Jan/2025 15:30:14] \"POST /req1 HTTP/1.1\" 200 -\n"
          ]
        },
        {
          "output_type": "stream",
          "name": "stdout",
          "text": [
            "['no']\n",
            "[{'role': 'user', 'content': [{'type': 'video', 'video': 'file:///content/sample_data/IntermediateOutput_638734194121781425.mp4', 'max_pixels': 151200, 'fps': 1.0}, {'type': 'text', 'text': 'Is there small group of people walking together? Response with one word only yes or no.'}]}]\n"
          ]
        },
        {
          "output_type": "stream",
          "name": "stderr",
          "text": [
            "INFO:werkzeug:127.0.0.1 - - [25/Jan/2025 15:30:27] \"POST /req1 HTTP/1.1\" 200 -\n"
          ]
        },
        {
          "output_type": "stream",
          "name": "stdout",
          "text": [
            "['no']\n",
            "[{'role': 'user', 'content': [{'type': 'video', 'video': 'file:///content/sample_data/IntermediateOutput_638734194242350007.mp4', 'max_pixels': 151200, 'fps': 1.0}, {'type': 'text', 'text': 'Is there small group of people walking together? Response with one word only yes or no.'}]}]\n"
          ]
        },
        {
          "output_type": "stream",
          "name": "stderr",
          "text": [
            "INFO:werkzeug:127.0.0.1 - - [25/Jan/2025 15:30:39] \"POST /req1 HTTP/1.1\" 200 -\n"
          ]
        },
        {
          "output_type": "stream",
          "name": "stdout",
          "text": [
            "['no']\n",
            "[{'role': 'user', 'content': [{'type': 'video', 'video': 'file:///content/sample_data/IntermediateOutput_638734194361662908.mp4', 'max_pixels': 151200, 'fps': 1.0}, {'type': 'text', 'text': 'Is there small group of people walking together? Response with one word only yes or no.'}]}]\n"
          ]
        },
        {
          "output_type": "stream",
          "name": "stderr",
          "text": [
            "INFO:werkzeug:127.0.0.1 - - [25/Jan/2025 15:30:51] \"POST /req1 HTTP/1.1\" 200 -\n"
          ]
        },
        {
          "output_type": "stream",
          "name": "stdout",
          "text": [
            "['no']\n",
            "[{'role': 'user', 'content': [{'type': 'video', 'video': 'file:///content/sample_data/IntermediateOutput_638734194481945378.mp4', 'max_pixels': 151200, 'fps': 1.0}, {'type': 'text', 'text': 'Is there small group of people walking together? Response with one word only yes or no.'}]}]\n"
          ]
        },
        {
          "output_type": "stream",
          "name": "stderr",
          "text": [
            "INFO:werkzeug:127.0.0.1 - - [25/Jan/2025 15:31:02] \"POST /req1 HTTP/1.1\" 200 -\n"
          ]
        },
        {
          "output_type": "stream",
          "name": "stdout",
          "text": [
            "['no']\n",
            "[{'role': 'user', 'content': [{'type': 'video', 'video': 'file:///content/sample_data/IntermediateOutput_638734194601773967.mp4', 'max_pixels': 151200, 'fps': 1.0}, {'type': 'text', 'text': 'Is there small group of people walking together? Response with one word only yes or no.'}]}]\n"
          ]
        },
        {
          "output_type": "stream",
          "name": "stderr",
          "text": [
            "INFO:werkzeug:127.0.0.1 - - [25/Jan/2025 15:31:14] \"POST /req1 HTTP/1.1\" 200 -\n"
          ]
        },
        {
          "output_type": "stream",
          "name": "stdout",
          "text": [
            "['no']\n",
            "[{'role': 'user', 'content': [{'type': 'video', 'video': 'file:///content/sample_data/IntermediateOutput_638734194721705782.mp4', 'max_pixels': 151200, 'fps': 1.0}, {'type': 'text', 'text': 'Is there small group of people walking together? Response with one word only yes or no.'}]}]\n"
          ]
        },
        {
          "output_type": "stream",
          "name": "stderr",
          "text": [
            "INFO:werkzeug:127.0.0.1 - - [25/Jan/2025 15:31:27] \"POST /req1 HTTP/1.1\" 200 -\n"
          ]
        },
        {
          "output_type": "stream",
          "name": "stdout",
          "text": [
            "['no']\n",
            "[{'role': 'user', 'content': [{'type': 'video', 'video': 'file:///content/sample_data/IntermediateOutput_638734194841754527.mp4', 'max_pixels': 151200, 'fps': 1.0}, {'type': 'text', 'text': 'Is there small group of people walking together? Response with one word only yes or no.'}]}]\n"
          ]
        },
        {
          "output_type": "stream",
          "name": "stderr",
          "text": [
            "INFO:werkzeug:127.0.0.1 - - [25/Jan/2025 15:31:39] \"POST /req1 HTTP/1.1\" 200 -\n"
          ]
        },
        {
          "output_type": "stream",
          "name": "stdout",
          "text": [
            "['no']\n",
            "[{'role': 'user', 'content': [{'type': 'video', 'video': 'file:///content/sample_data/IntermediateOutput_638734194961616900.mp4', 'max_pixels': 151200, 'fps': 1.0}, {'type': 'text', 'text': 'Is there small group of people walking together? Response with one word only yes or no.'}]}]\n"
          ]
        },
        {
          "output_type": "stream",
          "name": "stderr",
          "text": [
            "INFO:werkzeug:127.0.0.1 - - [25/Jan/2025 15:31:51] \"POST /req1 HTTP/1.1\" 200 -\n"
          ]
        },
        {
          "output_type": "stream",
          "name": "stdout",
          "text": [
            "['no']\n",
            "[{'role': 'user', 'content': [{'type': 'video', 'video': 'file:///content/sample_data/IntermediateOutput_638734195081614798.mp4', 'max_pixels': 151200, 'fps': 1.0}, {'type': 'text', 'text': 'Is there small group of people walking together? Response with one word only yes or no.'}]}]\n"
          ]
        },
        {
          "output_type": "stream",
          "name": "stderr",
          "text": [
            "INFO:werkzeug:127.0.0.1 - - [25/Jan/2025 15:32:03] \"POST /req1 HTTP/1.1\" 200 -\n"
          ]
        },
        {
          "output_type": "stream",
          "name": "stdout",
          "text": [
            "['no']\n",
            "[{'role': 'user', 'content': [{'type': 'video', 'video': 'file:///content/sample_data/IntermediateOutput_638734195201750949.mp4', 'max_pixels': 151200, 'fps': 1.0}, {'type': 'text', 'text': 'Is there small group of people walking together? Response with one word only yes or no.'}]}]\n"
          ]
        },
        {
          "output_type": "stream",
          "name": "stderr",
          "text": [
            "INFO:werkzeug:127.0.0.1 - - [25/Jan/2025 15:32:14] \"POST /req1 HTTP/1.1\" 200 -\n"
          ]
        },
        {
          "output_type": "stream",
          "name": "stdout",
          "text": [
            "['no']\n",
            "[{'role': 'user', 'content': [{'type': 'video', 'video': 'file:///content/sample_data/IntermediateOutput_638734195322022340.mp4', 'max_pixels': 151200, 'fps': 1.0}, {'type': 'text', 'text': 'Is there small group of people walking together? Response with one word only yes or no.'}]}]\n"
          ]
        },
        {
          "output_type": "stream",
          "name": "stderr",
          "text": [
            "INFO:werkzeug:127.0.0.1 - - [25/Jan/2025 15:32:26] \"POST /req1 HTTP/1.1\" 200 -\n"
          ]
        },
        {
          "output_type": "stream",
          "name": "stdout",
          "text": [
            "['no']\n",
            "[{'role': 'user', 'content': [{'type': 'video', 'video': 'file:///content/sample_data/IntermediateOutput_638734195441929785.mp4', 'max_pixels': 151200, 'fps': 1.0}, {'type': 'text', 'text': 'Is there small group of people walking together? Response with one word only yes or no.'}]}]\n"
          ]
        },
        {
          "output_type": "stream",
          "name": "stderr",
          "text": [
            "INFO:werkzeug:127.0.0.1 - - [25/Jan/2025 15:32:39] \"POST /req1 HTTP/1.1\" 200 -\n"
          ]
        },
        {
          "output_type": "stream",
          "name": "stdout",
          "text": [
            "['no']\n",
            "[{'role': 'user', 'content': [{'type': 'video', 'video': 'file:///content/sample_data/IntermediateOutput_638734195561840523.mp4', 'max_pixels': 151200, 'fps': 1.0}, {'type': 'text', 'text': 'Is there small group of people walking together? Response with one word only yes or no.'}]}]\n"
          ]
        },
        {
          "output_type": "stream",
          "name": "stderr",
          "text": [
            "INFO:werkzeug:127.0.0.1 - - [25/Jan/2025 15:32:51] \"POST /req1 HTTP/1.1\" 200 -\n"
          ]
        },
        {
          "output_type": "stream",
          "name": "stdout",
          "text": [
            "['no']\n",
            "[{'role': 'user', 'content': [{'type': 'video', 'video': 'file:///content/sample_data/IntermediateOutput_638734195681830665.mp4', 'max_pixels': 151200, 'fps': 1.0}, {'type': 'text', 'text': 'Is there small group of people walking together? Response with one word only yes or no.'}]}]\n"
          ]
        },
        {
          "output_type": "stream",
          "name": "stderr",
          "text": [
            "INFO:werkzeug:127.0.0.1 - - [25/Jan/2025 15:33:03] \"POST /req1 HTTP/1.1\" 200 -\n"
          ]
        },
        {
          "output_type": "stream",
          "name": "stdout",
          "text": [
            "['no']\n",
            "[{'role': 'user', 'content': [{'type': 'video', 'video': 'file:///content/sample_data/IntermediateOutput_638734195801762804.mp4', 'max_pixels': 151200, 'fps': 1.0}, {'type': 'text', 'text': 'Is there small group of people walking together? Response with one word only yes or no.'}]}]\n"
          ]
        },
        {
          "output_type": "stream",
          "name": "stderr",
          "text": [
            "INFO:werkzeug:127.0.0.1 - - [25/Jan/2025 15:33:15] \"POST /req1 HTTP/1.1\" 200 -\n"
          ]
        },
        {
          "output_type": "stream",
          "name": "stdout",
          "text": [
            "['no']\n",
            "[{'role': 'user', 'content': [{'type': 'video', 'video': 'file:///content/sample_data/IntermediateOutput_638734195921761222.mp4', 'max_pixels': 151200, 'fps': 1.0}, {'type': 'text', 'text': 'Is there small group of people walking together? Response with one word only yes or no.'}]}]\n"
          ]
        },
        {
          "output_type": "stream",
          "name": "stderr",
          "text": [
            "INFO:werkzeug:127.0.0.1 - - [25/Jan/2025 15:33:26] \"POST /req1 HTTP/1.1\" 200 -\n"
          ]
        },
        {
          "output_type": "stream",
          "name": "stdout",
          "text": [
            "['no']\n",
            "[{'role': 'user', 'content': [{'type': 'video', 'video': 'file:///content/sample_data/IntermediateOutput_638734196041973282.mp4', 'max_pixels': 151200, 'fps': 1.0}, {'type': 'text', 'text': 'Is there small group of people walking together? Response with one word only yes or no.'}]}]\n"
          ]
        },
        {
          "output_type": "stream",
          "name": "stderr",
          "text": [
            "INFO:werkzeug:127.0.0.1 - - [25/Jan/2025 15:33:39] \"POST /req1 HTTP/1.1\" 200 -\n"
          ]
        },
        {
          "output_type": "stream",
          "name": "stdout",
          "text": [
            "['no']\n",
            "[{'role': 'user', 'content': [{'type': 'video', 'video': 'file:///content/sample_data/IntermediateOutput_638734196161842529.mp4', 'max_pixels': 151200, 'fps': 1.0}, {'type': 'text', 'text': 'Is there small group of people walking together? Response with one word only yes or no.'}]}]\n"
          ]
        },
        {
          "output_type": "stream",
          "name": "stderr",
          "text": [
            "INFO:werkzeug:127.0.0.1 - - [25/Jan/2025 15:33:51] \"POST /req1 HTTP/1.1\" 200 -\n"
          ]
        },
        {
          "output_type": "stream",
          "name": "stdout",
          "text": [
            "['no']\n",
            "[{'role': 'user', 'content': [{'type': 'video', 'video': 'file:///content/sample_data/IntermediateOutput_638734196282076400.mp4', 'max_pixels': 151200, 'fps': 1.0}, {'type': 'text', 'text': 'Is there small group of people walking together? Response with one word only yes or no.'}]}]\n"
          ]
        },
        {
          "output_type": "stream",
          "name": "stderr",
          "text": [
            "INFO:werkzeug:127.0.0.1 - - [25/Jan/2025 15:34:03] \"POST /req1 HTTP/1.1\" 200 -\n"
          ]
        },
        {
          "output_type": "stream",
          "name": "stdout",
          "text": [
            "['no']\n",
            "[{'role': 'user', 'content': [{'type': 'video', 'video': 'file:///content/sample_data/IntermediateOutput_638734196401941492.mp4', 'max_pixels': 151200, 'fps': 1.0}, {'type': 'text', 'text': 'Is there small group of people walking together? Response with one word only yes or no.'}]}]\n"
          ]
        },
        {
          "output_type": "stream",
          "name": "stderr",
          "text": [
            "INFO:werkzeug:127.0.0.1 - - [25/Jan/2025 15:34:15] \"POST /req1 HTTP/1.1\" 200 -\n"
          ]
        },
        {
          "output_type": "stream",
          "name": "stdout",
          "text": [
            "['no']\n",
            "[{'role': 'user', 'content': [{'type': 'video', 'video': 'file:///content/sample_data/IntermediateOutput_638734196522064954.mp4', 'max_pixels': 151200, 'fps': 1.0}, {'type': 'text', 'text': 'Is there small group of people walking together? Response with one word only yes or no.'}]}]\n"
          ]
        },
        {
          "output_type": "stream",
          "name": "stderr",
          "text": [
            "INFO:werkzeug:127.0.0.1 - - [25/Jan/2025 15:34:26] \"POST /req1 HTTP/1.1\" 200 -\n"
          ]
        },
        {
          "output_type": "stream",
          "name": "stdout",
          "text": [
            "['no']\n",
            "[{'role': 'user', 'content': [{'type': 'video', 'video': 'file:///content/sample_data/IntermediateOutput_638734196642390153.mp4', 'max_pixels': 151200, 'fps': 1.0}, {'type': 'text', 'text': 'Is there small group of people walking together? Response with one word only yes or no.'}]}]\n"
          ]
        },
        {
          "output_type": "stream",
          "name": "stderr",
          "text": [
            "INFO:werkzeug:127.0.0.1 - - [25/Jan/2025 15:34:39] \"POST /req1 HTTP/1.1\" 200 -\n"
          ]
        },
        {
          "output_type": "stream",
          "name": "stdout",
          "text": [
            "['no']\n",
            "[{'role': 'user', 'content': [{'type': 'video', 'video': 'file:///content/sample_data/IntermediateOutput_638734196762183076.mp4', 'max_pixels': 151200, 'fps': 1.0}, {'type': 'text', 'text': 'Is there small group of people walking together? Response with one word only yes or no.'}]}]\n"
          ]
        },
        {
          "output_type": "stream",
          "name": "stderr",
          "text": [
            "INFO:werkzeug:127.0.0.1 - - [25/Jan/2025 15:34:51] \"POST /req1 HTTP/1.1\" 200 -\n"
          ]
        },
        {
          "output_type": "stream",
          "name": "stdout",
          "text": [
            "['no']\n",
            "[{'role': 'user', 'content': [{'type': 'video', 'video': 'file:///content/sample_data/IntermediateOutput_638734196882404340.mp4', 'max_pixels': 151200, 'fps': 1.0}, {'type': 'text', 'text': 'Is there small group of people walking together? Response with one word only yes or no.'}]}]\n"
          ]
        },
        {
          "output_type": "stream",
          "name": "stderr",
          "text": [
            "INFO:werkzeug:127.0.0.1 - - [25/Jan/2025 15:35:03] \"POST /req1 HTTP/1.1\" 200 -\n"
          ]
        },
        {
          "output_type": "stream",
          "name": "stdout",
          "text": [
            "['no']\n",
            "[{'role': 'user', 'content': [{'type': 'video', 'video': 'file:///content/sample_data/IntermediateOutput_638734197002230977.mp4', 'max_pixels': 151200, 'fps': 1.0}, {'type': 'text', 'text': 'Is there small group of people walking together? Response with one word only yes or no.'}]}]\n"
          ]
        },
        {
          "output_type": "stream",
          "name": "stderr",
          "text": [
            "INFO:werkzeug:127.0.0.1 - - [25/Jan/2025 15:35:15] \"POST /req1 HTTP/1.1\" 200 -\n"
          ]
        },
        {
          "output_type": "stream",
          "name": "stdout",
          "text": [
            "['no']\n",
            "[{'role': 'user', 'content': [{'type': 'video', 'video': 'file:///content/sample_data/IntermediateOutput_638734197122492088.mp4', 'max_pixels': 151200, 'fps': 1.0}, {'type': 'text', 'text': 'Is there small group of people walking together? Response with one word only yes or no.'}]}]\n"
          ]
        },
        {
          "output_type": "stream",
          "name": "stderr",
          "text": [
            "INFO:werkzeug:127.0.0.1 - - [25/Jan/2025 15:35:27] \"POST /req1 HTTP/1.1\" 200 -\n"
          ]
        },
        {
          "output_type": "stream",
          "name": "stdout",
          "text": [
            "['no']\n",
            "[{'role': 'user', 'content': [{'type': 'video', 'video': 'file:///content/sample_data/IntermediateOutput_638734197242252469.mp4', 'max_pixels': 151200, 'fps': 1.0}, {'type': 'text', 'text': 'Is there small group of people walking together? Response with one word only yes or no.'}]}]\n"
          ]
        },
        {
          "output_type": "stream",
          "name": "stderr",
          "text": [
            "INFO:werkzeug:127.0.0.1 - - [25/Jan/2025 15:35:39] \"POST /req1 HTTP/1.1\" 200 -\n"
          ]
        },
        {
          "output_type": "stream",
          "name": "stdout",
          "text": [
            "['no']\n",
            "[{'role': 'user', 'content': [{'type': 'video', 'video': 'file:///content/sample_data/IntermediateOutput_638734197362226643.mp4', 'max_pixels': 151200, 'fps': 1.0}, {'type': 'text', 'text': 'Is there small group of people walking together? Response with one word only yes or no.'}]}]\n"
          ]
        },
        {
          "output_type": "stream",
          "name": "stderr",
          "text": [
            "INFO:werkzeug:127.0.0.1 - - [25/Jan/2025 15:35:51] \"POST /req1 HTTP/1.1\" 200 -\n"
          ]
        },
        {
          "output_type": "stream",
          "name": "stdout",
          "text": [
            "['no']\n",
            "[{'role': 'user', 'content': [{'type': 'video', 'video': 'file:///content/sample_data/IntermediateOutput_638734197482164392.mp4', 'max_pixels': 151200, 'fps': 1.0}, {'type': 'text', 'text': 'Is there small group of people walking together? Response with one word only yes or no.'}]}]\n"
          ]
        },
        {
          "output_type": "stream",
          "name": "stderr",
          "text": [
            "INFO:werkzeug:127.0.0.1 - - [25/Jan/2025 15:36:03] \"POST /req1 HTTP/1.1\" 200 -\n"
          ]
        },
        {
          "output_type": "stream",
          "name": "stdout",
          "text": [
            "['no']\n",
            "[{'role': 'user', 'content': [{'type': 'video', 'video': 'file:///content/sample_data/IntermediateOutput_638734197602361445.mp4', 'max_pixels': 151200, 'fps': 1.0}, {'type': 'text', 'text': 'Is there small group of people walking together? Response with one word only yes or no.'}]}]\n"
          ]
        },
        {
          "output_type": "stream",
          "name": "stderr",
          "text": [
            "INFO:werkzeug:127.0.0.1 - - [25/Jan/2025 15:36:15] \"POST /req1 HTTP/1.1\" 200 -\n"
          ]
        },
        {
          "output_type": "stream",
          "name": "stdout",
          "text": [
            "['no']\n",
            "[{'role': 'user', 'content': [{'type': 'video', 'video': 'file:///content/sample_data/IntermediateOutput_638734197722249437.mp4', 'max_pixels': 151200, 'fps': 1.0}, {'type': 'text', 'text': 'Is there small group of people walking together? Response with one word only yes or no.'}]}]\n"
          ]
        },
        {
          "output_type": "stream",
          "name": "stderr",
          "text": [
            "INFO:werkzeug:127.0.0.1 - - [25/Jan/2025 15:36:27] \"POST /req1 HTTP/1.1\" 200 -\n"
          ]
        },
        {
          "output_type": "stream",
          "name": "stdout",
          "text": [
            "['no']\n",
            "[{'role': 'user', 'content': [{'type': 'video', 'video': 'file:///content/sample_data/IntermediateOutput_638734197842556926.mp4', 'max_pixels': 151200, 'fps': 1.0}, {'type': 'text', 'text': 'Is there small group of people walking together? Response with one word only yes or no.'}]}]\n"
          ]
        },
        {
          "output_type": "stream",
          "name": "stderr",
          "text": [
            "INFO:werkzeug:127.0.0.1 - - [25/Jan/2025 15:36:39] \"POST /req1 HTTP/1.1\" 200 -\n"
          ]
        },
        {
          "output_type": "stream",
          "name": "stdout",
          "text": [
            "['No']\n",
            "[{'role': 'user', 'content': [{'type': 'video', 'video': 'file:///content/sample_data/IntermediateOutput_638734197962360437.mp4', 'max_pixels': 151200, 'fps': 1.0}, {'type': 'text', 'text': 'Is there small group of people walking together? Response with one word only yes or no.'}]}]\n"
          ]
        },
        {
          "output_type": "stream",
          "name": "stderr",
          "text": [
            "INFO:werkzeug:127.0.0.1 - - [25/Jan/2025 15:36:51] \"POST /req1 HTTP/1.1\" 200 -\n"
          ]
        },
        {
          "output_type": "stream",
          "name": "stdout",
          "text": [
            "['no']\n",
            "[{'role': 'user', 'content': [{'type': 'video', 'video': 'file:///content/sample_data/IntermediateOutput_638734198082321305.mp4', 'max_pixels': 151200, 'fps': 1.0}, {'type': 'text', 'text': 'Is there small group of people walking together? Response with one word only yes or no.'}]}]\n"
          ]
        },
        {
          "output_type": "stream",
          "name": "stderr",
          "text": [
            "INFO:werkzeug:127.0.0.1 - - [25/Jan/2025 15:37:03] \"POST /req1 HTTP/1.1\" 200 -\n"
          ]
        },
        {
          "output_type": "stream",
          "name": "stdout",
          "text": [
            "['no']\n",
            "[{'role': 'user', 'content': [{'type': 'video', 'video': 'file:///content/sample_data/IntermediateOutput_638734198202546704.mp4', 'max_pixels': 151200, 'fps': 1.0}, {'type': 'text', 'text': 'Is there small group of people walking together? Response with one word only yes or no.'}]}]\n"
          ]
        },
        {
          "output_type": "stream",
          "name": "stderr",
          "text": [
            "INFO:werkzeug:127.0.0.1 - - [25/Jan/2025 15:37:15] \"POST /req1 HTTP/1.1\" 200 -\n"
          ]
        },
        {
          "output_type": "stream",
          "name": "stdout",
          "text": [
            "['no']\n",
            "[{'role': 'user', 'content': [{'type': 'video', 'video': 'file:///content/sample_data/IntermediateOutput_638734198322499179.mp4', 'max_pixels': 151200, 'fps': 1.0}, {'type': 'text', 'text': 'Is there small group of people walking together? Response with one word only yes or no.'}]}]\n"
          ]
        },
        {
          "output_type": "stream",
          "name": "stderr",
          "text": [
            "INFO:werkzeug:127.0.0.1 - - [25/Jan/2025 15:37:27] \"POST /req1 HTTP/1.1\" 200 -\n"
          ]
        },
        {
          "output_type": "stream",
          "name": "stdout",
          "text": [
            "['Yes']\n",
            "[{'role': 'user', 'content': [{'type': 'video', 'video': 'file:///content/sample_data/IntermediateOutput_638734198442572650.mp4', 'max_pixels': 151200, 'fps': 1.0}, {'type': 'text', 'text': 'Is there small group of people walking together? Response with one word only yes or no.'}]}]\n"
          ]
        },
        {
          "output_type": "stream",
          "name": "stderr",
          "text": [
            "INFO:werkzeug:127.0.0.1 - - [25/Jan/2025 15:37:39] \"POST /req1 HTTP/1.1\" 200 -\n"
          ]
        },
        {
          "output_type": "stream",
          "name": "stdout",
          "text": [
            "['no']\n",
            "[{'role': 'user', 'content': [{'type': 'video', 'video': 'file:///content/sample_data/IntermediateOutput_638734198562692800.mp4', 'max_pixels': 151200, 'fps': 1.0}, {'type': 'text', 'text': 'Is there small group of people walking together? Response with one word only yes or no.'}]}]\n"
          ]
        },
        {
          "output_type": "stream",
          "name": "stderr",
          "text": [
            "INFO:werkzeug:127.0.0.1 - - [25/Jan/2025 15:37:51] \"POST /req1 HTTP/1.1\" 200 -\n"
          ]
        },
        {
          "output_type": "stream",
          "name": "stdout",
          "text": [
            "['no']\n",
            "[{'role': 'user', 'content': [{'type': 'video', 'video': 'file:///content/sample_data/IntermediateOutput_638734198686042379.mp4', 'max_pixels': 151200, 'fps': 1.0}, {'type': 'text', 'text': 'Is there small group of people walking together? Response with one word only yes or no.'}]}]\n"
          ]
        },
        {
          "output_type": "stream",
          "name": "stderr",
          "text": [
            "INFO:werkzeug:127.0.0.1 - - [25/Jan/2025 15:38:03] \"POST /req1 HTTP/1.1\" 200 -\n"
          ]
        },
        {
          "output_type": "stream",
          "name": "stdout",
          "text": [
            "['no']\n",
            "[{'role': 'user', 'content': [{'type': 'video', 'video': 'file:///content/sample_data/IntermediateOutput_638734198802861690.mp4', 'max_pixels': 151200, 'fps': 1.0}, {'type': 'text', 'text': 'Is there small group of people walking together? Response with one word only yes or no.'}]}]\n"
          ]
        },
        {
          "output_type": "stream",
          "name": "stderr",
          "text": [
            "INFO:werkzeug:127.0.0.1 - - [25/Jan/2025 15:38:15] \"POST /req1 HTTP/1.1\" 200 -\n"
          ]
        },
        {
          "output_type": "stream",
          "name": "stdout",
          "text": [
            "['no']\n",
            "[{'role': 'user', 'content': [{'type': 'video', 'video': 'file:///content/sample_data/IntermediateOutput_638734198922653159.mp4', 'max_pixels': 151200, 'fps': 1.0}, {'type': 'text', 'text': 'Is there small group of people walking together? Response with one word only yes or no.'}]}]\n"
          ]
        },
        {
          "output_type": "stream",
          "name": "stderr",
          "text": [
            "INFO:werkzeug:127.0.0.1 - - [25/Jan/2025 15:38:27] \"POST /req1 HTTP/1.1\" 200 -\n"
          ]
        },
        {
          "output_type": "stream",
          "name": "stdout",
          "text": [
            "['no']\n",
            "[{'role': 'user', 'content': [{'type': 'video', 'video': 'file:///content/sample_data/IntermediateOutput_638734199042926832.mp4', 'max_pixels': 151200, 'fps': 1.0}, {'type': 'text', 'text': 'Is there small group of people walking together? Response with one word only yes or no.'}]}]\n"
          ]
        },
        {
          "output_type": "stream",
          "name": "stderr",
          "text": [
            "INFO:werkzeug:127.0.0.1 - - [25/Jan/2025 15:38:39] \"POST /req1 HTTP/1.1\" 200 -\n"
          ]
        },
        {
          "output_type": "stream",
          "name": "stdout",
          "text": [
            "['no']\n",
            "[{'role': 'user', 'content': [{'type': 'video', 'video': 'file:///content/sample_data/IntermediateOutput_638734199162907755.mp4', 'max_pixels': 151200, 'fps': 1.0}, {'type': 'text', 'text': 'Is there small group of people walking together? Response with one word only yes or no.'}]}]\n"
          ]
        },
        {
          "output_type": "stream",
          "name": "stderr",
          "text": [
            "INFO:werkzeug:127.0.0.1 - - [25/Jan/2025 15:38:51] \"POST /req1 HTTP/1.1\" 200 -\n"
          ]
        },
        {
          "output_type": "stream",
          "name": "stdout",
          "text": [
            "['no']\n",
            "[{'role': 'user', 'content': [{'type': 'video', 'video': 'file:///content/sample_data/IntermediateOutput_638734199282650236.mp4', 'max_pixels': 151200, 'fps': 1.0}, {'type': 'text', 'text': 'Is there small group of people walking together? Response with one word only yes or no.'}]}]\n"
          ]
        },
        {
          "output_type": "stream",
          "name": "stderr",
          "text": [
            "INFO:werkzeug:127.0.0.1 - - [25/Jan/2025 15:39:03] \"POST /req1 HTTP/1.1\" 200 -\n"
          ]
        },
        {
          "output_type": "stream",
          "name": "stdout",
          "text": [
            "['no']\n",
            "[{'role': 'user', 'content': [{'type': 'video', 'video': 'file:///content/sample_data/IntermediateOutput_638734199403112218.mp4', 'max_pixels': 151200, 'fps': 1.0}, {'type': 'text', 'text': 'Is there small group of people walking together? Response with one word only yes or no.'}]}]\n"
          ]
        },
        {
          "output_type": "stream",
          "name": "stderr",
          "text": [
            "INFO:werkzeug:127.0.0.1 - - [25/Jan/2025 15:39:15] \"POST /req1 HTTP/1.1\" 200 -\n"
          ]
        },
        {
          "output_type": "stream",
          "name": "stdout",
          "text": [
            "['no']\n",
            "[{'role': 'user', 'content': [{'type': 'video', 'video': 'file:///content/sample_data/IntermediateOutput_638734199522966423.mp4', 'max_pixels': 151200, 'fps': 1.0}, {'type': 'text', 'text': 'Is there small group of people walking together? Response with one word only yes or no.'}]}]\n"
          ]
        },
        {
          "output_type": "stream",
          "name": "stderr",
          "text": [
            "INFO:werkzeug:127.0.0.1 - - [25/Jan/2025 15:39:27] \"POST /req1 HTTP/1.1\" 200 -\n"
          ]
        },
        {
          "output_type": "stream",
          "name": "stdout",
          "text": [
            "['no']\n",
            "[{'role': 'user', 'content': [{'type': 'video', 'video': 'file:///content/sample_data/IntermediateOutput_638734199642889340.mp4', 'max_pixels': 151200, 'fps': 1.0}, {'type': 'text', 'text': 'Is there small group of people walking together? Response with one word only yes or no.'}]}]\n"
          ]
        },
        {
          "output_type": "stream",
          "name": "stderr",
          "text": [
            "INFO:werkzeug:127.0.0.1 - - [25/Jan/2025 15:39:39] \"POST /req1 HTTP/1.1\" 200 -\n"
          ]
        },
        {
          "output_type": "stream",
          "name": "stdout",
          "text": [
            "['no']\n",
            "[{'role': 'user', 'content': [{'type': 'video', 'video': 'file:///content/sample_data/IntermediateOutput_638734199762923114.mp4', 'max_pixels': 151200, 'fps': 1.0}, {'type': 'text', 'text': 'Is there small group of people walking together? Response with one word only yes or no.'}]}]\n"
          ]
        },
        {
          "output_type": "stream",
          "name": "stderr",
          "text": [
            "INFO:werkzeug:127.0.0.1 - - [25/Jan/2025 15:39:51] \"POST /req1 HTTP/1.1\" 200 -\n"
          ]
        },
        {
          "output_type": "stream",
          "name": "stdout",
          "text": [
            "['no']\n",
            "[{'role': 'user', 'content': [{'type': 'video', 'video': 'file:///content/sample_data/IntermediateOutput_638734199883292595.mp4', 'max_pixels': 151200, 'fps': 1.0}, {'type': 'text', 'text': 'Is there small group of people walking together? Response with one word only yes or no.'}]}]\n"
          ]
        },
        {
          "output_type": "stream",
          "name": "stderr",
          "text": [
            "INFO:werkzeug:127.0.0.1 - - [25/Jan/2025 15:40:03] \"POST /req1 HTTP/1.1\" 200 -\n"
          ]
        },
        {
          "output_type": "stream",
          "name": "stdout",
          "text": [
            "['no']\n",
            "[{'role': 'user', 'content': [{'type': 'video', 'video': 'file:///content/sample_data/IntermediateOutput_638734200001587754.mp4', 'max_pixels': 151200, 'fps': 1.0}, {'type': 'text', 'text': 'Is there small group of people walking together? Response with one word only yes or no.'}]}]\n"
          ]
        },
        {
          "output_type": "stream",
          "name": "stderr",
          "text": [
            "INFO:werkzeug:127.0.0.1 - - [25/Jan/2025 15:40:15] \"POST /req1 HTTP/1.1\" 200 -\n"
          ]
        },
        {
          "output_type": "stream",
          "name": "stdout",
          "text": [
            "['no']\n",
            "[{'role': 'user', 'content': [{'type': 'video', 'video': 'file:///content/sample_data/IntermediateOutput_638734200123001373.mp4', 'max_pixels': 151200, 'fps': 1.0}, {'type': 'text', 'text': 'Is there small group of people walking together? Response with one word only yes or no.'}]}]\n"
          ]
        },
        {
          "output_type": "stream",
          "name": "stderr",
          "text": [
            "INFO:werkzeug:127.0.0.1 - - [25/Jan/2025 15:40:27] \"POST /req1 HTTP/1.1\" 200 -\n"
          ]
        },
        {
          "output_type": "stream",
          "name": "stdout",
          "text": [
            "['no']\n",
            "[{'role': 'user', 'content': [{'type': 'video', 'video': 'file:///content/sample_data/IntermediateOutput_638734200243099332.mp4', 'max_pixels': 151200, 'fps': 1.0}, {'type': 'text', 'text': 'Is there small group of people walking together? Response with one word only yes or no.'}]}]\n"
          ]
        },
        {
          "output_type": "stream",
          "name": "stderr",
          "text": [
            "INFO:werkzeug:127.0.0.1 - - [25/Jan/2025 15:40:39] \"POST /req1 HTTP/1.1\" 200 -\n"
          ]
        },
        {
          "output_type": "stream",
          "name": "stdout",
          "text": [
            "['no']\n",
            "[{'role': 'user', 'content': [{'type': 'video', 'video': 'file:///content/sample_data/IntermediateOutput_638734200362873467.mp4', 'max_pixels': 151200, 'fps': 1.0}, {'type': 'text', 'text': 'Is there small group of people walking together? Response with one word only yes or no.'}]}]\n"
          ]
        },
        {
          "output_type": "stream",
          "name": "stderr",
          "text": [
            "INFO:werkzeug:127.0.0.1 - - [25/Jan/2025 15:40:51] \"POST /req1 HTTP/1.1\" 200 -\n"
          ]
        },
        {
          "output_type": "stream",
          "name": "stdout",
          "text": [
            "['no']\n",
            "[{'role': 'user', 'content': [{'type': 'video', 'video': 'file:///content/sample_data/IntermediateOutput_638734200481589155.mp4', 'max_pixels': 151200, 'fps': 1.0}, {'type': 'text', 'text': 'Is there small group of people walking together? Response with one word only yes or no.'}]}]\n"
          ]
        },
        {
          "output_type": "stream",
          "name": "stderr",
          "text": [
            "INFO:werkzeug:127.0.0.1 - - [25/Jan/2025 15:41:02] \"POST /req1 HTTP/1.1\" 200 -\n"
          ]
        },
        {
          "output_type": "stream",
          "name": "stdout",
          "text": [
            "['no']\n",
            "[{'role': 'user', 'content': [{'type': 'video', 'video': 'file:///content/sample_data/IntermediateOutput_638734200601549590.mp4', 'max_pixels': 151200, 'fps': 1.0}, {'type': 'text', 'text': 'Is there small group of people walking together? Response with one word only yes or no.'}]}]\n"
          ]
        },
        {
          "output_type": "stream",
          "name": "stderr",
          "text": [
            "INFO:werkzeug:127.0.0.1 - - [25/Jan/2025 15:41:14] \"POST /req1 HTTP/1.1\" 200 -\n"
          ]
        },
        {
          "output_type": "stream",
          "name": "stdout",
          "text": [
            "['no']\n",
            "[{'role': 'user', 'content': [{'type': 'video', 'video': 'file:///content/sample_data/IntermediateOutput_638734200721514955.mp4', 'max_pixels': 151200, 'fps': 1.0}, {'type': 'text', 'text': 'Is there small group of people walking together? Response with one word only yes or no.'}]}]\n"
          ]
        },
        {
          "output_type": "stream",
          "name": "stderr",
          "text": [
            "INFO:werkzeug:127.0.0.1 - - [25/Jan/2025 15:41:26] \"POST /req1 HTTP/1.1\" 200 -\n"
          ]
        },
        {
          "output_type": "stream",
          "name": "stdout",
          "text": [
            "['no']\n",
            "[{'role': 'user', 'content': [{'type': 'video', 'video': 'file:///content/sample_data/IntermediateOutput_638734200841635250.mp4', 'max_pixels': 151200, 'fps': 1.0}, {'type': 'text', 'text': 'Is there small group of people walking together? Response with one word only yes or no.'}]}]\n"
          ]
        },
        {
          "output_type": "stream",
          "name": "stderr",
          "text": [
            "INFO:werkzeug:127.0.0.1 - - [25/Jan/2025 15:41:39] \"POST /req1 HTTP/1.1\" 200 -\n"
          ]
        },
        {
          "output_type": "stream",
          "name": "stdout",
          "text": [
            "['no']\n",
            "[{'role': 'user', 'content': [{'type': 'video', 'video': 'file:///content/sample_data/IntermediateOutput_638734200963017241.mp4', 'max_pixels': 151200, 'fps': 1.0}, {'type': 'text', 'text': 'Is there small group of people walking together? Response with one word only yes or no.'}]}]\n"
          ]
        },
        {
          "output_type": "stream",
          "name": "stderr",
          "text": [
            "INFO:werkzeug:127.0.0.1 - - [25/Jan/2025 15:41:51] \"POST /req1 HTTP/1.1\" 200 -\n"
          ]
        },
        {
          "output_type": "stream",
          "name": "stdout",
          "text": [
            "['no']\n",
            "[{'role': 'user', 'content': [{'type': 'video', 'video': 'file:///content/sample_data/IntermediateOutput_638734201081565734.mp4', 'max_pixels': 151200, 'fps': 1.0}, {'type': 'text', 'text': 'Is there small group of people walking together? Response with one word only yes or no.'}]}]\n"
          ]
        },
        {
          "output_type": "stream",
          "name": "stderr",
          "text": [
            "INFO:werkzeug:127.0.0.1 - - [25/Jan/2025 15:42:02] \"POST /req1 HTTP/1.1\" 200 -\n"
          ]
        },
        {
          "output_type": "stream",
          "name": "stdout",
          "text": [
            "['no']\n",
            "[{'role': 'user', 'content': [{'type': 'video', 'video': 'file:///content/sample_data/IntermediateOutput_638734201201523728.mp4', 'max_pixels': 151200, 'fps': 1.0}, {'type': 'text', 'text': 'Is there small group of people walking together? Response with one word only yes or no.'}]}]\n"
          ]
        },
        {
          "output_type": "stream",
          "name": "stderr",
          "text": [
            "INFO:werkzeug:127.0.0.1 - - [25/Jan/2025 15:42:15] \"POST /req1 HTTP/1.1\" 200 -\n"
          ]
        },
        {
          "output_type": "stream",
          "name": "stdout",
          "text": [
            "['no']\n",
            "[{'role': 'user', 'content': [{'type': 'video', 'video': 'file:///content/sample_data/IntermediateOutput_638734201321640702.mp4', 'max_pixels': 151200, 'fps': 1.0}, {'type': 'text', 'text': 'Is there small group of people walking together? Response with one word only yes or no.'}]}]\n"
          ]
        },
        {
          "output_type": "stream",
          "name": "stderr",
          "text": [
            "INFO:werkzeug:127.0.0.1 - - [25/Jan/2025 15:42:27] \"POST /req1 HTTP/1.1\" 200 -\n"
          ]
        },
        {
          "output_type": "stream",
          "name": "stdout",
          "text": [
            "['no']\n",
            "[{'role': 'user', 'content': [{'type': 'video', 'video': 'file:///content/sample_data/IntermediateOutput_638734201441606077.mp4', 'max_pixels': 151200, 'fps': 1.0}, {'type': 'text', 'text': 'Is there small group of people walking together? Response with one word only yes or no.'}]}]\n"
          ]
        },
        {
          "output_type": "stream",
          "name": "stderr",
          "text": [
            "INFO:werkzeug:127.0.0.1 - - [25/Jan/2025 15:42:39] \"POST /req1 HTTP/1.1\" 200 -\n"
          ]
        },
        {
          "output_type": "stream",
          "name": "stdout",
          "text": [
            "['no']\n",
            "[{'role': 'user', 'content': [{'type': 'video', 'video': 'file:///content/sample_data/IntermediateOutput_638734201561559364.mp4', 'max_pixels': 151200, 'fps': 1.0}, {'type': 'text', 'text': 'Is there small group of people walking together? Response with one word only yes or no.'}]}]\n"
          ]
        },
        {
          "output_type": "stream",
          "name": "stderr",
          "text": [
            "INFO:werkzeug:127.0.0.1 - - [25/Jan/2025 15:42:51] \"POST /req1 HTTP/1.1\" 200 -\n"
          ]
        },
        {
          "output_type": "stream",
          "name": "stdout",
          "text": [
            "['no']\n",
            "[{'role': 'user', 'content': [{'type': 'video', 'video': 'file:///content/sample_data/IntermediateOutput_638734201681858711.mp4', 'max_pixels': 151200, 'fps': 1.0}, {'type': 'text', 'text': 'Is there small group of people walking together? Response with one word only yes or no.'}]}]\n"
          ]
        },
        {
          "output_type": "stream",
          "name": "stderr",
          "text": [
            "INFO:werkzeug:127.0.0.1 - - [25/Jan/2025 15:43:02] \"POST /req1 HTTP/1.1\" 200 -\n"
          ]
        },
        {
          "output_type": "stream",
          "name": "stdout",
          "text": [
            "['no']\n",
            "[{'role': 'user', 'content': [{'type': 'video', 'video': 'file:///content/sample_data/IntermediateOutput_638734201801654128.mp4', 'max_pixels': 151200, 'fps': 1.0}, {'type': 'text', 'text': 'Is there small group of people walking together? Response with one word only yes or no.'}]}]\n"
          ]
        },
        {
          "output_type": "stream",
          "name": "stderr",
          "text": [
            "INFO:werkzeug:127.0.0.1 - - [25/Jan/2025 15:43:15] \"POST /req1 HTTP/1.1\" 200 -\n"
          ]
        },
        {
          "output_type": "stream",
          "name": "stdout",
          "text": [
            "['no']\n",
            "[{'role': 'user', 'content': [{'type': 'video', 'video': 'file:///content/sample_data/IntermediateOutput_638734201921785784.mp4', 'max_pixels': 151200, 'fps': 1.0}, {'type': 'text', 'text': 'Is there small group of people walking together? Response with one word only yes or no.'}]}]\n"
          ]
        },
        {
          "output_type": "stream",
          "name": "stderr",
          "text": [
            "INFO:werkzeug:127.0.0.1 - - [25/Jan/2025 15:43:27] \"POST /req1 HTTP/1.1\" 200 -\n"
          ]
        },
        {
          "output_type": "stream",
          "name": "stdout",
          "text": [
            "['no']\n",
            "[{'role': 'user', 'content': [{'type': 'video', 'video': 'file:///content/sample_data/IntermediateOutput_638734202041571568.mp4', 'max_pixels': 151200, 'fps': 1.0}, {'type': 'text', 'text': 'Is there small group of people walking together? Response with one word only yes or no.'}]}]\n"
          ]
        },
        {
          "output_type": "stream",
          "name": "stderr",
          "text": [
            "INFO:werkzeug:127.0.0.1 - - [25/Jan/2025 15:43:39] \"POST /req1 HTTP/1.1\" 200 -\n"
          ]
        },
        {
          "output_type": "stream",
          "name": "stdout",
          "text": [
            "['Yes']\n",
            "[{'role': 'user', 'content': [{'type': 'video', 'video': 'file:///content/sample_data/IntermediateOutput_638734202161858571.mp4', 'max_pixels': 151200, 'fps': 1.0}, {'type': 'text', 'text': 'Is there small group of people walking together? Response with one word only yes or no.'}]}]\n"
          ]
        },
        {
          "output_type": "stream",
          "name": "stderr",
          "text": [
            "INFO:werkzeug:127.0.0.1 - - [25/Jan/2025 15:43:51] \"POST /req1 HTTP/1.1\" 200 -\n"
          ]
        },
        {
          "output_type": "stream",
          "name": "stdout",
          "text": [
            "['Yes']\n",
            "[{'role': 'user', 'content': [{'type': 'video', 'video': 'file:///content/sample_data/IntermediateOutput_638734202281710429.mp4', 'max_pixels': 151200, 'fps': 1.0}, {'type': 'text', 'text': 'Is there small group of people walking together? Response with one word only yes or no.'}]}]\n"
          ]
        },
        {
          "output_type": "stream",
          "name": "stderr",
          "text": [
            "INFO:werkzeug:127.0.0.1 - - [25/Jan/2025 15:44:03] \"POST /req1 HTTP/1.1\" 200 -\n"
          ]
        },
        {
          "output_type": "stream",
          "name": "stdout",
          "text": [
            "['no']\n",
            "[{'role': 'user', 'content': [{'type': 'video', 'video': 'file:///content/sample_data/IntermediateOutput_638734202401604835.mp4', 'max_pixels': 151200, 'fps': 1.0}, {'type': 'text', 'text': 'Is there small group of people walking together? Response with one word only yes or no.'}]}]\n"
          ]
        },
        {
          "output_type": "stream",
          "name": "stderr",
          "text": [
            "INFO:werkzeug:127.0.0.1 - - [25/Jan/2025 15:44:15] \"POST /req1 HTTP/1.1\" 200 -\n"
          ]
        },
        {
          "output_type": "stream",
          "name": "stdout",
          "text": [
            "['no']\n",
            "[{'role': 'user', 'content': [{'type': 'video', 'video': 'file:///content/sample_data/IntermediateOutput_638734202521733631.mp4', 'max_pixels': 151200, 'fps': 1.0}, {'type': 'text', 'text': 'Is there small group of people walking together? Response with one word only yes or no.'}]}]\n"
          ]
        },
        {
          "output_type": "stream",
          "name": "stderr",
          "text": [
            "INFO:werkzeug:127.0.0.1 - - [25/Jan/2025 15:44:27] \"POST /req1 HTTP/1.1\" 200 -\n"
          ]
        },
        {
          "output_type": "stream",
          "name": "stdout",
          "text": [
            "['no']\n",
            "[{'role': 'user', 'content': [{'type': 'video', 'video': 'file:///content/sample_data/IntermediateOutput_638734202641526256.mp4', 'max_pixels': 151200, 'fps': 1.0}, {'type': 'text', 'text': 'Is there small group of people walking together? Response with one word only yes or no.'}]}]\n"
          ]
        },
        {
          "output_type": "stream",
          "name": "stderr",
          "text": [
            "INFO:werkzeug:127.0.0.1 - - [25/Jan/2025 15:44:39] \"POST /req1 HTTP/1.1\" 200 -\n"
          ]
        },
        {
          "output_type": "stream",
          "name": "stdout",
          "text": [
            "['no']\n",
            "[{'role': 'user', 'content': [{'type': 'video', 'video': 'file:///content/sample_data/IntermediateOutput_638734202761818459.mp4', 'max_pixels': 151200, 'fps': 1.0}, {'type': 'text', 'text': 'Is there small group of people walking together? Response with one word only yes or no.'}]}]\n"
          ]
        },
        {
          "output_type": "stream",
          "name": "stderr",
          "text": [
            "INFO:werkzeug:127.0.0.1 - - [25/Jan/2025 15:44:51] \"POST /req1 HTTP/1.1\" 200 -\n"
          ]
        },
        {
          "output_type": "stream",
          "name": "stdout",
          "text": [
            "['no']\n",
            "[{'role': 'user', 'content': [{'type': 'video', 'video': 'file:///content/sample_data/IntermediateOutput_638734202881604220.mp4', 'max_pixels': 151200, 'fps': 1.0}, {'type': 'text', 'text': 'Is there small group of people walking together? Response with one word only yes or no.'}]}]\n"
          ]
        },
        {
          "output_type": "stream",
          "name": "stderr",
          "text": [
            "INFO:werkzeug:127.0.0.1 - - [25/Jan/2025 15:45:03] \"POST /req1 HTTP/1.1\" 200 -\n"
          ]
        },
        {
          "output_type": "stream",
          "name": "stdout",
          "text": [
            "['no']\n",
            "[{'role': 'user', 'content': [{'type': 'video', 'video': 'file:///content/sample_data/IntermediateOutput_638734203001742408.mp4', 'max_pixels': 151200, 'fps': 1.0}, {'type': 'text', 'text': 'Is there small group of people walking together? Response with one word only yes or no.'}]}]\n"
          ]
        },
        {
          "output_type": "stream",
          "name": "stderr",
          "text": [
            "INFO:werkzeug:127.0.0.1 - - [25/Jan/2025 15:45:15] \"POST /req1 HTTP/1.1\" 200 -\n"
          ]
        },
        {
          "output_type": "stream",
          "name": "stdout",
          "text": [
            "['no']\n",
            "[{'role': 'user', 'content': [{'type': 'video', 'video': 'file:///content/sample_data/IntermediateOutput_638734203121532543.mp4', 'max_pixels': 151200, 'fps': 1.0}, {'type': 'text', 'text': 'Is there small group of people walking together? Response with one word only yes or no.'}]}]\n"
          ]
        },
        {
          "output_type": "stream",
          "name": "stderr",
          "text": [
            "INFO:werkzeug:127.0.0.1 - - [25/Jan/2025 15:45:27] \"POST /req1 HTTP/1.1\" 200 -\n"
          ]
        },
        {
          "output_type": "stream",
          "name": "stdout",
          "text": [
            "['no']\n",
            "[{'role': 'user', 'content': [{'type': 'video', 'video': 'file:///content/sample_data/IntermediateOutput_638734203241660441.mp4', 'max_pixels': 151200, 'fps': 1.0}, {'type': 'text', 'text': 'Is there small group of people walking together? Response with one word only yes or no.'}]}]\n"
          ]
        },
        {
          "output_type": "stream",
          "name": "stderr",
          "text": [
            "INFO:werkzeug:127.0.0.1 - - [25/Jan/2025 15:45:39] \"POST /req1 HTTP/1.1\" 200 -\n"
          ]
        },
        {
          "output_type": "stream",
          "name": "stdout",
          "text": [
            "['no']\n",
            "[{'role': 'user', 'content': [{'type': 'video', 'video': 'file:///content/sample_data/IntermediateOutput_638734203361616366.mp4', 'max_pixels': 151200, 'fps': 1.0}, {'type': 'text', 'text': 'Is there small group of people walking together? Response with one word only yes or no.'}]}]\n"
          ]
        },
        {
          "output_type": "stream",
          "name": "stderr",
          "text": [
            "INFO:werkzeug:127.0.0.1 - - [25/Jan/2025 15:45:51] \"POST /req1 HTTP/1.1\" 200 -\n"
          ]
        },
        {
          "output_type": "stream",
          "name": "stdout",
          "text": [
            "['no']\n",
            "[{'role': 'user', 'content': [{'type': 'video', 'video': 'file:///content/sample_data/IntermediateOutput_638734203481581527.mp4', 'max_pixels': 151200, 'fps': 1.0}, {'type': 'text', 'text': 'Is there small group of people walking together? Response with one word only yes or no.'}]}]\n"
          ]
        },
        {
          "output_type": "stream",
          "name": "stderr",
          "text": [
            "INFO:werkzeug:127.0.0.1 - - [25/Jan/2025 15:46:03] \"POST /req1 HTTP/1.1\" 200 -\n"
          ]
        },
        {
          "output_type": "stream",
          "name": "stdout",
          "text": [
            "['no']\n",
            "[{'role': 'user', 'content': [{'type': 'video', 'video': 'file:///content/sample_data/IntermediateOutput_638734203601528357.mp4', 'max_pixels': 151200, 'fps': 1.0}, {'type': 'text', 'text': 'Is there small group of people walking together? Response with one word only yes or no.'}]}]\n"
          ]
        },
        {
          "output_type": "stream",
          "name": "stderr",
          "text": [
            "INFO:werkzeug:127.0.0.1 - - [25/Jan/2025 15:46:15] \"POST /req1 HTTP/1.1\" 200 -\n"
          ]
        },
        {
          "output_type": "stream",
          "name": "stdout",
          "text": [
            "['no']\n",
            "[{'role': 'user', 'content': [{'type': 'video', 'video': 'file:///content/sample_data/IntermediateOutput_638734203721655110.mp4', 'max_pixels': 151200, 'fps': 1.0}, {'type': 'text', 'text': 'Is there small group of people walking together? Response with one word only yes or no.'}]}]\n"
          ]
        },
        {
          "output_type": "stream",
          "name": "stderr",
          "text": [
            "INFO:werkzeug:127.0.0.1 - - [25/Jan/2025 15:46:27] \"POST /req1 HTTP/1.1\" 200 -\n"
          ]
        },
        {
          "output_type": "stream",
          "name": "stdout",
          "text": [
            "['no']\n",
            "[{'role': 'user', 'content': [{'type': 'video', 'video': 'file:///content/sample_data/IntermediateOutput_638734203841625345.mp4', 'max_pixels': 151200, 'fps': 1.0}, {'type': 'text', 'text': 'Is there small group of people walking together? Response with one word only yes or no.'}]}]\n"
          ]
        },
        {
          "output_type": "stream",
          "name": "stderr",
          "text": [
            "INFO:werkzeug:127.0.0.1 - - [25/Jan/2025 15:46:39] \"POST /req1 HTTP/1.1\" 200 -\n"
          ]
        },
        {
          "output_type": "stream",
          "name": "stdout",
          "text": [
            "['no']\n",
            "[{'role': 'user', 'content': [{'type': 'video', 'video': 'file:///content/sample_data/IntermediateOutput_638734203961638973.mp4', 'max_pixels': 151200, 'fps': 1.0}, {'type': 'text', 'text': 'Is there small group of people walking together? Response with one word only yes or no.'}]}]\n"
          ]
        },
        {
          "output_type": "stream",
          "name": "stderr",
          "text": [
            "INFO:werkzeug:127.0.0.1 - - [25/Jan/2025 15:46:51] \"POST /req1 HTTP/1.1\" 200 -\n"
          ]
        },
        {
          "output_type": "stream",
          "name": "stdout",
          "text": [
            "['no']\n",
            "[{'role': 'user', 'content': [{'type': 'video', 'video': 'file:///content/sample_data/IntermediateOutput_638734204081906444.mp4', 'max_pixels': 151200, 'fps': 1.0}, {'type': 'text', 'text': 'Is there small group of people walking together? Response with one word only yes or no.'}]}]\n"
          ]
        },
        {
          "output_type": "stream",
          "name": "stderr",
          "text": [
            "INFO:werkzeug:127.0.0.1 - - [25/Jan/2025 15:47:03] \"POST /req1 HTTP/1.1\" 200 -\n"
          ]
        },
        {
          "output_type": "stream",
          "name": "stdout",
          "text": [
            "['no']\n",
            "[{'role': 'user', 'content': [{'type': 'video', 'video': 'file:///content/sample_data/IntermediateOutput_638734204201661280.mp4', 'max_pixels': 151200, 'fps': 1.0}, {'type': 'text', 'text': 'Is there small group of people walking together? Response with one word only yes or no.'}]}]\n"
          ]
        },
        {
          "output_type": "stream",
          "name": "stderr",
          "text": [
            "INFO:werkzeug:127.0.0.1 - - [25/Jan/2025 15:47:15] \"POST /req1 HTTP/1.1\" 200 -\n"
          ]
        },
        {
          "output_type": "stream",
          "name": "stdout",
          "text": [
            "['no']\n",
            "[{'role': 'user', 'content': [{'type': 'video', 'video': 'file:///content/sample_data/IntermediateOutput_638734204321919454.mp4', 'max_pixels': 151200, 'fps': 1.0}, {'type': 'text', 'text': 'Is there small group of people walking together? Response with one word only yes or no.'}]}]\n"
          ]
        },
        {
          "output_type": "stream",
          "name": "stderr",
          "text": [
            "INFO:werkzeug:127.0.0.1 - - [25/Jan/2025 15:47:27] \"POST /req1 HTTP/1.1\" 200 -\n"
          ]
        },
        {
          "output_type": "stream",
          "name": "stdout",
          "text": [
            "['no']\n",
            "[{'role': 'user', 'content': [{'type': 'video', 'video': 'file:///content/sample_data/IntermediateOutput_638734204441723070.mp4', 'max_pixels': 151200, 'fps': 1.0}, {'type': 'text', 'text': 'Is there small group of people walking together? Response with one word only yes or no.'}]}]\n"
          ]
        },
        {
          "output_type": "stream",
          "name": "stderr",
          "text": [
            "INFO:werkzeug:127.0.0.1 - - [25/Jan/2025 15:47:39] \"POST /req1 HTTP/1.1\" 200 -\n"
          ]
        },
        {
          "output_type": "stream",
          "name": "stdout",
          "text": [
            "['no']\n",
            "[{'role': 'user', 'content': [{'type': 'video', 'video': 'file:///content/sample_data/IntermediateOutput_638734204562270847.mp4', 'max_pixels': 151200, 'fps': 1.0}, {'type': 'text', 'text': 'Is there small group of people walking together? Response with one word only yes or no.'}]}]\n"
          ]
        },
        {
          "output_type": "stream",
          "name": "stderr",
          "text": [
            "INFO:werkzeug:127.0.0.1 - - [25/Jan/2025 15:47:51] \"POST /req1 HTTP/1.1\" 200 -\n"
          ]
        },
        {
          "output_type": "stream",
          "name": "stdout",
          "text": [
            "['no']\n",
            "[{'role': 'user', 'content': [{'type': 'video', 'video': 'file:///content/sample_data/IntermediateOutput_638734204682038104.mp4', 'max_pixels': 151200, 'fps': 1.0}, {'type': 'text', 'text': 'Is there small group of people walking together? Response with one word only yes or no.'}]}]\n"
          ]
        },
        {
          "output_type": "stream",
          "name": "stderr",
          "text": [
            "INFO:werkzeug:127.0.0.1 - - [25/Jan/2025 15:48:03] \"POST /req1 HTTP/1.1\" 200 -\n"
          ]
        },
        {
          "output_type": "stream",
          "name": "stdout",
          "text": [
            "['no']\n",
            "[{'role': 'user', 'content': [{'type': 'video', 'video': 'file:///content/sample_data/IntermediateOutput_638734204801730824.mp4', 'max_pixels': 151200, 'fps': 1.0}, {'type': 'text', 'text': 'Is there small group of people walking together? Response with one word only yes or no.'}]}]\n"
          ]
        },
        {
          "output_type": "stream",
          "name": "stderr",
          "text": [
            "INFO:werkzeug:127.0.0.1 - - [25/Jan/2025 15:48:15] \"POST /req1 HTTP/1.1\" 200 -\n"
          ]
        },
        {
          "output_type": "stream",
          "name": "stdout",
          "text": [
            "['no']\n",
            "[{'role': 'user', 'content': [{'type': 'video', 'video': 'file:///content/sample_data/IntermediateOutput_638734204921757965.mp4', 'max_pixels': 151200, 'fps': 1.0}, {'type': 'text', 'text': 'Is there small group of people walking together? Response with one word only yes or no.'}]}]\n"
          ]
        },
        {
          "output_type": "stream",
          "name": "stderr",
          "text": [
            "INFO:werkzeug:127.0.0.1 - - [25/Jan/2025 15:48:27] \"POST /req1 HTTP/1.1\" 200 -\n"
          ]
        },
        {
          "output_type": "stream",
          "name": "stdout",
          "text": [
            "['no']\n",
            "[{'role': 'user', 'content': [{'type': 'video', 'video': 'file:///content/sample_data/IntermediateOutput_638734205041654909.mp4', 'max_pixels': 151200, 'fps': 1.0}, {'type': 'text', 'text': 'Is there small group of people walking together? Response with one word only yes or no.'}]}]\n"
          ]
        },
        {
          "output_type": "stream",
          "name": "stderr",
          "text": [
            "INFO:werkzeug:127.0.0.1 - - [25/Jan/2025 15:48:39] \"POST /req1 HTTP/1.1\" 200 -\n"
          ]
        },
        {
          "output_type": "stream",
          "name": "stdout",
          "text": [
            "['no']\n",
            "[{'role': 'user', 'content': [{'type': 'video', 'video': 'file:///content/sample_data/IntermediateOutput_638734205161944275.mp4', 'max_pixels': 151200, 'fps': 1.0}, {'type': 'text', 'text': 'Is there small group of people walking together? Response with one word only yes or no.'}]}]\n"
          ]
        },
        {
          "output_type": "stream",
          "name": "stderr",
          "text": [
            "INFO:werkzeug:127.0.0.1 - - [25/Jan/2025 15:48:51] \"POST /req1 HTTP/1.1\" 200 -\n"
          ]
        },
        {
          "output_type": "stream",
          "name": "stdout",
          "text": [
            "['no']\n",
            "[{'role': 'user', 'content': [{'type': 'video', 'video': 'file:///content/sample_data/IntermediateOutput_638734205282077102.mp4', 'max_pixels': 151200, 'fps': 1.0}, {'type': 'text', 'text': 'Is there small group of people walking together? Response with one word only yes or no.'}]}]\n"
          ]
        },
        {
          "output_type": "stream",
          "name": "stderr",
          "text": [
            "INFO:werkzeug:127.0.0.1 - - [25/Jan/2025 15:49:03] \"POST /req1 HTTP/1.1\" 200 -\n"
          ]
        },
        {
          "output_type": "stream",
          "name": "stdout",
          "text": [
            "['no']\n",
            "[{'role': 'user', 'content': [{'type': 'video', 'video': 'file:///content/sample_data/IntermediateOutput_638734205401960425.mp4', 'max_pixels': 151200, 'fps': 1.0}, {'type': 'text', 'text': 'Is there small group of people walking together? Response with one word only yes or no.'}]}]\n"
          ]
        },
        {
          "output_type": "stream",
          "name": "stderr",
          "text": [
            "INFO:werkzeug:127.0.0.1 - - [25/Jan/2025 15:49:15] \"POST /req1 HTTP/1.1\" 200 -\n"
          ]
        },
        {
          "output_type": "stream",
          "name": "stdout",
          "text": [
            "['no']\n",
            "[{'role': 'user', 'content': [{'type': 'video', 'video': 'file:///content/sample_data/IntermediateOutput_638734205522033323.mp4', 'max_pixels': 151200, 'fps': 1.0}, {'type': 'text', 'text': 'Is there small group of people walking together? Response with one word only yes or no.'}]}]\n"
          ]
        },
        {
          "output_type": "stream",
          "name": "stderr",
          "text": [
            "INFO:werkzeug:127.0.0.1 - - [25/Jan/2025 15:49:27] \"POST /req1 HTTP/1.1\" 200 -\n"
          ]
        },
        {
          "output_type": "stream",
          "name": "stdout",
          "text": [
            "['no']\n",
            "[{'role': 'user', 'content': [{'type': 'video', 'video': 'file:///content/sample_data/IntermediateOutput_638734205641909770.mp4', 'max_pixels': 151200, 'fps': 1.0}, {'type': 'text', 'text': 'Is there small group of people walking together? Response with one word only yes or no.'}]}]\n"
          ]
        },
        {
          "output_type": "stream",
          "name": "stderr",
          "text": [
            "INFO:werkzeug:127.0.0.1 - - [25/Jan/2025 15:49:39] \"POST /req1 HTTP/1.1\" 200 -\n"
          ]
        },
        {
          "output_type": "stream",
          "name": "stdout",
          "text": [
            "['no']\n",
            "[{'role': 'user', 'content': [{'type': 'video', 'video': 'file:///content/sample_data/IntermediateOutput_638734205762143214.mp4', 'max_pixels': 151200, 'fps': 1.0}, {'type': 'text', 'text': 'Is there small group of people walking together? Response with one word only yes or no.'}]}]\n"
          ]
        },
        {
          "output_type": "stream",
          "name": "stderr",
          "text": [
            "INFO:werkzeug:127.0.0.1 - - [25/Jan/2025 15:49:51] \"POST /req1 HTTP/1.1\" 200 -\n"
          ]
        },
        {
          "output_type": "stream",
          "name": "stdout",
          "text": [
            "['Yes']\n",
            "[{'role': 'user', 'content': [{'type': 'video', 'video': 'file:///content/sample_data/IntermediateOutput_638734205882012267.mp4', 'max_pixels': 151200, 'fps': 1.0}, {'type': 'text', 'text': 'Is there small group of people walking together? Response with one word only yes or no.'}]}]\n"
          ]
        },
        {
          "output_type": "stream",
          "name": "stderr",
          "text": [
            "INFO:werkzeug:127.0.0.1 - - [25/Jan/2025 15:50:04] \"POST /req1 HTTP/1.1\" 200 -\n"
          ]
        },
        {
          "output_type": "stream",
          "name": "stdout",
          "text": [
            "['no']\n",
            "[{'role': 'user', 'content': [{'type': 'video', 'video': 'file:///content/sample_data/IntermediateOutput_638734206001563540.mp4', 'max_pixels': 151200, 'fps': 1.0}, {'type': 'text', 'text': 'Is there small group of people walking together? Response with one word only yes or no.'}]}]\n"
          ]
        },
        {
          "output_type": "stream",
          "name": "stderr",
          "text": [
            "INFO:werkzeug:127.0.0.1 - - [25/Jan/2025 15:50:14] \"POST /req1 HTTP/1.1\" 200 -\n"
          ]
        },
        {
          "output_type": "stream",
          "name": "stdout",
          "text": [
            "['no']\n",
            "[{'role': 'user', 'content': [{'type': 'video', 'video': 'file:///content/sample_data/IntermediateOutput_638734206122107898.mp4', 'max_pixels': 151200, 'fps': 1.0}, {'type': 'text', 'text': 'Is there small group of people walking together? Response with one word only yes or no.'}]}]\n"
          ]
        },
        {
          "output_type": "stream",
          "name": "stderr",
          "text": [
            "INFO:werkzeug:127.0.0.1 - - [25/Jan/2025 15:50:27] \"POST /req1 HTTP/1.1\" 200 -\n"
          ]
        },
        {
          "output_type": "stream",
          "name": "stdout",
          "text": [
            "['no']\n",
            "[{'role': 'user', 'content': [{'type': 'video', 'video': 'file:///content/sample_data/IntermediateOutput_638734206242236965.mp4', 'max_pixels': 151200, 'fps': 1.0}, {'type': 'text', 'text': 'Is there small group of people walking together? Response with one word only yes or no.'}]}]\n"
          ]
        },
        {
          "output_type": "stream",
          "name": "stderr",
          "text": [
            "INFO:werkzeug:127.0.0.1 - - [25/Jan/2025 15:50:39] \"POST /req1 HTTP/1.1\" 200 -\n"
          ]
        },
        {
          "output_type": "stream",
          "name": "stdout",
          "text": [
            "['no']\n",
            "[{'role': 'user', 'content': [{'type': 'video', 'video': 'file:///content/sample_data/IntermediateOutput_638734206362133866.mp4', 'max_pixels': 151200, 'fps': 1.0}, {'type': 'text', 'text': 'Is there small group of people walking together? Response with one word only yes or no.'}]}]\n"
          ]
        },
        {
          "output_type": "stream",
          "name": "stderr",
          "text": [
            "INFO:werkzeug:127.0.0.1 - - [25/Jan/2025 15:50:51] \"POST /req1 HTTP/1.1\" 200 -\n"
          ]
        },
        {
          "output_type": "stream",
          "name": "stdout",
          "text": [
            "['no']\n",
            "[{'role': 'user', 'content': [{'type': 'video', 'video': 'file:///content/sample_data/IntermediateOutput_638734206482111479.mp4', 'max_pixels': 151200, 'fps': 1.0}, {'type': 'text', 'text': 'Is there small group of people walking together? Response with one word only yes or no.'}]}]\n"
          ]
        },
        {
          "output_type": "stream",
          "name": "stderr",
          "text": [
            "INFO:werkzeug:127.0.0.1 - - [25/Jan/2025 15:51:03] \"POST /req1 HTTP/1.1\" 200 -\n"
          ]
        },
        {
          "output_type": "stream",
          "name": "stdout",
          "text": [
            "['no']\n",
            "[{'role': 'user', 'content': [{'type': 'video', 'video': 'file:///content/sample_data/IntermediateOutput_638734206602300443.mp4', 'max_pixels': 151200, 'fps': 1.0}, {'type': 'text', 'text': 'Is there small group of people walking together? Response with one word only yes or no.'}]}]\n"
          ]
        },
        {
          "output_type": "stream",
          "name": "stderr",
          "text": [
            "INFO:werkzeug:127.0.0.1 - - [25/Jan/2025 15:51:15] \"POST /req1 HTTP/1.1\" 200 -\n"
          ]
        },
        {
          "output_type": "stream",
          "name": "stdout",
          "text": [
            "['no']\n",
            "[{'role': 'user', 'content': [{'type': 'video', 'video': 'file:///content/sample_data/IntermediateOutput_638734206722336611.mp4', 'max_pixels': 151200, 'fps': 1.0}, {'type': 'text', 'text': 'Is there small group of people walking together? Response with one word only yes or no.'}]}]\n"
          ]
        },
        {
          "output_type": "stream",
          "name": "stderr",
          "text": [
            "INFO:werkzeug:127.0.0.1 - - [25/Jan/2025 15:51:27] \"POST /req1 HTTP/1.1\" 200 -\n"
          ]
        },
        {
          "output_type": "stream",
          "name": "stdout",
          "text": [
            "['no']\n",
            "[{'role': 'user', 'content': [{'type': 'video', 'video': 'file:///content/sample_data/IntermediateOutput_638734206842349218.mp4', 'max_pixels': 151200, 'fps': 1.0}, {'type': 'text', 'text': 'Is there small group of people walking together? Response with one word only yes or no.'}]}]\n"
          ]
        },
        {
          "output_type": "stream",
          "name": "stderr",
          "text": [
            "INFO:werkzeug:127.0.0.1 - - [25/Jan/2025 15:51:39] \"POST /req1 HTTP/1.1\" 200 -\n"
          ]
        },
        {
          "output_type": "stream",
          "name": "stdout",
          "text": [
            "['Yes']\n",
            "[{'role': 'user', 'content': [{'type': 'video', 'video': 'file:///content/sample_data/IntermediateOutput_638734206961740104.mp4', 'max_pixels': 151200, 'fps': 1.0}, {'type': 'text', 'text': 'Is there small group of people walking together? Response with one word only yes or no.'}]}]\n"
          ]
        },
        {
          "output_type": "stream",
          "name": "stderr",
          "text": [
            "INFO:werkzeug:127.0.0.1 - - [25/Jan/2025 15:51:50] \"POST /req1 HTTP/1.1\" 200 -\n"
          ]
        },
        {
          "output_type": "stream",
          "name": "stdout",
          "text": [
            "['Yes']\n",
            "[{'role': 'user', 'content': [{'type': 'video', 'video': 'file:///content/sample_data/IntermediateOutput_638734207082438257.mp4', 'max_pixels': 151200, 'fps': 1.0}, {'type': 'text', 'text': 'Is there small group of people walking together? Response with one word only yes or no.'}]}]\n"
          ]
        },
        {
          "output_type": "stream",
          "name": "stderr",
          "text": [
            "INFO:werkzeug:127.0.0.1 - - [25/Jan/2025 15:52:03] \"POST /req1 HTTP/1.1\" 200 -\n"
          ]
        },
        {
          "output_type": "stream",
          "name": "stdout",
          "text": [
            "['no']\n",
            "[{'role': 'user', 'content': [{'type': 'video', 'video': 'file:///content/sample_data/IntermediateOutput_638734207202432478.mp4', 'max_pixels': 151200, 'fps': 1.0}, {'type': 'text', 'text': 'Is there small group of people walking together? Response with one word only yes or no.'}]}]\n"
          ]
        },
        {
          "output_type": "stream",
          "name": "stderr",
          "text": [
            "INFO:werkzeug:127.0.0.1 - - [25/Jan/2025 15:52:15] \"POST /req1 HTTP/1.1\" 200 -\n"
          ]
        },
        {
          "output_type": "stream",
          "name": "stdout",
          "text": [
            "['No']\n",
            "[{'role': 'user', 'content': [{'type': 'video', 'video': 'file:///content/sample_data/IntermediateOutput_638734207322879040.mp4', 'max_pixels': 151200, 'fps': 1.0}, {'type': 'text', 'text': 'Is there small group of people walking together? Response with one word only yes or no.'}]}]\n"
          ]
        },
        {
          "output_type": "stream",
          "name": "stderr",
          "text": [
            "INFO:werkzeug:127.0.0.1 - - [25/Jan/2025 15:52:27] \"POST /req1 HTTP/1.1\" 200 -\n"
          ]
        },
        {
          "output_type": "stream",
          "name": "stdout",
          "text": [
            "['no']\n",
            "[{'role': 'user', 'content': [{'type': 'video', 'video': 'file:///content/sample_data/IntermediateOutput_638734207442522864.mp4', 'max_pixels': 151200, 'fps': 1.0}, {'type': 'text', 'text': 'Is there small group of people walking together? Response with one word only yes or no.'}]}]\n"
          ]
        },
        {
          "output_type": "stream",
          "name": "stderr",
          "text": [
            "INFO:werkzeug:127.0.0.1 - - [25/Jan/2025 15:52:39] \"POST /req1 HTTP/1.1\" 200 -\n"
          ]
        },
        {
          "output_type": "stream",
          "name": "stdout",
          "text": [
            "['no']\n",
            "[{'role': 'user', 'content': [{'type': 'video', 'video': 'file:///content/sample_data/IntermediateOutput_638734207561810165.mp4', 'max_pixels': 151200, 'fps': 1.0}, {'type': 'text', 'text': 'Is there small group of people walking together? Response with one word only yes or no.'}]}]\n"
          ]
        },
        {
          "output_type": "stream",
          "name": "stderr",
          "text": [
            "INFO:werkzeug:127.0.0.1 - - [25/Jan/2025 15:52:51] \"POST /req1 HTTP/1.1\" 200 -\n"
          ]
        },
        {
          "output_type": "stream",
          "name": "stdout",
          "text": [
            "['no']\n",
            "[{'role': 'user', 'content': [{'type': 'video', 'video': 'file:///content/sample_data/IntermediateOutput_638734207681501065.mp4', 'max_pixels': 151200, 'fps': 1.0}, {'type': 'text', 'text': 'Is there small group of people walking together? Response with one word only yes or no.'}]}]\n"
          ]
        },
        {
          "output_type": "stream",
          "name": "stderr",
          "text": [
            "INFO:werkzeug:127.0.0.1 - - [25/Jan/2025 15:53:01] \"POST /req1 HTTP/1.1\" 200 -\n"
          ]
        },
        {
          "output_type": "stream",
          "name": "stdout",
          "text": [
            "['no']\n",
            "[{'role': 'user', 'content': [{'type': 'video', 'video': 'file:///content/sample_data/IntermediateOutput_638734207801976532.mp4', 'max_pixels': 151200, 'fps': 1.0}, {'type': 'text', 'text': 'Is there small group of people walking together? Response with one word only yes or no.'}]}]\n"
          ]
        },
        {
          "output_type": "stream",
          "name": "stderr",
          "text": [
            "INFO:werkzeug:127.0.0.1 - - [25/Jan/2025 15:53:14] \"POST /req1 HTTP/1.1\" 200 -\n"
          ]
        },
        {
          "output_type": "stream",
          "name": "stdout",
          "text": [
            "['no']\n",
            "[{'role': 'user', 'content': [{'type': 'video', 'video': 'file:///content/sample_data/IntermediateOutput_638734207922235915.mp4', 'max_pixels': 151200, 'fps': 1.0}, {'type': 'text', 'text': 'Is there small group of people walking together? Response with one word only yes or no.'}]}]\n"
          ]
        },
        {
          "output_type": "stream",
          "name": "stderr",
          "text": [
            "INFO:werkzeug:127.0.0.1 - - [25/Jan/2025 15:53:26] \"POST /req1 HTTP/1.1\" 200 -\n"
          ]
        },
        {
          "output_type": "stream",
          "name": "stdout",
          "text": [
            "['no']\n",
            "[{'role': 'user', 'content': [{'type': 'video', 'video': 'file:///content/sample_data/IntermediateOutput_638734208041835845.mp4', 'max_pixels': 151200, 'fps': 1.0}, {'type': 'text', 'text': 'Is there small group of people walking together? Response with one word only yes or no.'}]}]\n"
          ]
        },
        {
          "output_type": "stream",
          "name": "stderr",
          "text": [
            "INFO:werkzeug:127.0.0.1 - - [25/Jan/2025 15:53:38] \"POST /req1 HTTP/1.1\" 200 -\n"
          ]
        },
        {
          "output_type": "stream",
          "name": "stdout",
          "text": [
            "['no']\n",
            "[{'role': 'user', 'content': [{'type': 'video', 'video': 'file:///content/sample_data/IntermediateOutput_638734208162270082.mp4', 'max_pixels': 151200, 'fps': 1.0}, {'type': 'text', 'text': 'Is there small group of people walking together? Response with one word only yes or no.'}]}]\n"
          ]
        },
        {
          "output_type": "stream",
          "name": "stderr",
          "text": [
            "INFO:werkzeug:127.0.0.1 - - [25/Jan/2025 15:53:51] \"POST /req1 HTTP/1.1\" 200 -\n"
          ]
        },
        {
          "output_type": "stream",
          "name": "stdout",
          "text": [
            "['no']\n",
            "[{'role': 'user', 'content': [{'type': 'video', 'video': 'file:///content/sample_data/IntermediateOutput_638734208282343365.mp4', 'max_pixels': 151200, 'fps': 1.0}, {'type': 'text', 'text': 'Is there small group of people walking together? Response with one word only yes or no.'}]}]\n"
          ]
        },
        {
          "output_type": "stream",
          "name": "stderr",
          "text": [
            "INFO:werkzeug:127.0.0.1 - - [25/Jan/2025 15:54:02] \"POST /req1 HTTP/1.1\" 200 -\n"
          ]
        },
        {
          "output_type": "stream",
          "name": "stdout",
          "text": [
            "['no']\n",
            "[{'role': 'user', 'content': [{'type': 'video', 'video': 'file:///content/sample_data/IntermediateOutput_638734208402312756.mp4', 'max_pixels': 151200, 'fps': 1.0}, {'type': 'text', 'text': 'Is there small group of people walking together? Response with one word only yes or no.'}]}]\n"
          ]
        },
        {
          "output_type": "stream",
          "name": "stderr",
          "text": [
            "INFO:werkzeug:127.0.0.1 - - [25/Jan/2025 15:54:15] \"POST /req1 HTTP/1.1\" 200 -\n"
          ]
        },
        {
          "output_type": "stream",
          "name": "stdout",
          "text": [
            "['no']\n",
            "[{'role': 'user', 'content': [{'type': 'video', 'video': 'file:///content/sample_data/IntermediateOutput_638734208522349085.mp4', 'max_pixels': 151200, 'fps': 1.0}, {'type': 'text', 'text': 'Is there small group of people walking together? Response with one word only yes or no.'}]}]\n"
          ]
        },
        {
          "output_type": "stream",
          "name": "stderr",
          "text": [
            "INFO:werkzeug:127.0.0.1 - - [25/Jan/2025 15:54:26] \"POST /req1 HTTP/1.1\" 200 -\n"
          ]
        },
        {
          "output_type": "stream",
          "name": "stdout",
          "text": [
            "['no']\n",
            "[{'role': 'user', 'content': [{'type': 'video', 'video': 'file:///content/sample_data/IntermediateOutput_638734208642127676.mp4', 'max_pixels': 151200, 'fps': 1.0}, {'type': 'text', 'text': 'Is there small group of people walking together? Response with one word only yes or no.'}]}]\n"
          ]
        },
        {
          "output_type": "stream",
          "name": "stderr",
          "text": [
            "INFO:werkzeug:127.0.0.1 - - [25/Jan/2025 15:54:38] \"POST /req1 HTTP/1.1\" 200 -\n"
          ]
        },
        {
          "output_type": "stream",
          "name": "stdout",
          "text": [
            "['no']\n",
            "[{'role': 'user', 'content': [{'type': 'video', 'video': 'file:///content/sample_data/IntermediateOutput_638734208762365232.mp4', 'max_pixels': 151200, 'fps': 1.0}, {'type': 'text', 'text': 'Is there small group of people walking together? Response with one word only yes or no.'}]}]\n"
          ]
        },
        {
          "output_type": "stream",
          "name": "stderr",
          "text": [
            "INFO:werkzeug:127.0.0.1 - - [25/Jan/2025 15:54:50] \"POST /req1 HTTP/1.1\" 200 -\n"
          ]
        },
        {
          "output_type": "stream",
          "name": "stdout",
          "text": [
            "['no']\n",
            "[{'role': 'user', 'content': [{'type': 'video', 'video': 'file:///content/sample_data/IntermediateOutput_638734208881577522.mp4', 'max_pixels': 151200, 'fps': 1.0}, {'type': 'text', 'text': 'Is there small group of people walking together? Response with one word only yes or no.'}]}]\n"
          ]
        },
        {
          "output_type": "stream",
          "name": "stderr",
          "text": [
            "INFO:werkzeug:127.0.0.1 - - [25/Jan/2025 15:55:02] \"POST /req1 HTTP/1.1\" 200 -\n"
          ]
        },
        {
          "output_type": "stream",
          "name": "stdout",
          "text": [
            "['no']\n",
            "[{'role': 'user', 'content': [{'type': 'video', 'video': 'file:///content/sample_data/IntermediateOutput_638734209002172790.mp4', 'max_pixels': 151200, 'fps': 1.0}, {'type': 'text', 'text': 'Is there small group of people walking together? Response with one word only yes or no.'}]}]\n"
          ]
        },
        {
          "output_type": "stream",
          "name": "stderr",
          "text": [
            "INFO:werkzeug:127.0.0.1 - - [25/Jan/2025 15:55:14] \"POST /req1 HTTP/1.1\" 200 -\n"
          ]
        },
        {
          "output_type": "stream",
          "name": "stdout",
          "text": [
            "['no']\n",
            "[{'role': 'user', 'content': [{'type': 'video', 'video': 'file:///content/sample_data/IntermediateOutput_638734209122257244.mp4', 'max_pixels': 151200, 'fps': 1.0}, {'type': 'text', 'text': 'Is there small group of people walking together? Response with one word only yes or no.'}]}]\n"
          ]
        },
        {
          "output_type": "stream",
          "name": "stderr",
          "text": [
            "INFO:werkzeug:127.0.0.1 - - [25/Jan/2025 15:55:26] \"POST /req1 HTTP/1.1\" 200 -\n"
          ]
        },
        {
          "output_type": "stream",
          "name": "stdout",
          "text": [
            "['no']\n",
            "[{'role': 'user', 'content': [{'type': 'video', 'video': 'file:///content/sample_data/IntermediateOutput_638734209242233811.mp4', 'max_pixels': 151200, 'fps': 1.0}, {'type': 'text', 'text': 'Is there small group of people walking together? Response with one word only yes or no.'}]}]\n"
          ]
        },
        {
          "output_type": "stream",
          "name": "stderr",
          "text": [
            "INFO:werkzeug:127.0.0.1 - - [25/Jan/2025 15:55:39] \"POST /req1 HTTP/1.1\" 200 -\n"
          ]
        },
        {
          "output_type": "stream",
          "name": "stdout",
          "text": [
            "['no']\n",
            "[{'role': 'user', 'content': [{'type': 'video', 'video': 'file:///content/sample_data/IntermediateOutput_638734209362204316.mp4', 'max_pixels': 151200, 'fps': 1.0}, {'type': 'text', 'text': 'Is there small group of people walking together? Response with one word only yes or no.'}]}]\n"
          ]
        },
        {
          "output_type": "stream",
          "name": "stderr",
          "text": [
            "INFO:werkzeug:127.0.0.1 - - [25/Jan/2025 15:55:51] \"POST /req1 HTTP/1.1\" 200 -\n"
          ]
        },
        {
          "output_type": "stream",
          "name": "stdout",
          "text": [
            "['no']\n",
            "[{'role': 'user', 'content': [{'type': 'video', 'video': 'file:///content/sample_data/IntermediateOutput_638734209481537255.mp4', 'max_pixels': 151200, 'fps': 1.0}, {'type': 'text', 'text': 'Is there small group of people walking together? Response with one word only yes or no.'}]}]\n"
          ]
        },
        {
          "output_type": "stream",
          "name": "stderr",
          "text": [
            "INFO:werkzeug:127.0.0.1 - - [25/Jan/2025 15:56:03] \"POST /req1 HTTP/1.1\" 200 -\n"
          ]
        },
        {
          "output_type": "stream",
          "name": "stdout",
          "text": [
            "['no']\n",
            "[{'role': 'user', 'content': [{'type': 'video', 'video': 'file:///content/sample_data/IntermediateOutput_638734209602313558.mp4', 'max_pixels': 151200, 'fps': 1.0}, {'type': 'text', 'text': 'Is there small group of people walking together? Response with one word only yes or no.'}]}]\n"
          ]
        },
        {
          "output_type": "stream",
          "name": "stderr",
          "text": [
            "INFO:werkzeug:127.0.0.1 - - [25/Jan/2025 15:56:15] \"POST /req1 HTTP/1.1\" 200 -\n"
          ]
        },
        {
          "output_type": "stream",
          "name": "stdout",
          "text": [
            "['no']\n",
            "[{'role': 'user', 'content': [{'type': 'video', 'video': 'file:///content/sample_data/IntermediateOutput_638734209722255151.mp4', 'max_pixels': 151200, 'fps': 1.0}, {'type': 'text', 'text': 'Is there small group of people walking together? Response with one word only yes or no.'}]}]\n"
          ]
        },
        {
          "output_type": "stream",
          "name": "stderr",
          "text": [
            "INFO:werkzeug:127.0.0.1 - - [25/Jan/2025 15:56:26] \"POST /req1 HTTP/1.1\" 200 -\n"
          ]
        },
        {
          "output_type": "stream",
          "name": "stdout",
          "text": [
            "['no']\n",
            "[{'role': 'user', 'content': [{'type': 'video', 'video': 'file:///content/sample_data/IntermediateOutput_638734209841603104.mp4', 'max_pixels': 151200, 'fps': 1.0}, {'type': 'text', 'text': 'Is there small group of people walking together? Response with one word only yes or no.'}]}]\n"
          ]
        },
        {
          "output_type": "stream",
          "name": "stderr",
          "text": [
            "INFO:werkzeug:127.0.0.1 - - [25/Jan/2025 15:56:38] \"POST /req1 HTTP/1.1\" 200 -\n"
          ]
        },
        {
          "output_type": "stream",
          "name": "stdout",
          "text": [
            "['no']\n",
            "[{'role': 'user', 'content': [{'type': 'video', 'video': 'file:///content/sample_data/IntermediateOutput_638734209962292828.mp4', 'max_pixels': 151200, 'fps': 1.0}, {'type': 'text', 'text': 'Is there small group of people walking together? Response with one word only yes or no.'}]}]\n"
          ]
        },
        {
          "output_type": "stream",
          "name": "stderr",
          "text": [
            "INFO:werkzeug:127.0.0.1 - - [25/Jan/2025 15:56:50] \"POST /req1 HTTP/1.1\" 200 -\n"
          ]
        },
        {
          "output_type": "stream",
          "name": "stdout",
          "text": [
            "['no']\n",
            "[{'role': 'user', 'content': [{'type': 'video', 'video': 'file:///content/sample_data/IntermediateOutput_638734210082548719.mp4', 'max_pixels': 151200, 'fps': 1.0}, {'type': 'text', 'text': 'Is there small group of people walking together? Response with one word only yes or no.'}]}]\n"
          ]
        },
        {
          "output_type": "stream",
          "name": "stderr",
          "text": [
            "INFO:werkzeug:127.0.0.1 - - [25/Jan/2025 15:57:03] \"POST /req1 HTTP/1.1\" 200 -\n"
          ]
        },
        {
          "output_type": "stream",
          "name": "stdout",
          "text": [
            "['no']\n"
          ]
        },
        {
          "output_type": "error",
          "ename": "RemoteDisconnected",
          "evalue": "Remote end closed connection without response",
          "traceback": [
            "\u001b[0;31m---------------------------------------------------------------------------\u001b[0m",
            "\u001b[0;31mRemoteDisconnected\u001b[0m                        Traceback (most recent call last)",
            "\u001b[0;32m<ipython-input-4-b3642e2440e3>\u001b[0m in \u001b[0;36m<cell line: 0>\u001b[0;34m()\u001b[0m\n\u001b[1;32m     62\u001b[0m     \u001b[0mapp\u001b[0m\u001b[0;34m.\u001b[0m\u001b[0mrun\u001b[0m\u001b[0;34m(\u001b[0m\u001b[0mport\u001b[0m\u001b[0;34m=\u001b[0m\u001b[0mport\u001b[0m\u001b[0;34m)\u001b[0m\u001b[0;34m\u001b[0m\u001b[0;34m\u001b[0m\u001b[0m\n\u001b[1;32m     63\u001b[0m   \u001b[0;32mfinally\u001b[0m\u001b[0;34m:\u001b[0m\u001b[0;34m\u001b[0m\u001b[0;34m\u001b[0m\u001b[0m\n\u001b[0;32m---> 64\u001b[0;31m     \u001b[0mngrok\u001b[0m\u001b[0;34m.\u001b[0m\u001b[0mdisconnect\u001b[0m\u001b[0;34m(\u001b[0m\u001b[0mpublic_url\u001b[0m\u001b[0;34m=\u001b[0m\u001b[0mpublic_url\u001b[0m\u001b[0;34m)\u001b[0m\u001b[0;34m\u001b[0m\u001b[0;34m\u001b[0m\u001b[0m\n\u001b[0m\u001b[1;32m     65\u001b[0m \u001b[0;34m\u001b[0m\u001b[0m\n",
            "\u001b[0;32m/usr/local/lib/python3.11/dist-packages/pyngrok/ngrok.py\u001b[0m in \u001b[0;36mdisconnect\u001b[0;34m(public_url, pyngrok_config)\u001b[0m\n\u001b[1;32m    402\u001b[0m     \u001b[0mlogger\u001b[0m\u001b[0;34m.\u001b[0m\u001b[0minfo\u001b[0m\u001b[0;34m(\u001b[0m\u001b[0;34mf\"Disconnecting tunnel: {tunnel.public_url}\"\u001b[0m\u001b[0;34m)\u001b[0m\u001b[0;34m\u001b[0m\u001b[0;34m\u001b[0m\u001b[0m\n\u001b[1;32m    403\u001b[0m \u001b[0;34m\u001b[0m\u001b[0m\n\u001b[0;32m--> 404\u001b[0;31m     api_request(f\"{api_url}{tunnel.uri}\", method=\"DELETE\",\n\u001b[0m\u001b[1;32m    405\u001b[0m                 timeout=pyngrok_config.request_timeout)\n\u001b[1;32m    406\u001b[0m \u001b[0;34m\u001b[0m\u001b[0m\n",
            "\u001b[0;32m/usr/local/lib/python3.11/dist-packages/pyngrok/ngrok.py\u001b[0m in \u001b[0;36mapi_request\u001b[0;34m(url, method, data, params, timeout, auth)\u001b[0m\n\u001b[1;32m    555\u001b[0m \u001b[0;34m\u001b[0m\u001b[0m\n\u001b[1;32m    556\u001b[0m     \u001b[0;32mtry\u001b[0m\u001b[0;34m:\u001b[0m\u001b[0;34m\u001b[0m\u001b[0;34m\u001b[0m\u001b[0m\n\u001b[0;32m--> 557\u001b[0;31m         \u001b[0mresponse\u001b[0m \u001b[0;34m=\u001b[0m \u001b[0murlopen\u001b[0m\u001b[0;34m(\u001b[0m\u001b[0mrequest\u001b[0m\u001b[0;34m,\u001b[0m \u001b[0mencoded_data\u001b[0m\u001b[0;34m,\u001b[0m \u001b[0mtimeout\u001b[0m\u001b[0;34m)\u001b[0m\u001b[0;34m\u001b[0m\u001b[0;34m\u001b[0m\u001b[0m\n\u001b[0m\u001b[1;32m    558\u001b[0m         \u001b[0mresponse_data\u001b[0m \u001b[0;34m=\u001b[0m \u001b[0mresponse\u001b[0m\u001b[0;34m.\u001b[0m\u001b[0mread\u001b[0m\u001b[0;34m(\u001b[0m\u001b[0;34m)\u001b[0m\u001b[0;34m.\u001b[0m\u001b[0mdecode\u001b[0m\u001b[0;34m(\u001b[0m\u001b[0;34m\"utf-8\"\u001b[0m\u001b[0;34m)\u001b[0m\u001b[0;34m\u001b[0m\u001b[0;34m\u001b[0m\u001b[0m\n\u001b[1;32m    559\u001b[0m \u001b[0;34m\u001b[0m\u001b[0m\n",
            "\u001b[0;32m/usr/lib/python3.11/urllib/request.py\u001b[0m in \u001b[0;36murlopen\u001b[0;34m(url, data, timeout, cafile, capath, cadefault, context)\u001b[0m\n\u001b[1;32m    214\u001b[0m     \u001b[0;32melse\u001b[0m\u001b[0;34m:\u001b[0m\u001b[0;34m\u001b[0m\u001b[0;34m\u001b[0m\u001b[0m\n\u001b[1;32m    215\u001b[0m         \u001b[0mopener\u001b[0m \u001b[0;34m=\u001b[0m \u001b[0m_opener\u001b[0m\u001b[0;34m\u001b[0m\u001b[0;34m\u001b[0m\u001b[0m\n\u001b[0;32m--> 216\u001b[0;31m     \u001b[0;32mreturn\u001b[0m \u001b[0mopener\u001b[0m\u001b[0;34m.\u001b[0m\u001b[0mopen\u001b[0m\u001b[0;34m(\u001b[0m\u001b[0murl\u001b[0m\u001b[0;34m,\u001b[0m \u001b[0mdata\u001b[0m\u001b[0;34m,\u001b[0m \u001b[0mtimeout\u001b[0m\u001b[0;34m)\u001b[0m\u001b[0;34m\u001b[0m\u001b[0;34m\u001b[0m\u001b[0m\n\u001b[0m\u001b[1;32m    217\u001b[0m \u001b[0;34m\u001b[0m\u001b[0m\n\u001b[1;32m    218\u001b[0m \u001b[0;32mdef\u001b[0m \u001b[0minstall_opener\u001b[0m\u001b[0;34m(\u001b[0m\u001b[0mopener\u001b[0m\u001b[0;34m)\u001b[0m\u001b[0;34m:\u001b[0m\u001b[0;34m\u001b[0m\u001b[0;34m\u001b[0m\u001b[0m\n",
            "\u001b[0;32m/usr/lib/python3.11/urllib/request.py\u001b[0m in \u001b[0;36mopen\u001b[0;34m(self, fullurl, data, timeout)\u001b[0m\n\u001b[1;32m    517\u001b[0m \u001b[0;34m\u001b[0m\u001b[0m\n\u001b[1;32m    518\u001b[0m         \u001b[0msys\u001b[0m\u001b[0;34m.\u001b[0m\u001b[0maudit\u001b[0m\u001b[0;34m(\u001b[0m\u001b[0;34m'urllib.Request'\u001b[0m\u001b[0;34m,\u001b[0m \u001b[0mreq\u001b[0m\u001b[0;34m.\u001b[0m\u001b[0mfull_url\u001b[0m\u001b[0;34m,\u001b[0m \u001b[0mreq\u001b[0m\u001b[0;34m.\u001b[0m\u001b[0mdata\u001b[0m\u001b[0;34m,\u001b[0m \u001b[0mreq\u001b[0m\u001b[0;34m.\u001b[0m\u001b[0mheaders\u001b[0m\u001b[0;34m,\u001b[0m \u001b[0mreq\u001b[0m\u001b[0;34m.\u001b[0m\u001b[0mget_method\u001b[0m\u001b[0;34m(\u001b[0m\u001b[0;34m)\u001b[0m\u001b[0;34m)\u001b[0m\u001b[0;34m\u001b[0m\u001b[0;34m\u001b[0m\u001b[0m\n\u001b[0;32m--> 519\u001b[0;31m         \u001b[0mresponse\u001b[0m \u001b[0;34m=\u001b[0m \u001b[0mself\u001b[0m\u001b[0;34m.\u001b[0m\u001b[0m_open\u001b[0m\u001b[0;34m(\u001b[0m\u001b[0mreq\u001b[0m\u001b[0;34m,\u001b[0m \u001b[0mdata\u001b[0m\u001b[0;34m)\u001b[0m\u001b[0;34m\u001b[0m\u001b[0;34m\u001b[0m\u001b[0m\n\u001b[0m\u001b[1;32m    520\u001b[0m \u001b[0;34m\u001b[0m\u001b[0m\n\u001b[1;32m    521\u001b[0m         \u001b[0;31m# post-process response\u001b[0m\u001b[0;34m\u001b[0m\u001b[0;34m\u001b[0m\u001b[0m\n",
            "\u001b[0;32m/usr/lib/python3.11/urllib/request.py\u001b[0m in \u001b[0;36m_open\u001b[0;34m(self, req, data)\u001b[0m\n\u001b[1;32m    534\u001b[0m \u001b[0;34m\u001b[0m\u001b[0m\n\u001b[1;32m    535\u001b[0m         \u001b[0mprotocol\u001b[0m \u001b[0;34m=\u001b[0m \u001b[0mreq\u001b[0m\u001b[0;34m.\u001b[0m\u001b[0mtype\u001b[0m\u001b[0;34m\u001b[0m\u001b[0;34m\u001b[0m\u001b[0m\n\u001b[0;32m--> 536\u001b[0;31m         result = self._call_chain(self.handle_open, protocol, protocol +\n\u001b[0m\u001b[1;32m    537\u001b[0m                                   '_open', req)\n\u001b[1;32m    538\u001b[0m         \u001b[0;32mif\u001b[0m \u001b[0mresult\u001b[0m\u001b[0;34m:\u001b[0m\u001b[0;34m\u001b[0m\u001b[0;34m\u001b[0m\u001b[0m\n",
            "\u001b[0;32m/usr/lib/python3.11/urllib/request.py\u001b[0m in \u001b[0;36m_call_chain\u001b[0;34m(self, chain, kind, meth_name, *args)\u001b[0m\n\u001b[1;32m    494\u001b[0m         \u001b[0;32mfor\u001b[0m \u001b[0mhandler\u001b[0m \u001b[0;32min\u001b[0m \u001b[0mhandlers\u001b[0m\u001b[0;34m:\u001b[0m\u001b[0;34m\u001b[0m\u001b[0;34m\u001b[0m\u001b[0m\n\u001b[1;32m    495\u001b[0m             \u001b[0mfunc\u001b[0m \u001b[0;34m=\u001b[0m \u001b[0mgetattr\u001b[0m\u001b[0;34m(\u001b[0m\u001b[0mhandler\u001b[0m\u001b[0;34m,\u001b[0m \u001b[0mmeth_name\u001b[0m\u001b[0;34m)\u001b[0m\u001b[0;34m\u001b[0m\u001b[0;34m\u001b[0m\u001b[0m\n\u001b[0;32m--> 496\u001b[0;31m             \u001b[0mresult\u001b[0m \u001b[0;34m=\u001b[0m \u001b[0mfunc\u001b[0m\u001b[0;34m(\u001b[0m\u001b[0;34m*\u001b[0m\u001b[0margs\u001b[0m\u001b[0;34m)\u001b[0m\u001b[0;34m\u001b[0m\u001b[0;34m\u001b[0m\u001b[0m\n\u001b[0m\u001b[1;32m    497\u001b[0m             \u001b[0;32mif\u001b[0m \u001b[0mresult\u001b[0m \u001b[0;32mis\u001b[0m \u001b[0;32mnot\u001b[0m \u001b[0;32mNone\u001b[0m\u001b[0;34m:\u001b[0m\u001b[0;34m\u001b[0m\u001b[0;34m\u001b[0m\u001b[0m\n\u001b[1;32m    498\u001b[0m                 \u001b[0;32mreturn\u001b[0m \u001b[0mresult\u001b[0m\u001b[0;34m\u001b[0m\u001b[0;34m\u001b[0m\u001b[0m\n",
            "\u001b[0;32m/usr/lib/python3.11/urllib/request.py\u001b[0m in \u001b[0;36mhttp_open\u001b[0;34m(self, req)\u001b[0m\n\u001b[1;32m   1375\u001b[0m \u001b[0;34m\u001b[0m\u001b[0m\n\u001b[1;32m   1376\u001b[0m     \u001b[0;32mdef\u001b[0m \u001b[0mhttp_open\u001b[0m\u001b[0;34m(\u001b[0m\u001b[0mself\u001b[0m\u001b[0;34m,\u001b[0m \u001b[0mreq\u001b[0m\u001b[0;34m)\u001b[0m\u001b[0;34m:\u001b[0m\u001b[0;34m\u001b[0m\u001b[0;34m\u001b[0m\u001b[0m\n\u001b[0;32m-> 1377\u001b[0;31m         \u001b[0;32mreturn\u001b[0m \u001b[0mself\u001b[0m\u001b[0;34m.\u001b[0m\u001b[0mdo_open\u001b[0m\u001b[0;34m(\u001b[0m\u001b[0mhttp\u001b[0m\u001b[0;34m.\u001b[0m\u001b[0mclient\u001b[0m\u001b[0;34m.\u001b[0m\u001b[0mHTTPConnection\u001b[0m\u001b[0;34m,\u001b[0m \u001b[0mreq\u001b[0m\u001b[0;34m)\u001b[0m\u001b[0;34m\u001b[0m\u001b[0;34m\u001b[0m\u001b[0m\n\u001b[0m\u001b[1;32m   1378\u001b[0m \u001b[0;34m\u001b[0m\u001b[0m\n\u001b[1;32m   1379\u001b[0m     \u001b[0mhttp_request\u001b[0m \u001b[0;34m=\u001b[0m \u001b[0mAbstractHTTPHandler\u001b[0m\u001b[0;34m.\u001b[0m\u001b[0mdo_request_\u001b[0m\u001b[0;34m\u001b[0m\u001b[0;34m\u001b[0m\u001b[0m\n",
            "\u001b[0;32m/usr/lib/python3.11/urllib/request.py\u001b[0m in \u001b[0;36mdo_open\u001b[0;34m(self, http_class, req, **http_conn_args)\u001b[0m\n\u001b[1;32m   1350\u001b[0m             \u001b[0;32mexcept\u001b[0m \u001b[0mOSError\u001b[0m \u001b[0;32mas\u001b[0m \u001b[0merr\u001b[0m\u001b[0;34m:\u001b[0m \u001b[0;31m# timeout error\u001b[0m\u001b[0;34m\u001b[0m\u001b[0;34m\u001b[0m\u001b[0m\n\u001b[1;32m   1351\u001b[0m                 \u001b[0;32mraise\u001b[0m \u001b[0mURLError\u001b[0m\u001b[0;34m(\u001b[0m\u001b[0merr\u001b[0m\u001b[0;34m)\u001b[0m\u001b[0;34m\u001b[0m\u001b[0;34m\u001b[0m\u001b[0m\n\u001b[0;32m-> 1352\u001b[0;31m             \u001b[0mr\u001b[0m \u001b[0;34m=\u001b[0m \u001b[0mh\u001b[0m\u001b[0;34m.\u001b[0m\u001b[0mgetresponse\u001b[0m\u001b[0;34m(\u001b[0m\u001b[0;34m)\u001b[0m\u001b[0;34m\u001b[0m\u001b[0;34m\u001b[0m\u001b[0m\n\u001b[0m\u001b[1;32m   1353\u001b[0m         \u001b[0;32mexcept\u001b[0m\u001b[0;34m:\u001b[0m\u001b[0;34m\u001b[0m\u001b[0;34m\u001b[0m\u001b[0m\n\u001b[1;32m   1354\u001b[0m             \u001b[0mh\u001b[0m\u001b[0;34m.\u001b[0m\u001b[0mclose\u001b[0m\u001b[0;34m(\u001b[0m\u001b[0;34m)\u001b[0m\u001b[0;34m\u001b[0m\u001b[0;34m\u001b[0m\u001b[0m\n",
            "\u001b[0;32m/usr/lib/python3.11/http/client.py\u001b[0m in \u001b[0;36mgetresponse\u001b[0;34m(self)\u001b[0m\n\u001b[1;32m   1393\u001b[0m         \u001b[0;32mtry\u001b[0m\u001b[0;34m:\u001b[0m\u001b[0;34m\u001b[0m\u001b[0;34m\u001b[0m\u001b[0m\n\u001b[1;32m   1394\u001b[0m             \u001b[0;32mtry\u001b[0m\u001b[0;34m:\u001b[0m\u001b[0;34m\u001b[0m\u001b[0;34m\u001b[0m\u001b[0m\n\u001b[0;32m-> 1395\u001b[0;31m                 \u001b[0mresponse\u001b[0m\u001b[0;34m.\u001b[0m\u001b[0mbegin\u001b[0m\u001b[0;34m(\u001b[0m\u001b[0;34m)\u001b[0m\u001b[0;34m\u001b[0m\u001b[0;34m\u001b[0m\u001b[0m\n\u001b[0m\u001b[1;32m   1396\u001b[0m             \u001b[0;32mexcept\u001b[0m \u001b[0mConnectionError\u001b[0m\u001b[0;34m:\u001b[0m\u001b[0;34m\u001b[0m\u001b[0;34m\u001b[0m\u001b[0m\n\u001b[1;32m   1397\u001b[0m                 \u001b[0mself\u001b[0m\u001b[0;34m.\u001b[0m\u001b[0mclose\u001b[0m\u001b[0;34m(\u001b[0m\u001b[0;34m)\u001b[0m\u001b[0;34m\u001b[0m\u001b[0;34m\u001b[0m\u001b[0m\n",
            "\u001b[0;32m/usr/lib/python3.11/http/client.py\u001b[0m in \u001b[0;36mbegin\u001b[0;34m(self)\u001b[0m\n\u001b[1;32m    323\u001b[0m         \u001b[0;31m# read until we get a non-100 response\u001b[0m\u001b[0;34m\u001b[0m\u001b[0;34m\u001b[0m\u001b[0m\n\u001b[1;32m    324\u001b[0m         \u001b[0;32mwhile\u001b[0m \u001b[0;32mTrue\u001b[0m\u001b[0;34m:\u001b[0m\u001b[0;34m\u001b[0m\u001b[0;34m\u001b[0m\u001b[0m\n\u001b[0;32m--> 325\u001b[0;31m             \u001b[0mversion\u001b[0m\u001b[0;34m,\u001b[0m \u001b[0mstatus\u001b[0m\u001b[0;34m,\u001b[0m \u001b[0mreason\u001b[0m \u001b[0;34m=\u001b[0m \u001b[0mself\u001b[0m\u001b[0;34m.\u001b[0m\u001b[0m_read_status\u001b[0m\u001b[0;34m(\u001b[0m\u001b[0;34m)\u001b[0m\u001b[0;34m\u001b[0m\u001b[0;34m\u001b[0m\u001b[0m\n\u001b[0m\u001b[1;32m    326\u001b[0m             \u001b[0;32mif\u001b[0m \u001b[0mstatus\u001b[0m \u001b[0;34m!=\u001b[0m \u001b[0mCONTINUE\u001b[0m\u001b[0;34m:\u001b[0m\u001b[0;34m\u001b[0m\u001b[0;34m\u001b[0m\u001b[0m\n\u001b[1;32m    327\u001b[0m                 \u001b[0;32mbreak\u001b[0m\u001b[0;34m\u001b[0m\u001b[0;34m\u001b[0m\u001b[0m\n",
            "\u001b[0;32m/usr/lib/python3.11/http/client.py\u001b[0m in \u001b[0;36m_read_status\u001b[0;34m(self)\u001b[0m\n\u001b[1;32m    292\u001b[0m             \u001b[0;31m# Presumably, the server closed the connection before\u001b[0m\u001b[0;34m\u001b[0m\u001b[0;34m\u001b[0m\u001b[0m\n\u001b[1;32m    293\u001b[0m             \u001b[0;31m# sending a valid response.\u001b[0m\u001b[0;34m\u001b[0m\u001b[0;34m\u001b[0m\u001b[0m\n\u001b[0;32m--> 294\u001b[0;31m             raise RemoteDisconnected(\"Remote end closed connection without\"\n\u001b[0m\u001b[1;32m    295\u001b[0m                                      \" response\")\n\u001b[1;32m    296\u001b[0m         \u001b[0;32mtry\u001b[0m\u001b[0;34m:\u001b[0m\u001b[0;34m\u001b[0m\u001b[0;34m\u001b[0m\u001b[0m\n",
            "\u001b[0;31mRemoteDisconnected\u001b[0m: Remote end closed connection without response"
          ]
        }
      ]
    }
  ]
}
