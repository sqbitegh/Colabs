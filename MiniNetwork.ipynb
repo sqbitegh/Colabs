{
  "nbformat": 4,
  "nbformat_minor": 0,
  "metadata": {
    "colab": {
      "provenance": [],
      "gpuType": "T4",
      "authorship_tag": "ABX9TyNsUAYd6/DzZpDAL7UzamBr",
      "include_colab_link": true
    },
    "kernelspec": {
      "name": "python3",
      "display_name": "Python 3"
    },
    "language_info": {
      "name": "python"
    },
    "accelerator": "GPU"
  },
  "cells": [
    {
      "cell_type": "markdown",
      "metadata": {
        "id": "view-in-github",
        "colab_type": "text"
      },
      "source": [
        "<a href=\"https://colab.research.google.com/github/sqbitegh/Colabs/blob/main/MiniNetwork.ipynb\" target=\"_parent\"><img src=\"https://colab.research.google.com/assets/colab-badge.svg\" alt=\"Open In Colab\"/></a>"
      ]
    },
    {
      "cell_type": "code",
      "source": [
        "!pip install 'portalocker>=2.0.0'\n",
        "!pip install torchtext==0.15.1 --no-cache-dir\n",
        "!pip install numpy==1.24.1"
      ],
      "metadata": {
        "id": "RXD5nWL2yAnC"
      },
      "execution_count": null,
      "outputs": []
    },
    {
      "cell_type": "code",
      "source": [
        "#!pip install --upgrade torch torchvision torchaudio --index-url https://download.pytorch.org/whl/cu118\n",
        "#!pip install --upgrade torchtext"
      ],
      "metadata": {
        "id": "aqkshcLZxkwT"
      },
      "execution_count": null,
      "outputs": []
    },
    {
      "cell_type": "code",
      "source": [
        "import torch\n",
        "import torch.nn as nn\n",
        "import torch.optim as optim\n",
        "from torchtext.datasets import IMDB\n",
        "from torchtext.data.utils import get_tokenizer\n",
        "from torchtext.vocab import build_vocab_from_iterator\n",
        "from torch.utils.data import DataLoader, Dataset\n",
        "import torch.nn.functional as F\n",
        "\n",
        "import portalocker\n",
        "import numpy\n",
        "import random"
      ],
      "metadata": {
        "id": "8JebT1cowfZj"
      },
      "execution_count": 6,
      "outputs": []
    },
    {
      "cell_type": "code",
      "source": [
        "import torch\n",
        "import torchtext\n",
        "print(torch.__version__)\n",
        "print(torchtext.__version__)\n",
        "print(portalocker.__version__)\n",
        "print(numpy.__version__)\n",
        "\n",
        "\"\"\"\n",
        "expected\n",
        "2.0.0+cu117\n",
        "0.15.1+cpu\n",
        "3.1.1\n",
        "1.24.1\n",
        "\"\"\"\n"
      ],
      "metadata": {
        "colab": {
          "base_uri": "https://localhost:8080/",
          "height": 105
        },
        "id": "5hDOK1VRzE3E",
        "outputId": "3b6eaee0-6acf-4c29-c679-bf91d220d48d"
      },
      "execution_count": 7,
      "outputs": [
        {
          "output_type": "stream",
          "name": "stdout",
          "text": [
            "2.0.0+cu117\n",
            "0.15.1+cpu\n",
            "3.1.1\n",
            "1.24.1\n"
          ]
        },
        {
          "output_type": "execute_result",
          "data": {
            "text/plain": [
              "'\\nexpected\\n2.0.0+cu117\\n0.15.1+cpu\\n3.1.1\\n1.24.1\\n'"
            ],
            "application/vnd.google.colaboratory.intrinsic+json": {
              "type": "string"
            }
          },
          "metadata": {},
          "execution_count": 7
        }
      ]
    },
    {
      "cell_type": "code",
      "source": [
        "\n",
        "# Device configuration\n",
        "device = torch.device(\"cuda\" if torch.cuda.is_available() else \"cpu\")\n",
        "\n",
        "# Tokenizer and Vocabulary\n",
        "tokenizer = get_tokenizer('basic_english')\n",
        "train_iter, test_iter = IMDB()\n",
        "\n",
        "def yield_tokens(data_iter):\n",
        "    for _, text in data_iter:\n",
        "        yield tokenizer(text)\n",
        "\n",
        "vocab = build_vocab_from_iterator(yield_tokens(train_iter), specials=[\"<unk>\"])\n",
        "vocab.set_default_index(vocab[\"<unk>\"])\n",
        "\n",
        "# Dataset and DataLoader\n",
        "def collate_batch(batch):\n",
        "    label_list, text_list = [], []\n",
        "    for (_label, _text) in batch:\n",
        "        #print(f\"rawlabel {_label} {_text}\")\n",
        "        label_list.append(_label - 1)\n",
        "        processed_text = torch.tensor(vocab(tokenizer(_text)), dtype=torch.int64)\n",
        "        text_list.append(processed_text)\n",
        "    return torch.tensor(label_list, dtype=torch.int64), nn.utils.rnn.pad_sequence(text_list, batch_first=True, padding_value=vocab[\"<pad>\"])\n",
        "\n",
        "batch_size = 32\n",
        "\n",
        "train_iter, test_iter = IMDB()\n",
        "train_data = list(train_iter)\n",
        "random.shuffle(train_data)\n",
        "\n",
        "train_size = int(0.8 * len(train_data))\n",
        "train_data, test_data = train_data[:train_size], train_data[train_size:] # Splitting training data into train and validation\n",
        "train_dataloader = DataLoader(train_data, batch_size=batch_size, collate_fn=collate_batch, shuffle=True) # Shuffle training data\n",
        "test_dataloader = DataLoader(test_data, batch_size=batch_size, collate_fn=collate_batch, shuffle=True)\n",
        "\n",
        "\"\"\"\n",
        "print(\"test_data print:\")\n",
        "for dp in test_data:\n",
        "  print(dp)\n",
        "print(\"test_data print end.\")\n",
        "\"\"\"\n",
        "# Single-Head Transformer Model\n",
        "class SingleHeadTransformer(nn.Module):\n",
        "    def __init__(self, vocab_size, embed_size, num_class):\n",
        "        super(SingleHeadTransformer, self).__init__()\n",
        "        self.embedding = nn.Embedding(vocab_size, embed_size)\n",
        "        self.pos_encoder = nn.Parameter(torch.zeros(1, embed_size))\n",
        "        self.attention = nn.MultiheadAttention(embed_size, num_heads=1)\n",
        "        self.fc = nn.Linear(embed_size, num_class)\n",
        "\n",
        "    def forward(self, x):\n",
        "        x = self.embedding(x) + self.pos_encoder\n",
        "        x = x.transpose(0, 1)  # Transform to (seq_len, batch_size, embed_size) for attention\n",
        "        x, _ = self.attention(x, x, x)\n",
        "        x = x.mean(dim=0)  # Aggregate over sequence length\n",
        "        return self.fc(x)\n",
        "\n",
        "# Instantiate model, loss, optimizer\n",
        "vocab_size = len(vocab)\n",
        "embed_size = 64\n",
        "num_class = 2\n",
        "model = SingleHeadTransformer(vocab_size, embed_size, num_class).to(device)\n",
        "\n",
        "criterion = nn.CrossEntropyLoss()\n",
        "optimizer = optim.Adam(model.parameters(), lr=0.001)\n",
        "\n",
        "# Training Function\n",
        "def train(dataloader, model, criterion, optimizer):\n",
        "    model.train()\n",
        "    for labels, texts in dataloader:\n",
        "        labels, texts = labels.to(device), texts.to(device)\n",
        "        outputs = model(texts)\n",
        "        loss = criterion(outputs, labels)\n",
        "        optimizer.zero_grad()\n",
        "        loss.backward()\n",
        "        optimizer.step()\n",
        "\n",
        "# Evaluation Function with Activation Logging\n",
        "def evaluate_and_log_activations(dataloader, model):\n",
        "    model.eval()\n",
        "    activations = []\n",
        "\n",
        "    def forward_hook(module, input, output):\n",
        "        activations.append(output.cpu().detach().numpy())\n",
        "        #activations.append(output.numpy())\n",
        "\n",
        "    handle = model.fc.register_forward_hook(forward_hook)\n",
        "\n",
        "    corrects, total_loss = 0, 0\n",
        "    with torch.no_grad():\n",
        "        for labels, texts in dataloader:\n",
        "            #print(f\"labels: {labels}\")\n",
        "            labels, texts = labels.to(device), texts.to(device)\n",
        "            outputs = model(texts)\n",
        "            #print(f\"outputs: {outputs}\")\n",
        "            #print(f\"labels: {labels}\")\n",
        "\n",
        "            total_loss += criterion(outputs, labels).item()\n",
        "            corrects += (outputs.argmax(1) == labels).sum().item()\n",
        "\n",
        "            # Log each activation for each data point\n",
        "            # Note: This stores the last batch activations\n",
        "            #print(activations[-1])\n",
        "            #print(f\"Activation shape: {len(activations[-1])}\")\n",
        "            # Dump activations to file\n",
        "            with open(f'activations_epoch_{epoch + 1}.txt', 'w') as f:\n",
        "              for activation in activations[-1]:\n",
        "                f.write(str(activation) + '\\n')\n",
        "              f.write(\"end\")\n",
        "\n",
        "    print(len(dataloader.dataset))\n",
        "    accuracy = corrects / len(dataloader.dataset)\n",
        "    handle.remove()\n",
        "    print(f\"Dataset size: {len(dataloader.dataset)}, Dataloader length: {len(dataloader)}, Accuracy: {accuracy:.4f}, Corrects: {corrects}, total_loss {total_loss}\") # Modified: Print formatting\n",
        "\n",
        "    return total_loss / len(dataloader), accuracy\n",
        "\n",
        "# Training Loop\n",
        "num_epochs = 15\n",
        "epoch = 0\n",
        "\n",
        "val_loss, val_accuracy = evaluate_and_log_activations(train_dataloader, model)\n",
        "print(f'Epoch {0}, train Val Loss: {val_loss:.4f}, Val Accuracy: {val_accuracy:.4f}')\n",
        "val_loss, val_accuracy = evaluate_and_log_activations(test_dataloader, model)\n",
        "print(f'Epoch {0}, test Val Loss: {val_loss:.4f}, Val Accuracy: {val_accuracy:.4f}')\n",
        "print(f\"train_dataloader size: {len(train_dataloader.dataset)}\")\n",
        "print(f\"test_dataloader size: {len(test_dataloader.dataset)}\")\n",
        "\n",
        "\n",
        "for epoch in range(num_epochs):\n",
        "    train(train_dataloader, model, criterion, optimizer)\n",
        "    val_loss, val_accuracy = evaluate_and_log_activations(train_dataloader, model)\n",
        "    print(f'train Epoch {epoch+1}, Val Loss: {val_loss:.4f}, Val Accuracy: {val_accuracy:.4f}')\n",
        "    val_loss, val_accuracy = evaluate_and_log_activations(test_dataloader, model)\n",
        "    print(f'test Epoch {epoch+1}, Val Loss: {val_loss:.4f}, Val Accuracy: {val_accuracy:.4f}')\n",
        "\n",
        "print(\"Training complete.\")"
      ],
      "metadata": {
        "id": "8fOsi0d1wYfc"
      },
      "execution_count": null,
      "outputs": []
    }
  ]
}