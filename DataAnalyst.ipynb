{
  "nbformat": 4,
  "nbformat_minor": 0,
  "metadata": {
    "colab": {
      "provenance": [],
      "authorship_tag": "ABX9TyO6TLaKC8Q4H8Gwp4DZYzLS",
      "include_colab_link": true
    },
    "kernelspec": {
      "name": "python3",
      "display_name": "Python 3"
    },
    "language_info": {
      "name": "python"
    }
  },
  "cells": [
    {
      "cell_type": "markdown",
      "metadata": {
        "id": "view-in-github",
        "colab_type": "text"
      },
      "source": [
        "<a href=\"https://colab.research.google.com/github/sqbitegh/Colabs/blob/main/DataAnalyst.ipynb\" target=\"_parent\"><img src=\"https://colab.research.google.com/assets/colab-badge.svg\" alt=\"Open In Colab\"/></a>"
      ]
    },
    {
      "cell_type": "code",
      "execution_count": 1,
      "metadata": {
        "colab": {
          "base_uri": "https://localhost:8080/"
        },
        "id": "NXyWAHu2aFAD",
        "outputId": "fdb6b5e3-0a5e-40b9-9a5b-1ff231461049"
      },
      "outputs": [
        {
          "output_type": "stream",
          "name": "stdout",
          "text": [
            "Collecting toolz==0.12.0\n",
            "  Downloading toolz-0.12.0-py3-none-any.whl.metadata (5.1 kB)\n",
            "Downloading toolz-0.12.0-py3-none-any.whl (55 kB)\n",
            "\u001b[?25l   \u001b[90m━━━━━━━━━━━━━━━━━━━━━━━━━━━━━━━━━━━━━━━━\u001b[0m \u001b[32m0.0/55.8 kB\u001b[0m \u001b[31m?\u001b[0m eta \u001b[36m-:--:--\u001b[0m\r\u001b[2K   \u001b[90m━━━━━━━━━━━━━━━━━━━━━━━━━━━━━━━━━━━━━━━━\u001b[0m \u001b[32m55.8/55.8 kB\u001b[0m \u001b[31m2.0 MB/s\u001b[0m eta \u001b[36m0:00:00\u001b[0m\n",
            "\u001b[?25hInstalling collected packages: toolz\n",
            "  Attempting uninstall: toolz\n",
            "    Found existing installation: toolz 0.12.1\n",
            "    Uninstalling toolz-0.12.1:\n",
            "      Successfully uninstalled toolz-0.12.1\n",
            "Successfully installed toolz-0.12.0\n"
          ]
        }
      ],
      "source": [
        "!pip install toolz==0.12.0\n",
        "#!pip install matplotlib==3.7.1"
      ]
    },
    {
      "cell_type": "code",
      "source": [
        "from typing import List, Callable, Tuple\n",
        "from toolz import pipe, map, filter, partial, reduce, concat, take, drop\n",
        "import numpy as np\n",
        "import matplotlib.pyplot as plt"
      ],
      "metadata": {
        "id": "RoXWcvbAca2N"
      },
      "execution_count": 2,
      "outputs": []
    },
    {
      "cell_type": "code",
      "source": [
        "\n",
        "\n",
        "def read_vectors(filepath: str) -> List[List[float]]:\n",
        "  \"\"\"Reads a file containing newline-separated vectors and returns a list of vectors.\"\"\"\n",
        "  with open(filepath, 'r') as file:\n",
        "     return [[float(num) for num in line.split()] for line in file if line.strip()]\n",
        "\n",
        "def map_vectors(func: Callable[[List[float]], List[float]], vectors: List[List[float]]) -> List[List[float]]:\n",
        "  \"\"\"Applies a function to each vector in the list.\"\"\"\n",
        "  return list(map(func, vectors))\n",
        "\n",
        "def filter_vectors(predicate: Callable[[List[float]], bool], vectors: List[List[float]]) -> List[List[float]]:\n",
        "  \"\"\"Filters the list of vectors based on a predicate.\"\"\"\n",
        "  return list(filter(predicate, vectors))\n",
        "\n",
        "def sort_vectors_by_column(vectors: List[List[float]], column_index: int, reverse: bool = False) -> List[List[float]]:\n",
        "  \"\"\"Sorts the list of vectors by a specific column.\"\"\"\n",
        "  return sorted(vectors, key=lambda vector: vector[column_index], reverse=reverse)\n",
        "\n",
        "def zip_vectors(vectors1: List[List[float]], vectors2: List[List[float]]) -> List[Tuple[List[float], List[float]]]:\n",
        "  \"\"\"Zips two lists of vectors together.\"\"\"\n",
        "  return list(zip(vectors1, vectors2))\n",
        "\n",
        "def concat_vectors(vectors1: List[List[float]], vectors2: List[List[float]]) -> List[List[float]]:\n",
        "  \"\"\"Concatenates two lists of vectors.\"\"\"\n",
        "  return list(concat([vectors1, vectors2]))\n",
        "\n",
        "def cut_vectors(vectors: List[List[float]], start_index: int, end_index: int) -> List[List[float]]:\n",
        "  \"\"\"Cuts a list of vectors by index ranges.\"\"\"\n",
        "  return list(take(end_index, drop(start_index, vectors)))\n",
        "\n",
        "def read_bool_vector(filepath: str) -> List[float]:\n",
        "  \"\"\"Reads a file containing newline-separated boolean strings (True/False)\n",
        "  and converts them to a list of floats (1.0/0.0).\"\"\"\n",
        "  with open(filepath, 'r') as file:\n",
        "    return [1.0 if line.strip() == 'True' else 0.0 for line in file]\n",
        "\n",
        "def add_dimension(vectors: List[List[float]], new_dimension: List[float]) -> List[List[float]]:\n",
        "    \"\"\"Adds a new dimension as the first element to each vector.\"\"\"\n",
        "    return [[new_val] + vec for new_val, vec in zip(new_dimension, vectors)]\n",
        "\n",
        "def squeeze_columns(vectors: List[List[float]], c1: int, c2: int) -> List[List[float]]:\n",
        "    \"\"\"Squeezes columns from c1 to c2 (inclusive) into a single column by addition.\n",
        "    Handles c1=0 correctly.\n",
        "    \"\"\"\n",
        "    return list(map(lambda vector: ([sum(vector[c1:c2])] + vector[c2:]) if c1 == 0\n",
        "                                  else (vector[:c1-1] + [sum(vector[c1-1:c2])] + vector[c2:]),\n",
        "                   vectors))\n",
        "\n",
        "def print_vector_info(vectors: List[List[float]]) -> None:\n",
        "  \"\"\"Prints the size and dimensions of the list of vectors.\"\"\"\n",
        "  num_vectors = len(vectors)\n",
        "  if num_vectors > 0:\n",
        "    vector_dim = len(vectors[0])\n",
        "  else:\n",
        "    vector_dim = 0  # Handle empty list case\n",
        "\n",
        "  print(f\"Number of vectors: {num_vectors}\")\n",
        "  print(f\"Dimension of vectors: {vector_dim}\")\n",
        "\n",
        "  # Using NumPy for a more concise output\n",
        "  if num_vectors > 0:\n",
        "    print(f\"Shape of vectors (NumPy): {np.array(vectors).shape}\")\n",
        "\n",
        "\n",
        "\n",
        "def visualize_output(output):\n",
        "    \"\"\"Visualizes the output matrix using matplotlib.\"\"\"\n",
        "    # Define numerical values for colors\n",
        "    color_map = {\n",
        "        1: 1,  # Blue\n",
        "        2: 2,  # Yellow\n",
        "        3: 3   # Red\n",
        "    }\n",
        "\n",
        "    # Convert output to a NumPy array with numerical values\n",
        "    numerical_output = np.array([[color_map[val] for val in row] for row in output])\n",
        "\n",
        "    # Create a custom colormap\n",
        "    from matplotlib.colors import ListedColormap\n",
        "    cmap = ListedColormap(['blue', 'yellow', 'red']) # Colors for values 1, 2, 3\n",
        "\n",
        "    # Display the numerical output using imshow with the custom colormap\n",
        "    plt.imshow(numerical_output, aspect='auto', interpolation='nearest', cmap=cmap)\n",
        "    plt.colorbar() # Add a colorbar to show the mapping\n",
        "    plt.show()\n"
      ],
      "metadata": {
        "id": "SHbXfzkPcdUY"
      },
      "execution_count": 3,
      "outputs": []
    },
    {
      "cell_type": "code",
      "source": [
        "# Example Usage\n",
        "vectors = read_vectors('example_vectors.txt')  # Assuming vectors are stored in 'vectors.txt'\n",
        "\n",
        "# Map: Double each element in each vector\n",
        "doubled_vectors = map_vectors(lambda vector: [x * 2 for x in vector], vectors)\n",
        "\n",
        "# Filter: Keep vectors where the first element is positive\n",
        "positive_vectors = filter_vectors(lambda vector: vector[0] > 0, vectors)\n",
        "\n",
        "# Sort: Sort vectors by the second column in descending order\n",
        "sorted_vectors = sort_vectors_by_column(vectors, column_index=1, reverse=True)\n",
        "\n",
        "# Zip: Combine two lists of vectors\n",
        "zipped_vectors = zip_vectors(vectors, doubled_vectors)\n",
        "\n",
        "# Concat: Concatenate two lists of vectors\n",
        "concatenated_vectors = concat_vectors(vectors, doubled_vectors)\n",
        "\n",
        "# Cut: Get vectors from index 2 to 5\n",
        "cut_vectors_result = cut_vectors(vectors, start_index=2, end_index=5)\n",
        "\n"
      ],
      "metadata": {
        "id": "k0ILIH3IcSKx"
      },
      "execution_count": null,
      "outputs": []
    },
    {
      "cell_type": "code",
      "source": [
        "# Example Usage\n",
        "\n",
        "\n",
        "\n",
        "vectors = read_vectors('example_vectors.txt')  # Assuming vectors are stored in 'vectors.txt'\n",
        "bool_vector = read_bool_vector('example_bool_vector.txt')  # Assuming boolean strings are in 'bool_vector.txt'\n",
        "\n",
        "# Add the boolean vector as the first dimension to the existing vectors\n",
        "vectors_with_new_dim = add_dimension(vectors, bool_vector)\n",
        "\n",
        "print (vectors_with_new_dim)\n",
        "print(type(vectors_with_new_dim))\n",
        "print_vector_info(vectors_with_new_dim)\n"
      ],
      "metadata": {
        "id": "TObA_tagdRQu"
      },
      "execution_count": null,
      "outputs": []
    },
    {
      "cell_type": "code",
      "source": [
        "def process_vectors(activations_filename, correctness_vals, sort_range):\n",
        "  vectors = read_vectors(activations_filename)  # Assuming vectors are stored in 'vectors.txt'\n",
        "  bool_vector = read_bool_vector(correctness_vals)  # Assuming boolean strings are in 'bool_vector.txt'\n",
        "  print_vector_info(vectors)\n",
        "  print(f\"bool_vector {bool_vector}\")\n",
        "\n",
        "  # Add the boolean vector as the first dimension to the existing vectors\n",
        "  merged_vectors = add_dimension(vectors, bool_vector)\n",
        "  print(f\"merged_vectors {merged_vectors}\")\n",
        "  print_vector_info(merged_vectors)\n",
        "  #merged_vectors = squeeze_columns(merged_vectors, 1, 6)\n",
        "  #merged_vectors = squeeze_columns(merged_vectors, 8, 11)\n",
        "  print(f\"merged_vectors squeezed {merged_vectors}\")\n",
        "  print_vector_info(merged_vectors)\n",
        "  sort_column = 13\n",
        "  process_vectors2(merged_vectors, sort_range)\n",
        "\n",
        "def process_vectors2(merged_vectors, sort_range):\n",
        "  if sort_range is None:\n",
        "    sorted_vectors = merged_vectors\n",
        "    result = process_vectors3(sorted_vectors)\n",
        "    print(f\"output {result}\")\n",
        "    print_vector_info(result)\n",
        "    visualize_output(result)\n",
        "  else:\n",
        "    for sort_column in sort_range:\n",
        "      sorted_vectors = sort_vectors_by_column(merged_vectors, column_index=sort_column)\n",
        "      result = process_vectors3(sorted_vectors)\n",
        "      print(f\"output {result}\")\n",
        "      print_vector_info(result)\n",
        "      visualize_output(result)\n",
        "  #sorted_vectors = merged_vectors\n",
        "  #sorted_vectors = filter_vectors(lambda vector: vector[0] == 1.0, sorted_vectors)\n",
        "\n",
        "  #print (f\"sorted_vectors {sorted_vectors}\")\n",
        "  #print_vector_info(sorted_vectors)\n",
        "\n",
        "def process_vectors3(sorted_vectors):\n",
        "    # 2. Compare adjacent elements in each column and generate output\n",
        "  output = []\n",
        "  for i in range(len(sorted_vectors)):\n",
        "    current_vector_output = []  # Output for the current vector\n",
        "    # Skip the first row for comparison\n",
        "    if i > 0:\n",
        "      for j in range(1, len(sorted_vectors[i])):  # Start from the second column (index 1)\n",
        "        if sorted_vectors[i][j] > sorted_vectors[i - 1][j]:\n",
        "          current_vector_output.append(3)\n",
        "        elif sorted_vectors[i][j] == sorted_vectors[i - 1][j]:\n",
        "          current_vector_output.append(2)\n",
        "        else:\n",
        "          current_vector_output.append(1)\n",
        "      output.append(current_vector_output)  # Append output for current vector to overall output\n",
        "  return output\n",
        "\n",
        "\n",
        "process_vectors('example_vectors.txt', 'example_bool_vector.txt', None)\n",
        "process_vectors('example_vectors.txt', 'example_bool_vector.txt', range(1,3))\n",
        "\n",
        "\n"
      ],
      "metadata": {
        "colab": {
          "base_uri": "https://localhost:8080/",
          "height": 408
        },
        "id": "4BShQ7lWenvw",
        "outputId": "e7f56fe6-ad11-4f34-fc06-837f06b161ea"
      },
      "execution_count": 8,
      "outputs": [
        {
          "output_type": "error",
          "ename": "FileNotFoundError",
          "evalue": "[Errno 2] No such file or directory: 'example_vectors.txt'",
          "traceback": [
            "\u001b[0;31m---------------------------------------------------------------------------\u001b[0m",
            "\u001b[0;31mFileNotFoundError\u001b[0m                         Traceback (most recent call last)",
            "\u001b[0;32m<ipython-input-8-4a8bf1f47247>\u001b[0m in \u001b[0;36m<cell line: 0>\u001b[0;34m()\u001b[0m\n\u001b[1;32m     54\u001b[0m \u001b[0;34m\u001b[0m\u001b[0m\n\u001b[1;32m     55\u001b[0m \u001b[0;34m\u001b[0m\u001b[0m\n\u001b[0;32m---> 56\u001b[0;31m \u001b[0mprocess_vectors\u001b[0m\u001b[0;34m(\u001b[0m\u001b[0;34m'example_vectors.txt'\u001b[0m\u001b[0;34m,\u001b[0m \u001b[0;34m'example_bool_vector.txt'\u001b[0m\u001b[0;34m,\u001b[0m \u001b[0;32mNone\u001b[0m\u001b[0;34m)\u001b[0m\u001b[0;34m\u001b[0m\u001b[0;34m\u001b[0m\u001b[0m\n\u001b[0m\u001b[1;32m     57\u001b[0m \u001b[0mprocess_vectors\u001b[0m\u001b[0;34m(\u001b[0m\u001b[0;34m'example_vectors.txt'\u001b[0m\u001b[0;34m,\u001b[0m \u001b[0;34m'example_bool_vector.txt'\u001b[0m\u001b[0;34m,\u001b[0m \u001b[0mrange\u001b[0m\u001b[0;34m(\u001b[0m\u001b[0;36m1\u001b[0m\u001b[0;34m,\u001b[0m\u001b[0;36m3\u001b[0m\u001b[0;34m)\u001b[0m\u001b[0;34m)\u001b[0m\u001b[0;34m\u001b[0m\u001b[0;34m\u001b[0m\u001b[0m\n\u001b[1;32m     58\u001b[0m \u001b[0;34m\u001b[0m\u001b[0m\n",
            "\u001b[0;32m<ipython-input-8-4a8bf1f47247>\u001b[0m in \u001b[0;36mprocess_vectors\u001b[0;34m(activations_filename, correctness_vals, sort_range)\u001b[0m\n\u001b[1;32m      1\u001b[0m \u001b[0;32mdef\u001b[0m \u001b[0mprocess_vectors\u001b[0m\u001b[0;34m(\u001b[0m\u001b[0mactivations_filename\u001b[0m\u001b[0;34m,\u001b[0m \u001b[0mcorrectness_vals\u001b[0m\u001b[0;34m,\u001b[0m \u001b[0msort_range\u001b[0m\u001b[0;34m)\u001b[0m\u001b[0;34m:\u001b[0m\u001b[0;34m\u001b[0m\u001b[0;34m\u001b[0m\u001b[0m\n\u001b[0;32m----> 2\u001b[0;31m   \u001b[0mvectors\u001b[0m \u001b[0;34m=\u001b[0m \u001b[0mread_vectors\u001b[0m\u001b[0;34m(\u001b[0m\u001b[0mactivations_filename\u001b[0m\u001b[0;34m)\u001b[0m  \u001b[0;31m# Assuming vectors are stored in 'vectors.txt'\u001b[0m\u001b[0;34m\u001b[0m\u001b[0;34m\u001b[0m\u001b[0m\n\u001b[0m\u001b[1;32m      3\u001b[0m   \u001b[0mbool_vector\u001b[0m \u001b[0;34m=\u001b[0m \u001b[0mread_bool_vector\u001b[0m\u001b[0;34m(\u001b[0m\u001b[0mcorrectness_vals\u001b[0m\u001b[0;34m)\u001b[0m  \u001b[0;31m# Assuming boolean strings are in 'bool_vector.txt'\u001b[0m\u001b[0;34m\u001b[0m\u001b[0;34m\u001b[0m\u001b[0m\n\u001b[1;32m      4\u001b[0m   \u001b[0mprint_vector_info\u001b[0m\u001b[0;34m(\u001b[0m\u001b[0mvectors\u001b[0m\u001b[0;34m)\u001b[0m\u001b[0;34m\u001b[0m\u001b[0;34m\u001b[0m\u001b[0m\n\u001b[1;32m      5\u001b[0m   \u001b[0mprint\u001b[0m\u001b[0;34m(\u001b[0m\u001b[0;34mf\"bool_vector {bool_vector}\"\u001b[0m\u001b[0;34m)\u001b[0m\u001b[0;34m\u001b[0m\u001b[0;34m\u001b[0m\u001b[0m\n",
            "\u001b[0;32m<ipython-input-3-4bb7c57216c9>\u001b[0m in \u001b[0;36mread_vectors\u001b[0;34m(filepath)\u001b[0m\n\u001b[1;32m      1\u001b[0m \u001b[0;32mdef\u001b[0m \u001b[0mread_vectors\u001b[0m\u001b[0;34m(\u001b[0m\u001b[0mfilepath\u001b[0m\u001b[0;34m:\u001b[0m \u001b[0mstr\u001b[0m\u001b[0;34m)\u001b[0m \u001b[0;34m->\u001b[0m \u001b[0mList\u001b[0m\u001b[0;34m[\u001b[0m\u001b[0mList\u001b[0m\u001b[0;34m[\u001b[0m\u001b[0mfloat\u001b[0m\u001b[0;34m]\u001b[0m\u001b[0;34m]\u001b[0m\u001b[0;34m:\u001b[0m\u001b[0;34m\u001b[0m\u001b[0;34m\u001b[0m\u001b[0m\n\u001b[1;32m      2\u001b[0m   \u001b[0;34m\"\"\"Reads a file containing newline-separated vectors and returns a list of vectors.\"\"\"\u001b[0m\u001b[0;34m\u001b[0m\u001b[0;34m\u001b[0m\u001b[0m\n\u001b[0;32m----> 3\u001b[0;31m   \u001b[0;32mwith\u001b[0m \u001b[0mopen\u001b[0m\u001b[0;34m(\u001b[0m\u001b[0mfilepath\u001b[0m\u001b[0;34m,\u001b[0m \u001b[0;34m'r'\u001b[0m\u001b[0;34m)\u001b[0m \u001b[0;32mas\u001b[0m \u001b[0mfile\u001b[0m\u001b[0;34m:\u001b[0m\u001b[0;34m\u001b[0m\u001b[0;34m\u001b[0m\u001b[0m\n\u001b[0m\u001b[1;32m      4\u001b[0m      \u001b[0;32mreturn\u001b[0m \u001b[0;34m[\u001b[0m\u001b[0;34m[\u001b[0m\u001b[0mfloat\u001b[0m\u001b[0;34m(\u001b[0m\u001b[0mnum\u001b[0m\u001b[0;34m)\u001b[0m \u001b[0;32mfor\u001b[0m \u001b[0mnum\u001b[0m \u001b[0;32min\u001b[0m \u001b[0mline\u001b[0m\u001b[0;34m.\u001b[0m\u001b[0msplit\u001b[0m\u001b[0;34m(\u001b[0m\u001b[0;34m)\u001b[0m\u001b[0;34m]\u001b[0m \u001b[0;32mfor\u001b[0m \u001b[0mline\u001b[0m \u001b[0;32min\u001b[0m \u001b[0mfile\u001b[0m \u001b[0;32mif\u001b[0m \u001b[0mline\u001b[0m\u001b[0;34m.\u001b[0m\u001b[0mstrip\u001b[0m\u001b[0;34m(\u001b[0m\u001b[0;34m)\u001b[0m\u001b[0;34m]\u001b[0m\u001b[0;34m\u001b[0m\u001b[0;34m\u001b[0m\u001b[0m\n\u001b[1;32m      5\u001b[0m \u001b[0;34m\u001b[0m\u001b[0m\n",
            "\u001b[0;31mFileNotFoundError\u001b[0m: [Errno 2] No such file or directory: 'example_vectors.txt'"
          ]
        }
      ]
    },
    {
      "cell_type": "code",
      "source": [
        "\n",
        "\n",
        "#process_vectors('activations_fc_input_d64_h1_epoch_4_test.txt', 'corrects_list_d64_h1_epoch_4_test.txt', range(1,64))\n",
        "process_vectors('activations_fc_input_d64_h1_epoch_4_test.txt', 'corrects_list_d64_h1_epoch_4_test.txt', None)\n",
        "\n"
      ],
      "metadata": {
        "id": "7w2jaMTQoBaM"
      },
      "execution_count": null,
      "outputs": []
    }
  ]
}